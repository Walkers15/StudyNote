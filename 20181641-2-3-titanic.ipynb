{
 "cells": [
  {
   "cell_type": "code",
   "execution_count": 1,
   "id": "24fb98a2",
   "metadata": {
    "execution": {
     "iopub.execute_input": "2022-12-09T01:42:25.563765Z",
     "iopub.status.busy": "2022-12-09T01:42:25.562799Z",
     "iopub.status.idle": "2022-12-09T01:42:25.576230Z",
     "shell.execute_reply": "2022-12-09T01:42:25.575344Z"
    },
    "papermill": {
     "duration": 0.052066,
     "end_time": "2022-12-09T01:42:25.580195",
     "exception": false,
     "start_time": "2022-12-09T01:42:25.528129",
     "status": "completed"
    },
    "tags": []
   },
   "outputs": [
    {
     "name": "stdout",
     "output_type": "stream",
     "text": [
      "/kaggle/input/titanic/train.csv\n",
      "/kaggle/input/titanic/test.csv\n",
      "/kaggle/input/titanic/gender_submission.csv\n"
     ]
    }
   ],
   "source": [
    "# This Python 3 environment comes with many helpful analytics libraries installed\n",
    "# It is defined by the kaggle/python Docker image: https://github.com/kaggle/docker-python\n",
    "# For example, here's several helpful packages to load\n",
    "\n",
    "import numpy as np # linear algebra\n",
    "import pandas as pd # data processing, CSV file I/O (e.g. pd.read_csv)\n",
    "\n",
    "# Input data files are available in the read-only \"../input/\" directory\n",
    "# For example, running this (by clicking run or pressing Shift+Enter) will list all files under the input directory\n",
    "\n",
    "import os\n",
    "for dirname, _, filenames in os.walk('/kaggle/input'):\n",
    "    for filename in filenames:\n",
    "        print(os.path.join(dirname, filename))\n",
    "\n",
    "# You can write up to 20GB to the current directory (/kaggle/working/) that gets preserved as output when you create a version using \"Save & Run All\" \n",
    "# You can also write temporary files to /kaggle/temp/, but they won't be saved outside of the current session"
   ]
  },
  {
   "cell_type": "code",
   "execution_count": 2,
   "id": "d5ea588f",
   "metadata": {
    "execution": {
     "iopub.execute_input": "2022-12-09T01:42:25.641706Z",
     "iopub.status.busy": "2022-12-09T01:42:25.640500Z",
     "iopub.status.idle": "2022-12-09T01:42:25.670622Z",
     "shell.execute_reply": "2022-12-09T01:42:25.669351Z"
    },
    "papermill": {
     "duration": 0.062526,
     "end_time": "2022-12-09T01:42:25.673371",
     "exception": false,
     "start_time": "2022-12-09T01:42:25.610845",
     "status": "completed"
    },
    "tags": []
   },
   "outputs": [],
   "source": [
    "train = pd.read_csv('/kaggle/input/titanic/train.csv')\n",
    "test = pd.read_csv('/kaggle/input/titanic/test.csv')"
   ]
  },
  {
   "cell_type": "markdown",
   "id": "80671b77",
   "metadata": {
    "papermill": {
     "duration": 0.027795,
     "end_time": "2022-12-09T01:42:25.729902",
     "exception": false,
     "start_time": "2022-12-09T01:42:25.702107",
     "status": "completed"
    },
    "tags": []
   },
   "source": [
    "PassengerId 는 필요없다.\n",
    "Sex 는 남/여 로 구분, 의미있는 정보라고 생각.\n",
    "Nam 은 어떻게 나눌 수 있을까?\n",
    "Pclass, Cabin 좌석별로 살 수 있는 차이가 확연히 날 것이라고 판단된다.\n",
    "-> 과연? 침몰시간에 사람들이 모두 자신들의 좌석에 있었다는 확신이 부족하다. 침몰시간을 살펴보자.\n",
    "Fare? 흠\n",
    "Embarked 어디서 탔는지.. 충분히 고려해볼만한 정보일 것\n",
    "남은건, Age, SibSp, Parch"
   ]
  },
  {
   "cell_type": "code",
   "execution_count": 3,
   "id": "1c2ad185",
   "metadata": {
    "execution": {
     "iopub.execute_input": "2022-12-09T01:42:25.787980Z",
     "iopub.status.busy": "2022-12-09T01:42:25.787290Z",
     "iopub.status.idle": "2022-12-09T01:42:26.900642Z",
     "shell.execute_reply": "2022-12-09T01:42:26.899527Z"
    },
    "papermill": {
     "duration": 1.145385,
     "end_time": "2022-12-09T01:42:26.903252",
     "exception": false,
     "start_time": "2022-12-09T01:42:25.757867",
     "status": "completed"
    },
    "tags": []
   },
   "outputs": [],
   "source": [
    "import matplotlib.pyplot as plt\n",
    "%matplotlib inline\n",
    "import seaborn as sns\n",
    "sns.set() #setting seaborn default for plots"
   ]
  },
  {
   "cell_type": "markdown",
   "id": "8ba84e1d",
   "metadata": {
    "papermill": {
     "duration": 0.027898,
     "end_time": "2022-12-09T01:42:26.959778",
     "exception": false,
     "start_time": "2022-12-09T01:42:26.931880",
     "status": "completed"
    },
    "tags": []
   },
   "source": [
    "### age에서 nan값을 채워줘야하는데, nan값을 가진 사람들의 특징을 고려해보아야 하지 않을까?"
   ]
  },
  {
   "cell_type": "code",
   "execution_count": 4,
   "id": "6db39eb4",
   "metadata": {
    "execution": {
     "iopub.execute_input": "2022-12-09T01:42:27.018941Z",
     "iopub.status.busy": "2022-12-09T01:42:27.018293Z",
     "iopub.status.idle": "2022-12-09T01:42:27.030511Z",
     "shell.execute_reply": "2022-12-09T01:42:27.029187Z"
    },
    "papermill": {
     "duration": 0.044994,
     "end_time": "2022-12-09T01:42:27.033190",
     "exception": false,
     "start_time": "2022-12-09T01:42:26.988196",
     "status": "completed"
    },
    "tags": []
   },
   "outputs": [],
   "source": [
    "age_nan_rows = train[train['Age'].isnull()]"
   ]
  },
  {
   "cell_type": "code",
   "execution_count": 5,
   "id": "de036f9c",
   "metadata": {
    "execution": {
     "iopub.execute_input": "2022-12-09T01:42:27.090041Z",
     "iopub.status.busy": "2022-12-09T01:42:27.089570Z",
     "iopub.status.idle": "2022-12-09T01:42:27.113367Z",
     "shell.execute_reply": "2022-12-09T01:42:27.111952Z"
    },
    "papermill": {
     "duration": 0.055527,
     "end_time": "2022-12-09T01:42:27.116236",
     "exception": false,
     "start_time": "2022-12-09T01:42:27.060709",
     "status": "completed"
    },
    "tags": []
   },
   "outputs": [
    {
     "data": {
      "text/html": [
       "<div>\n",
       "<style scoped>\n",
       "    .dataframe tbody tr th:only-of-type {\n",
       "        vertical-align: middle;\n",
       "    }\n",
       "\n",
       "    .dataframe tbody tr th {\n",
       "        vertical-align: top;\n",
       "    }\n",
       "\n",
       "    .dataframe thead th {\n",
       "        text-align: right;\n",
       "    }\n",
       "</style>\n",
       "<table border=\"1\" class=\"dataframe\">\n",
       "  <thead>\n",
       "    <tr style=\"text-align: right;\">\n",
       "      <th></th>\n",
       "      <th>PassengerId</th>\n",
       "      <th>Survived</th>\n",
       "      <th>Pclass</th>\n",
       "      <th>Name</th>\n",
       "      <th>Sex</th>\n",
       "      <th>Age</th>\n",
       "      <th>SibSp</th>\n",
       "      <th>Parch</th>\n",
       "      <th>Ticket</th>\n",
       "      <th>Fare</th>\n",
       "      <th>Cabin</th>\n",
       "      <th>Embarked</th>\n",
       "    </tr>\n",
       "  </thead>\n",
       "  <tbody>\n",
       "    <tr>\n",
       "      <th>5</th>\n",
       "      <td>6</td>\n",
       "      <td>0</td>\n",
       "      <td>3</td>\n",
       "      <td>Moran, Mr. James</td>\n",
       "      <td>male</td>\n",
       "      <td>NaN</td>\n",
       "      <td>0</td>\n",
       "      <td>0</td>\n",
       "      <td>330877</td>\n",
       "      <td>8.4583</td>\n",
       "      <td>NaN</td>\n",
       "      <td>Q</td>\n",
       "    </tr>\n",
       "    <tr>\n",
       "      <th>17</th>\n",
       "      <td>18</td>\n",
       "      <td>1</td>\n",
       "      <td>2</td>\n",
       "      <td>Williams, Mr. Charles Eugene</td>\n",
       "      <td>male</td>\n",
       "      <td>NaN</td>\n",
       "      <td>0</td>\n",
       "      <td>0</td>\n",
       "      <td>244373</td>\n",
       "      <td>13.0000</td>\n",
       "      <td>NaN</td>\n",
       "      <td>S</td>\n",
       "    </tr>\n",
       "    <tr>\n",
       "      <th>19</th>\n",
       "      <td>20</td>\n",
       "      <td>1</td>\n",
       "      <td>3</td>\n",
       "      <td>Masselmani, Mrs. Fatima</td>\n",
       "      <td>female</td>\n",
       "      <td>NaN</td>\n",
       "      <td>0</td>\n",
       "      <td>0</td>\n",
       "      <td>2649</td>\n",
       "      <td>7.2250</td>\n",
       "      <td>NaN</td>\n",
       "      <td>C</td>\n",
       "    </tr>\n",
       "    <tr>\n",
       "      <th>26</th>\n",
       "      <td>27</td>\n",
       "      <td>0</td>\n",
       "      <td>3</td>\n",
       "      <td>Emir, Mr. Farred Chehab</td>\n",
       "      <td>male</td>\n",
       "      <td>NaN</td>\n",
       "      <td>0</td>\n",
       "      <td>0</td>\n",
       "      <td>2631</td>\n",
       "      <td>7.2250</td>\n",
       "      <td>NaN</td>\n",
       "      <td>C</td>\n",
       "    </tr>\n",
       "    <tr>\n",
       "      <th>28</th>\n",
       "      <td>29</td>\n",
       "      <td>1</td>\n",
       "      <td>3</td>\n",
       "      <td>O'Dwyer, Miss. Ellen \"Nellie\"</td>\n",
       "      <td>female</td>\n",
       "      <td>NaN</td>\n",
       "      <td>0</td>\n",
       "      <td>0</td>\n",
       "      <td>330959</td>\n",
       "      <td>7.8792</td>\n",
       "      <td>NaN</td>\n",
       "      <td>Q</td>\n",
       "    </tr>\n",
       "  </tbody>\n",
       "</table>\n",
       "</div>"
      ],
      "text/plain": [
       "    PassengerId  Survived  Pclass                           Name     Sex  Age  \\\n",
       "5             6         0       3               Moran, Mr. James    male  NaN   \n",
       "17           18         1       2   Williams, Mr. Charles Eugene    male  NaN   \n",
       "19           20         1       3        Masselmani, Mrs. Fatima  female  NaN   \n",
       "26           27         0       3        Emir, Mr. Farred Chehab    male  NaN   \n",
       "28           29         1       3  O'Dwyer, Miss. Ellen \"Nellie\"  female  NaN   \n",
       "\n",
       "    SibSp  Parch  Ticket     Fare Cabin Embarked  \n",
       "5       0      0  330877   8.4583   NaN        Q  \n",
       "17      0      0  244373  13.0000   NaN        S  \n",
       "19      0      0    2649   7.2250   NaN        C  \n",
       "26      0      0    2631   7.2250   NaN        C  \n",
       "28      0      0  330959   7.8792   NaN        Q  "
      ]
     },
     "execution_count": 5,
     "metadata": {},
     "output_type": "execute_result"
    }
   ],
   "source": [
    "age_nan_rows.head()"
   ]
  },
  {
   "cell_type": "markdown",
   "id": "211c05f4",
   "metadata": {
    "papermill": {
     "duration": 0.028113,
     "end_time": "2022-12-09T01:42:27.173866",
     "exception": false,
     "start_time": "2022-12-09T01:42:27.145753",
     "status": "completed"
    },
    "tags": []
   },
   "source": [
    "### 먼저 가장 간단한 성별을 0,1로 표시"
   ]
  },
  {
   "cell_type": "code",
   "execution_count": 6,
   "id": "fa7c622f",
   "metadata": {
    "execution": {
     "iopub.execute_input": "2022-12-09T01:42:27.233126Z",
     "iopub.status.busy": "2022-12-09T01:42:27.232621Z",
     "iopub.status.idle": "2022-12-09T01:42:27.384786Z",
     "shell.execute_reply": "2022-12-09T01:42:27.383540Z"
    },
    "papermill": {
     "duration": 0.185705,
     "end_time": "2022-12-09T01:42:27.387601",
     "exception": false,
     "start_time": "2022-12-09T01:42:27.201896",
     "status": "completed"
    },
    "tags": []
   },
   "outputs": [],
   "source": [
    "from sklearn.preprocessing import LabelEncoder\n",
    "train['Sex'] = LabelEncoder().fit_transform(train['Sex'])\n",
    "test['Sex'] = LabelEncoder().fit_transform(test['Sex'])"
   ]
  },
  {
   "cell_type": "code",
   "execution_count": 7,
   "id": "73fd7394",
   "metadata": {
    "execution": {
     "iopub.execute_input": "2022-12-09T01:42:27.445830Z",
     "iopub.status.busy": "2022-12-09T01:42:27.445383Z",
     "iopub.status.idle": "2022-12-09T01:42:27.465676Z",
     "shell.execute_reply": "2022-12-09T01:42:27.464284Z"
    },
    "papermill": {
     "duration": 0.052437,
     "end_time": "2022-12-09T01:42:27.468375",
     "exception": false,
     "start_time": "2022-12-09T01:42:27.415938",
     "status": "completed"
    },
    "tags": []
   },
   "outputs": [
    {
     "data": {
      "text/html": [
       "<div>\n",
       "<style scoped>\n",
       "    .dataframe tbody tr th:only-of-type {\n",
       "        vertical-align: middle;\n",
       "    }\n",
       "\n",
       "    .dataframe tbody tr th {\n",
       "        vertical-align: top;\n",
       "    }\n",
       "\n",
       "    .dataframe thead th {\n",
       "        text-align: right;\n",
       "    }\n",
       "</style>\n",
       "<table border=\"1\" class=\"dataframe\">\n",
       "  <thead>\n",
       "    <tr style=\"text-align: right;\">\n",
       "      <th></th>\n",
       "      <th>PassengerId</th>\n",
       "      <th>Survived</th>\n",
       "      <th>Pclass</th>\n",
       "      <th>Name</th>\n",
       "      <th>Sex</th>\n",
       "      <th>Age</th>\n",
       "      <th>SibSp</th>\n",
       "      <th>Parch</th>\n",
       "      <th>Ticket</th>\n",
       "      <th>Fare</th>\n",
       "      <th>Cabin</th>\n",
       "      <th>Embarked</th>\n",
       "    </tr>\n",
       "  </thead>\n",
       "  <tbody>\n",
       "    <tr>\n",
       "      <th>0</th>\n",
       "      <td>1</td>\n",
       "      <td>0</td>\n",
       "      <td>3</td>\n",
       "      <td>Braund, Mr. Owen Harris</td>\n",
       "      <td>1</td>\n",
       "      <td>22.0</td>\n",
       "      <td>1</td>\n",
       "      <td>0</td>\n",
       "      <td>A/5 21171</td>\n",
       "      <td>7.2500</td>\n",
       "      <td>NaN</td>\n",
       "      <td>S</td>\n",
       "    </tr>\n",
       "    <tr>\n",
       "      <th>1</th>\n",
       "      <td>2</td>\n",
       "      <td>1</td>\n",
       "      <td>1</td>\n",
       "      <td>Cumings, Mrs. John Bradley (Florence Briggs Th...</td>\n",
       "      <td>0</td>\n",
       "      <td>38.0</td>\n",
       "      <td>1</td>\n",
       "      <td>0</td>\n",
       "      <td>PC 17599</td>\n",
       "      <td>71.2833</td>\n",
       "      <td>C85</td>\n",
       "      <td>C</td>\n",
       "    </tr>\n",
       "    <tr>\n",
       "      <th>2</th>\n",
       "      <td>3</td>\n",
       "      <td>1</td>\n",
       "      <td>3</td>\n",
       "      <td>Heikkinen, Miss. Laina</td>\n",
       "      <td>0</td>\n",
       "      <td>26.0</td>\n",
       "      <td>0</td>\n",
       "      <td>0</td>\n",
       "      <td>STON/O2. 3101282</td>\n",
       "      <td>7.9250</td>\n",
       "      <td>NaN</td>\n",
       "      <td>S</td>\n",
       "    </tr>\n",
       "    <tr>\n",
       "      <th>3</th>\n",
       "      <td>4</td>\n",
       "      <td>1</td>\n",
       "      <td>1</td>\n",
       "      <td>Futrelle, Mrs. Jacques Heath (Lily May Peel)</td>\n",
       "      <td>0</td>\n",
       "      <td>35.0</td>\n",
       "      <td>1</td>\n",
       "      <td>0</td>\n",
       "      <td>113803</td>\n",
       "      <td>53.1000</td>\n",
       "      <td>C123</td>\n",
       "      <td>S</td>\n",
       "    </tr>\n",
       "    <tr>\n",
       "      <th>4</th>\n",
       "      <td>5</td>\n",
       "      <td>0</td>\n",
       "      <td>3</td>\n",
       "      <td>Allen, Mr. William Henry</td>\n",
       "      <td>1</td>\n",
       "      <td>35.0</td>\n",
       "      <td>0</td>\n",
       "      <td>0</td>\n",
       "      <td>373450</td>\n",
       "      <td>8.0500</td>\n",
       "      <td>NaN</td>\n",
       "      <td>S</td>\n",
       "    </tr>\n",
       "    <tr>\n",
       "      <th>5</th>\n",
       "      <td>6</td>\n",
       "      <td>0</td>\n",
       "      <td>3</td>\n",
       "      <td>Moran, Mr. James</td>\n",
       "      <td>1</td>\n",
       "      <td>NaN</td>\n",
       "      <td>0</td>\n",
       "      <td>0</td>\n",
       "      <td>330877</td>\n",
       "      <td>8.4583</td>\n",
       "      <td>NaN</td>\n",
       "      <td>Q</td>\n",
       "    </tr>\n",
       "    <tr>\n",
       "      <th>6</th>\n",
       "      <td>7</td>\n",
       "      <td>0</td>\n",
       "      <td>1</td>\n",
       "      <td>McCarthy, Mr. Timothy J</td>\n",
       "      <td>1</td>\n",
       "      <td>54.0</td>\n",
       "      <td>0</td>\n",
       "      <td>0</td>\n",
       "      <td>17463</td>\n",
       "      <td>51.8625</td>\n",
       "      <td>E46</td>\n",
       "      <td>S</td>\n",
       "    </tr>\n",
       "    <tr>\n",
       "      <th>7</th>\n",
       "      <td>8</td>\n",
       "      <td>0</td>\n",
       "      <td>3</td>\n",
       "      <td>Palsson, Master. Gosta Leonard</td>\n",
       "      <td>1</td>\n",
       "      <td>2.0</td>\n",
       "      <td>3</td>\n",
       "      <td>1</td>\n",
       "      <td>349909</td>\n",
       "      <td>21.0750</td>\n",
       "      <td>NaN</td>\n",
       "      <td>S</td>\n",
       "    </tr>\n",
       "    <tr>\n",
       "      <th>8</th>\n",
       "      <td>9</td>\n",
       "      <td>1</td>\n",
       "      <td>3</td>\n",
       "      <td>Johnson, Mrs. Oscar W (Elisabeth Vilhelmina Berg)</td>\n",
       "      <td>0</td>\n",
       "      <td>27.0</td>\n",
       "      <td>0</td>\n",
       "      <td>2</td>\n",
       "      <td>347742</td>\n",
       "      <td>11.1333</td>\n",
       "      <td>NaN</td>\n",
       "      <td>S</td>\n",
       "    </tr>\n",
       "    <tr>\n",
       "      <th>9</th>\n",
       "      <td>10</td>\n",
       "      <td>1</td>\n",
       "      <td>2</td>\n",
       "      <td>Nasser, Mrs. Nicholas (Adele Achem)</td>\n",
       "      <td>0</td>\n",
       "      <td>14.0</td>\n",
       "      <td>1</td>\n",
       "      <td>0</td>\n",
       "      <td>237736</td>\n",
       "      <td>30.0708</td>\n",
       "      <td>NaN</td>\n",
       "      <td>C</td>\n",
       "    </tr>\n",
       "  </tbody>\n",
       "</table>\n",
       "</div>"
      ],
      "text/plain": [
       "   PassengerId  Survived  Pclass  \\\n",
       "0            1         0       3   \n",
       "1            2         1       1   \n",
       "2            3         1       3   \n",
       "3            4         1       1   \n",
       "4            5         0       3   \n",
       "5            6         0       3   \n",
       "6            7         0       1   \n",
       "7            8         0       3   \n",
       "8            9         1       3   \n",
       "9           10         1       2   \n",
       "\n",
       "                                                Name  Sex   Age  SibSp  Parch  \\\n",
       "0                            Braund, Mr. Owen Harris    1  22.0      1      0   \n",
       "1  Cumings, Mrs. John Bradley (Florence Briggs Th...    0  38.0      1      0   \n",
       "2                             Heikkinen, Miss. Laina    0  26.0      0      0   \n",
       "3       Futrelle, Mrs. Jacques Heath (Lily May Peel)    0  35.0      1      0   \n",
       "4                           Allen, Mr. William Henry    1  35.0      0      0   \n",
       "5                                   Moran, Mr. James    1   NaN      0      0   \n",
       "6                            McCarthy, Mr. Timothy J    1  54.0      0      0   \n",
       "7                     Palsson, Master. Gosta Leonard    1   2.0      3      1   \n",
       "8  Johnson, Mrs. Oscar W (Elisabeth Vilhelmina Berg)    0  27.0      0      2   \n",
       "9                Nasser, Mrs. Nicholas (Adele Achem)    0  14.0      1      0   \n",
       "\n",
       "             Ticket     Fare Cabin Embarked  \n",
       "0         A/5 21171   7.2500   NaN        S  \n",
       "1          PC 17599  71.2833   C85        C  \n",
       "2  STON/O2. 3101282   7.9250   NaN        S  \n",
       "3            113803  53.1000  C123        S  \n",
       "4            373450   8.0500   NaN        S  \n",
       "5            330877   8.4583   NaN        Q  \n",
       "6             17463  51.8625   E46        S  \n",
       "7            349909  21.0750   NaN        S  \n",
       "8            347742  11.1333   NaN        S  \n",
       "9            237736  30.0708   NaN        C  "
      ]
     },
     "execution_count": 7,
     "metadata": {},
     "output_type": "execute_result"
    }
   ],
   "source": [
    "train.head(10)"
   ]
  },
  {
   "cell_type": "code",
   "execution_count": 8,
   "id": "55e33035",
   "metadata": {
    "execution": {
     "iopub.execute_input": "2022-12-09T01:42:27.527181Z",
     "iopub.status.busy": "2022-12-09T01:42:27.526740Z",
     "iopub.status.idle": "2022-12-09T01:42:27.543748Z",
     "shell.execute_reply": "2022-12-09T01:42:27.542583Z"
    },
    "papermill": {
     "duration": 0.049568,
     "end_time": "2022-12-09T01:42:27.546287",
     "exception": false,
     "start_time": "2022-12-09T01:42:27.496719",
     "status": "completed"
    },
    "tags": []
   },
   "outputs": [
    {
     "data": {
      "text/html": [
       "<div>\n",
       "<style scoped>\n",
       "    .dataframe tbody tr th:only-of-type {\n",
       "        vertical-align: middle;\n",
       "    }\n",
       "\n",
       "    .dataframe tbody tr th {\n",
       "        vertical-align: top;\n",
       "    }\n",
       "\n",
       "    .dataframe thead th {\n",
       "        text-align: right;\n",
       "    }\n",
       "</style>\n",
       "<table border=\"1\" class=\"dataframe\">\n",
       "  <thead>\n",
       "    <tr style=\"text-align: right;\">\n",
       "      <th></th>\n",
       "      <th>PassengerId</th>\n",
       "      <th>Pclass</th>\n",
       "      <th>Name</th>\n",
       "      <th>Sex</th>\n",
       "      <th>Age</th>\n",
       "      <th>SibSp</th>\n",
       "      <th>Parch</th>\n",
       "      <th>Ticket</th>\n",
       "      <th>Fare</th>\n",
       "      <th>Cabin</th>\n",
       "      <th>Embarked</th>\n",
       "    </tr>\n",
       "  </thead>\n",
       "  <tbody>\n",
       "    <tr>\n",
       "      <th>0</th>\n",
       "      <td>892</td>\n",
       "      <td>3</td>\n",
       "      <td>Kelly, Mr. James</td>\n",
       "      <td>1</td>\n",
       "      <td>34.5</td>\n",
       "      <td>0</td>\n",
       "      <td>0</td>\n",
       "      <td>330911</td>\n",
       "      <td>7.8292</td>\n",
       "      <td>NaN</td>\n",
       "      <td>Q</td>\n",
       "    </tr>\n",
       "    <tr>\n",
       "      <th>1</th>\n",
       "      <td>893</td>\n",
       "      <td>3</td>\n",
       "      <td>Wilkes, Mrs. James (Ellen Needs)</td>\n",
       "      <td>0</td>\n",
       "      <td>47.0</td>\n",
       "      <td>1</td>\n",
       "      <td>0</td>\n",
       "      <td>363272</td>\n",
       "      <td>7.0000</td>\n",
       "      <td>NaN</td>\n",
       "      <td>S</td>\n",
       "    </tr>\n",
       "    <tr>\n",
       "      <th>2</th>\n",
       "      <td>894</td>\n",
       "      <td>2</td>\n",
       "      <td>Myles, Mr. Thomas Francis</td>\n",
       "      <td>1</td>\n",
       "      <td>62.0</td>\n",
       "      <td>0</td>\n",
       "      <td>0</td>\n",
       "      <td>240276</td>\n",
       "      <td>9.6875</td>\n",
       "      <td>NaN</td>\n",
       "      <td>Q</td>\n",
       "    </tr>\n",
       "    <tr>\n",
       "      <th>3</th>\n",
       "      <td>895</td>\n",
       "      <td>3</td>\n",
       "      <td>Wirz, Mr. Albert</td>\n",
       "      <td>1</td>\n",
       "      <td>27.0</td>\n",
       "      <td>0</td>\n",
       "      <td>0</td>\n",
       "      <td>315154</td>\n",
       "      <td>8.6625</td>\n",
       "      <td>NaN</td>\n",
       "      <td>S</td>\n",
       "    </tr>\n",
       "    <tr>\n",
       "      <th>4</th>\n",
       "      <td>896</td>\n",
       "      <td>3</td>\n",
       "      <td>Hirvonen, Mrs. Alexander (Helga E Lindqvist)</td>\n",
       "      <td>0</td>\n",
       "      <td>22.0</td>\n",
       "      <td>1</td>\n",
       "      <td>1</td>\n",
       "      <td>3101298</td>\n",
       "      <td>12.2875</td>\n",
       "      <td>NaN</td>\n",
       "      <td>S</td>\n",
       "    </tr>\n",
       "  </tbody>\n",
       "</table>\n",
       "</div>"
      ],
      "text/plain": [
       "   PassengerId  Pclass                                          Name  Sex  \\\n",
       "0          892       3                              Kelly, Mr. James    1   \n",
       "1          893       3              Wilkes, Mrs. James (Ellen Needs)    0   \n",
       "2          894       2                     Myles, Mr. Thomas Francis    1   \n",
       "3          895       3                              Wirz, Mr. Albert    1   \n",
       "4          896       3  Hirvonen, Mrs. Alexander (Helga E Lindqvist)    0   \n",
       "\n",
       "    Age  SibSp  Parch   Ticket     Fare Cabin Embarked  \n",
       "0  34.5      0      0   330911   7.8292   NaN        Q  \n",
       "1  47.0      1      0   363272   7.0000   NaN        S  \n",
       "2  62.0      0      0   240276   9.6875   NaN        Q  \n",
       "3  27.0      0      0   315154   8.6625   NaN        S  \n",
       "4  22.0      1      1  3101298  12.2875   NaN        S  "
      ]
     },
     "execution_count": 8,
     "metadata": {},
     "output_type": "execute_result"
    }
   ],
   "source": [
    "test.head()"
   ]
  },
  {
   "cell_type": "markdown",
   "id": "0b8659b8",
   "metadata": {
    "papermill": {
     "duration": 0.028156,
     "end_time": "2022-12-09T01:42:27.603334",
     "exception": false,
     "start_time": "2022-12-09T01:42:27.575178",
     "status": "completed"
    },
    "tags": []
   },
   "source": [
    "### 이름의 뒷부분을 고려하기엔 케이스가 너무 많아진다. 이름에서 앞의 성만 따서 생각해보자."
   ]
  },
  {
   "cell_type": "code",
   "execution_count": 9,
   "id": "aca6a689",
   "metadata": {
    "execution": {
     "iopub.execute_input": "2022-12-09T01:42:27.663199Z",
     "iopub.status.busy": "2022-12-09T01:42:27.662749Z",
     "iopub.status.idle": "2022-12-09T01:42:27.679204Z",
     "shell.execute_reply": "2022-12-09T01:42:27.678204Z"
    },
    "papermill": {
     "duration": 0.049552,
     "end_time": "2022-12-09T01:42:27.681494",
     "exception": false,
     "start_time": "2022-12-09T01:42:27.631942",
     "status": "completed"
    },
    "tags": []
   },
   "outputs": [
    {
     "data": {
      "text/plain": [
       "array(['Mr', 'Mrs', 'Miss', 'Master', 'Ms', 'Col', 'Rev', 'Dr', 'Dona'],\n",
       "      dtype=object)"
      ]
     },
     "execution_count": 9,
     "metadata": {},
     "output_type": "execute_result"
    }
   ],
   "source": [
    "train['Name'] = train['Name'].map(lambda x: x.split(',')[1].split('.')[0].strip())\n",
    "titles = train['Name'].unique()\n",
    "titles\n",
    "test['Name'] = test['Name'].map(lambda x: x.split(',')[1].split('.')[0].strip())\n",
    "test_titles = test['Name'].unique()\n",
    "test_titles"
   ]
  },
  {
   "cell_type": "code",
   "execution_count": 10,
   "id": "7da3238a",
   "metadata": {
    "execution": {
     "iopub.execute_input": "2022-12-09T01:42:27.742881Z",
     "iopub.status.busy": "2022-12-09T01:42:27.742398Z",
     "iopub.status.idle": "2022-12-09T01:42:27.749299Z",
     "shell.execute_reply": "2022-12-09T01:42:27.748080Z"
    },
    "papermill": {
     "duration": 0.039927,
     "end_time": "2022-12-09T01:42:27.751723",
     "exception": false,
     "start_time": "2022-12-09T01:42:27.711796",
     "status": "completed"
    },
    "tags": []
   },
   "outputs": [
    {
     "data": {
      "text/plain": [
       "array(['Mr', 'Mrs', 'Miss', 'Master', 'Don', 'Rev', 'Dr', 'Mme', 'Ms',\n",
       "       'Major', 'Lady', 'Sir', 'Mlle', 'Col', 'Capt', 'the Countess',\n",
       "       'Jonkheer'], dtype=object)"
      ]
     },
     "execution_count": 10,
     "metadata": {},
     "output_type": "execute_result"
    }
   ],
   "source": [
    "titles"
   ]
  },
  {
   "cell_type": "code",
   "execution_count": 11,
   "id": "b70e893d",
   "metadata": {
    "execution": {
     "iopub.execute_input": "2022-12-09T01:42:27.812639Z",
     "iopub.status.busy": "2022-12-09T01:42:27.812212Z",
     "iopub.status.idle": "2022-12-09T01:42:27.819969Z",
     "shell.execute_reply": "2022-12-09T01:42:27.818652Z"
    },
    "papermill": {
     "duration": 0.041529,
     "end_time": "2022-12-09T01:42:27.822962",
     "exception": false,
     "start_time": "2022-12-09T01:42:27.781433",
     "status": "completed"
    },
    "tags": []
   },
   "outputs": [
    {
     "data": {
      "text/plain": [
       "array(['Mr', 'Mrs', 'Miss', 'Master', 'Ms', 'Col', 'Rev', 'Dr', 'Dona'],\n",
       "      dtype=object)"
      ]
     },
     "execution_count": 11,
     "metadata": {},
     "output_type": "execute_result"
    }
   ],
   "source": [
    "test_titles"
   ]
  },
  {
   "cell_type": "markdown",
   "id": "5e1efda7",
   "metadata": {
    "papermill": {
     "duration": 0.029228,
     "end_time": "2022-12-09T01:42:27.883061",
     "exception": false,
     "start_time": "2022-12-09T01:42:27.853833",
     "status": "completed"
    },
    "tags": []
   },
   "source": [
    "### 나이의 nan값을 채워주기 위해서, 이름의 성별로 중간값을 구하자.\n",
    "남자별, 여자별로 나누어도 좋지만 성별로 하는 것이 더 정확하지 않을까?\n",
    "\n",
    "하지만 성별로 나누는 것도 정확한 기준이 부족하다. 해당 부분에 대해서 좀 더 생각해볼 필요가 있다."
   ]
  },
  {
   "cell_type": "code",
   "execution_count": 12,
   "id": "95becf67",
   "metadata": {
    "execution": {
     "iopub.execute_input": "2022-12-09T01:42:27.942917Z",
     "iopub.status.busy": "2022-12-09T01:42:27.942487Z",
     "iopub.status.idle": "2022-12-09T01:42:27.966307Z",
     "shell.execute_reply": "2022-12-09T01:42:27.965113Z"
    },
    "papermill": {
     "duration": 0.056835,
     "end_time": "2022-12-09T01:42:27.968967",
     "exception": false,
     "start_time": "2022-12-09T01:42:27.912132",
     "status": "completed"
    },
    "tags": []
   },
   "outputs": [],
   "source": [
    "train['Age'].fillna(-1, inplace=True)\n",
    "test['Age'].fillna(-1, inplace=True)\n",
    "\n",
    "medians = dict()\n",
    "for title in titles:\n",
    "    median = train.Age[(train[\"Age\"] != -1) & (train['Name'] == title)].median()\n",
    "    medians[title] = median"
   ]
  },
  {
   "cell_type": "code",
   "execution_count": 13,
   "id": "fdfb6f05",
   "metadata": {
    "execution": {
     "iopub.execute_input": "2022-12-09T01:42:28.030161Z",
     "iopub.status.busy": "2022-12-09T01:42:28.029389Z",
     "iopub.status.idle": "2022-12-09T01:42:28.188930Z",
     "shell.execute_reply": "2022-12-09T01:42:28.187746Z"
    },
    "papermill": {
     "duration": 0.193207,
     "end_time": "2022-12-09T01:42:28.191648",
     "exception": false,
     "start_time": "2022-12-09T01:42:27.998441",
     "status": "completed"
    },
    "tags": []
   },
   "outputs": [
    {
     "data": {
      "text/html": [
       "<div>\n",
       "<style scoped>\n",
       "    .dataframe tbody tr th:only-of-type {\n",
       "        vertical-align: middle;\n",
       "    }\n",
       "\n",
       "    .dataframe tbody tr th {\n",
       "        vertical-align: top;\n",
       "    }\n",
       "\n",
       "    .dataframe thead th {\n",
       "        text-align: right;\n",
       "    }\n",
       "</style>\n",
       "<table border=\"1\" class=\"dataframe\">\n",
       "  <thead>\n",
       "    <tr style=\"text-align: right;\">\n",
       "      <th></th>\n",
       "      <th>PassengerId</th>\n",
       "      <th>Survived</th>\n",
       "      <th>Pclass</th>\n",
       "      <th>Name</th>\n",
       "      <th>Sex</th>\n",
       "      <th>Age</th>\n",
       "      <th>SibSp</th>\n",
       "      <th>Parch</th>\n",
       "      <th>Ticket</th>\n",
       "      <th>Fare</th>\n",
       "      <th>Cabin</th>\n",
       "      <th>Embarked</th>\n",
       "    </tr>\n",
       "  </thead>\n",
       "  <tbody>\n",
       "    <tr>\n",
       "      <th>0</th>\n",
       "      <td>1</td>\n",
       "      <td>0</td>\n",
       "      <td>3</td>\n",
       "      <td>Mr</td>\n",
       "      <td>1</td>\n",
       "      <td>22.0</td>\n",
       "      <td>1</td>\n",
       "      <td>0</td>\n",
       "      <td>A/5 21171</td>\n",
       "      <td>7.2500</td>\n",
       "      <td>NaN</td>\n",
       "      <td>S</td>\n",
       "    </tr>\n",
       "    <tr>\n",
       "      <th>1</th>\n",
       "      <td>2</td>\n",
       "      <td>1</td>\n",
       "      <td>1</td>\n",
       "      <td>Mrs</td>\n",
       "      <td>0</td>\n",
       "      <td>38.0</td>\n",
       "      <td>1</td>\n",
       "      <td>0</td>\n",
       "      <td>PC 17599</td>\n",
       "      <td>71.2833</td>\n",
       "      <td>C85</td>\n",
       "      <td>C</td>\n",
       "    </tr>\n",
       "    <tr>\n",
       "      <th>2</th>\n",
       "      <td>3</td>\n",
       "      <td>1</td>\n",
       "      <td>3</td>\n",
       "      <td>Miss</td>\n",
       "      <td>0</td>\n",
       "      <td>26.0</td>\n",
       "      <td>0</td>\n",
       "      <td>0</td>\n",
       "      <td>STON/O2. 3101282</td>\n",
       "      <td>7.9250</td>\n",
       "      <td>NaN</td>\n",
       "      <td>S</td>\n",
       "    </tr>\n",
       "    <tr>\n",
       "      <th>3</th>\n",
       "      <td>4</td>\n",
       "      <td>1</td>\n",
       "      <td>1</td>\n",
       "      <td>Mrs</td>\n",
       "      <td>0</td>\n",
       "      <td>35.0</td>\n",
       "      <td>1</td>\n",
       "      <td>0</td>\n",
       "      <td>113803</td>\n",
       "      <td>53.1000</td>\n",
       "      <td>C123</td>\n",
       "      <td>S</td>\n",
       "    </tr>\n",
       "    <tr>\n",
       "      <th>4</th>\n",
       "      <td>5</td>\n",
       "      <td>0</td>\n",
       "      <td>3</td>\n",
       "      <td>Mr</td>\n",
       "      <td>1</td>\n",
       "      <td>35.0</td>\n",
       "      <td>0</td>\n",
       "      <td>0</td>\n",
       "      <td>373450</td>\n",
       "      <td>8.0500</td>\n",
       "      <td>NaN</td>\n",
       "      <td>S</td>\n",
       "    </tr>\n",
       "  </tbody>\n",
       "</table>\n",
       "</div>"
      ],
      "text/plain": [
       "   PassengerId  Survived  Pclass  Name  Sex   Age  SibSp  Parch  \\\n",
       "0            1         0       3    Mr    1  22.0      1      0   \n",
       "1            2         1       1   Mrs    0  38.0      1      0   \n",
       "2            3         1       3  Miss    0  26.0      0      0   \n",
       "3            4         1       1   Mrs    0  35.0      1      0   \n",
       "4            5         0       3    Mr    1  35.0      0      0   \n",
       "\n",
       "             Ticket     Fare Cabin Embarked  \n",
       "0         A/5 21171   7.2500   NaN        S  \n",
       "1          PC 17599  71.2833   C85        C  \n",
       "2  STON/O2. 3101282   7.9250   NaN        S  \n",
       "3            113803  53.1000  C123        S  \n",
       "4            373450   8.0500   NaN        S  "
      ]
     },
     "execution_count": 13,
     "metadata": {},
     "output_type": "execute_result"
    }
   ],
   "source": [
    "for index, row in train.iterrows():\n",
    "    if row['Age'] == -1:\n",
    "        train.loc[index, 'Age'] = medians[row['Name']]\n",
    "\n",
    "for index, row in test.iterrows():\n",
    "    if row['Age'] == -1:\n",
    "        test.loc[index, 'Age'] = medians[row['Name']]\n",
    "\n",
    "train.head()"
   ]
  },
  {
   "cell_type": "code",
   "execution_count": 14,
   "id": "1c667cba",
   "metadata": {
    "execution": {
     "iopub.execute_input": "2022-12-09T01:42:28.253030Z",
     "iopub.status.busy": "2022-12-09T01:42:28.252263Z",
     "iopub.status.idle": "2022-12-09T01:42:28.259620Z",
     "shell.execute_reply": "2022-12-09T01:42:28.258436Z"
    },
    "papermill": {
     "duration": 0.041099,
     "end_time": "2022-12-09T01:42:28.261892",
     "exception": false,
     "start_time": "2022-12-09T01:42:28.220793",
     "status": "completed"
    },
    "tags": []
   },
   "outputs": [
    {
     "data": {
      "text/plain": [
       "{'Mr': 30.0,\n",
       " 'Mrs': 35.0,\n",
       " 'Miss': 21.0,\n",
       " 'Master': 3.5,\n",
       " 'Don': 40.0,\n",
       " 'Rev': 46.5,\n",
       " 'Dr': 46.5,\n",
       " 'Mme': 24.0,\n",
       " 'Ms': 28.0,\n",
       " 'Major': 48.5,\n",
       " 'Lady': 48.0,\n",
       " 'Sir': 49.0,\n",
       " 'Mlle': 24.0,\n",
       " 'Col': 58.0,\n",
       " 'Capt': 70.0,\n",
       " 'the Countess': 33.0,\n",
       " 'Jonkheer': 38.0}"
      ]
     },
     "execution_count": 14,
     "metadata": {},
     "output_type": "execute_result"
    }
   ],
   "source": [
    "medians"
   ]
  },
  {
   "cell_type": "code",
   "execution_count": 15,
   "id": "87f33933",
   "metadata": {
    "execution": {
     "iopub.execute_input": "2022-12-09T01:42:28.323109Z",
     "iopub.status.busy": "2022-12-09T01:42:28.322483Z",
     "iopub.status.idle": "2022-12-09T01:42:28.331220Z",
     "shell.execute_reply": "2022-12-09T01:42:28.330301Z"
    },
    "papermill": {
     "duration": 0.042088,
     "end_time": "2022-12-09T01:42:28.333529",
     "exception": false,
     "start_time": "2022-12-09T01:42:28.291441",
     "status": "completed"
    },
    "tags": []
   },
   "outputs": [
    {
     "data": {
      "text/plain": [
       "PassengerId      0\n",
       "Pclass           0\n",
       "Name             0\n",
       "Sex              0\n",
       "Age              0\n",
       "SibSp            0\n",
       "Parch            0\n",
       "Ticket           0\n",
       "Fare             1\n",
       "Cabin          327\n",
       "Embarked         0\n",
       "dtype: int64"
      ]
     },
     "execution_count": 15,
     "metadata": {},
     "output_type": "execute_result"
    }
   ],
   "source": [
    "test.isnull().sum()"
   ]
  },
  {
   "cell_type": "code",
   "execution_count": 16,
   "id": "fe4107df",
   "metadata": {
    "execution": {
     "iopub.execute_input": "2022-12-09T01:42:28.395290Z",
     "iopub.status.busy": "2022-12-09T01:42:28.394866Z",
     "iopub.status.idle": "2022-12-09T01:42:28.403171Z",
     "shell.execute_reply": "2022-12-09T01:42:28.402156Z"
    },
    "papermill": {
     "duration": 0.042063,
     "end_time": "2022-12-09T01:42:28.405306",
     "exception": false,
     "start_time": "2022-12-09T01:42:28.363243",
     "status": "completed"
    },
    "tags": []
   },
   "outputs": [
    {
     "data": {
      "text/plain": [
       "PassengerId      0\n",
       "Survived         0\n",
       "Pclass           0\n",
       "Name             0\n",
       "Sex              0\n",
       "Age              0\n",
       "SibSp            0\n",
       "Parch            0\n",
       "Ticket           0\n",
       "Fare             0\n",
       "Cabin          687\n",
       "Embarked         2\n",
       "dtype: int64"
      ]
     },
     "execution_count": 16,
     "metadata": {},
     "output_type": "execute_result"
    }
   ],
   "source": [
    "train.isnull().sum()"
   ]
  },
  {
   "cell_type": "code",
   "execution_count": 17,
   "id": "290f5472",
   "metadata": {
    "execution": {
     "iopub.execute_input": "2022-12-09T01:42:28.467143Z",
     "iopub.status.busy": "2022-12-09T01:42:28.466511Z",
     "iopub.status.idle": "2022-12-09T01:42:28.481715Z",
     "shell.execute_reply": "2022-12-09T01:42:28.480510Z"
    },
    "papermill": {
     "duration": 0.049253,
     "end_time": "2022-12-09T01:42:28.484084",
     "exception": false,
     "start_time": "2022-12-09T01:42:28.434831",
     "status": "completed"
    },
    "tags": []
   },
   "outputs": [
    {
     "data": {
      "text/html": [
       "<div>\n",
       "<style scoped>\n",
       "    .dataframe tbody tr th:only-of-type {\n",
       "        vertical-align: middle;\n",
       "    }\n",
       "\n",
       "    .dataframe tbody tr th {\n",
       "        vertical-align: top;\n",
       "    }\n",
       "\n",
       "    .dataframe thead th {\n",
       "        text-align: right;\n",
       "    }\n",
       "</style>\n",
       "<table border=\"1\" class=\"dataframe\">\n",
       "  <thead>\n",
       "    <tr style=\"text-align: right;\">\n",
       "      <th></th>\n",
       "      <th>PassengerId</th>\n",
       "      <th>Pclass</th>\n",
       "      <th>Name</th>\n",
       "      <th>Sex</th>\n",
       "      <th>Age</th>\n",
       "      <th>SibSp</th>\n",
       "      <th>Parch</th>\n",
       "      <th>Ticket</th>\n",
       "      <th>Fare</th>\n",
       "      <th>Cabin</th>\n",
       "      <th>Embarked</th>\n",
       "    </tr>\n",
       "  </thead>\n",
       "  <tbody>\n",
       "    <tr>\n",
       "      <th>0</th>\n",
       "      <td>892</td>\n",
       "      <td>3</td>\n",
       "      <td>Mr</td>\n",
       "      <td>1</td>\n",
       "      <td>34.5</td>\n",
       "      <td>0</td>\n",
       "      <td>0</td>\n",
       "      <td>330911</td>\n",
       "      <td>7.8292</td>\n",
       "      <td>NaN</td>\n",
       "      <td>Q</td>\n",
       "    </tr>\n",
       "    <tr>\n",
       "      <th>1</th>\n",
       "      <td>893</td>\n",
       "      <td>3</td>\n",
       "      <td>Mrs</td>\n",
       "      <td>0</td>\n",
       "      <td>47.0</td>\n",
       "      <td>1</td>\n",
       "      <td>0</td>\n",
       "      <td>363272</td>\n",
       "      <td>7.0000</td>\n",
       "      <td>NaN</td>\n",
       "      <td>S</td>\n",
       "    </tr>\n",
       "    <tr>\n",
       "      <th>2</th>\n",
       "      <td>894</td>\n",
       "      <td>2</td>\n",
       "      <td>Mr</td>\n",
       "      <td>1</td>\n",
       "      <td>62.0</td>\n",
       "      <td>0</td>\n",
       "      <td>0</td>\n",
       "      <td>240276</td>\n",
       "      <td>9.6875</td>\n",
       "      <td>NaN</td>\n",
       "      <td>Q</td>\n",
       "    </tr>\n",
       "    <tr>\n",
       "      <th>3</th>\n",
       "      <td>895</td>\n",
       "      <td>3</td>\n",
       "      <td>Mr</td>\n",
       "      <td>1</td>\n",
       "      <td>27.0</td>\n",
       "      <td>0</td>\n",
       "      <td>0</td>\n",
       "      <td>315154</td>\n",
       "      <td>8.6625</td>\n",
       "      <td>NaN</td>\n",
       "      <td>S</td>\n",
       "    </tr>\n",
       "    <tr>\n",
       "      <th>4</th>\n",
       "      <td>896</td>\n",
       "      <td>3</td>\n",
       "      <td>Mrs</td>\n",
       "      <td>0</td>\n",
       "      <td>22.0</td>\n",
       "      <td>1</td>\n",
       "      <td>1</td>\n",
       "      <td>3101298</td>\n",
       "      <td>12.2875</td>\n",
       "      <td>NaN</td>\n",
       "      <td>S</td>\n",
       "    </tr>\n",
       "  </tbody>\n",
       "</table>\n",
       "</div>"
      ],
      "text/plain": [
       "   PassengerId  Pclass Name  Sex   Age  SibSp  Parch   Ticket     Fare Cabin  \\\n",
       "0          892       3   Mr    1  34.5      0      0   330911   7.8292   NaN   \n",
       "1          893       3  Mrs    0  47.0      1      0   363272   7.0000   NaN   \n",
       "2          894       2   Mr    1  62.0      0      0   240276   9.6875   NaN   \n",
       "3          895       3   Mr    1  27.0      0      0   315154   8.6625   NaN   \n",
       "4          896       3  Mrs    0  22.0      1      1  3101298  12.2875   NaN   \n",
       "\n",
       "  Embarked  \n",
       "0        Q  \n",
       "1        S  \n",
       "2        Q  \n",
       "3        S  \n",
       "4        S  "
      ]
     },
     "execution_count": 17,
     "metadata": {},
     "output_type": "execute_result"
    }
   ],
   "source": [
    "test.head()"
   ]
  },
  {
   "cell_type": "code",
   "execution_count": 18,
   "id": "14ed73a9",
   "metadata": {
    "execution": {
     "iopub.execute_input": "2022-12-09T01:42:28.547874Z",
     "iopub.status.busy": "2022-12-09T01:42:28.547198Z",
     "iopub.status.idle": "2022-12-09T01:42:28.563193Z",
     "shell.execute_reply": "2022-12-09T01:42:28.562268Z"
    },
    "papermill": {
     "duration": 0.051537,
     "end_time": "2022-12-09T01:42:28.565422",
     "exception": false,
     "start_time": "2022-12-09T01:42:28.513885",
     "status": "completed"
    },
    "tags": []
   },
   "outputs": [
    {
     "data": {
      "text/html": [
       "<div>\n",
       "<style scoped>\n",
       "    .dataframe tbody tr th:only-of-type {\n",
       "        vertical-align: middle;\n",
       "    }\n",
       "\n",
       "    .dataframe tbody tr th {\n",
       "        vertical-align: top;\n",
       "    }\n",
       "\n",
       "    .dataframe thead th {\n",
       "        text-align: right;\n",
       "    }\n",
       "</style>\n",
       "<table border=\"1\" class=\"dataframe\">\n",
       "  <thead>\n",
       "    <tr style=\"text-align: right;\">\n",
       "      <th></th>\n",
       "      <th>PassengerId</th>\n",
       "      <th>Pclass</th>\n",
       "      <th>Name</th>\n",
       "      <th>Sex</th>\n",
       "      <th>Age</th>\n",
       "      <th>SibSp</th>\n",
       "      <th>Parch</th>\n",
       "      <th>Ticket</th>\n",
       "      <th>Fare</th>\n",
       "      <th>Cabin</th>\n",
       "      <th>Embarked</th>\n",
       "    </tr>\n",
       "  </thead>\n",
       "  <tbody>\n",
       "    <tr>\n",
       "      <th>0</th>\n",
       "      <td>892</td>\n",
       "      <td>3</td>\n",
       "      <td>Mr</td>\n",
       "      <td>1</td>\n",
       "      <td>34.5</td>\n",
       "      <td>0</td>\n",
       "      <td>0</td>\n",
       "      <td>330911</td>\n",
       "      <td>7.8292</td>\n",
       "      <td>NaN</td>\n",
       "      <td>Q</td>\n",
       "    </tr>\n",
       "    <tr>\n",
       "      <th>1</th>\n",
       "      <td>893</td>\n",
       "      <td>3</td>\n",
       "      <td>Mrs</td>\n",
       "      <td>0</td>\n",
       "      <td>47.0</td>\n",
       "      <td>1</td>\n",
       "      <td>0</td>\n",
       "      <td>363272</td>\n",
       "      <td>7.0000</td>\n",
       "      <td>NaN</td>\n",
       "      <td>S</td>\n",
       "    </tr>\n",
       "    <tr>\n",
       "      <th>2</th>\n",
       "      <td>894</td>\n",
       "      <td>2</td>\n",
       "      <td>Mr</td>\n",
       "      <td>1</td>\n",
       "      <td>62.0</td>\n",
       "      <td>0</td>\n",
       "      <td>0</td>\n",
       "      <td>240276</td>\n",
       "      <td>9.6875</td>\n",
       "      <td>NaN</td>\n",
       "      <td>Q</td>\n",
       "    </tr>\n",
       "    <tr>\n",
       "      <th>3</th>\n",
       "      <td>895</td>\n",
       "      <td>3</td>\n",
       "      <td>Mr</td>\n",
       "      <td>1</td>\n",
       "      <td>27.0</td>\n",
       "      <td>0</td>\n",
       "      <td>0</td>\n",
       "      <td>315154</td>\n",
       "      <td>8.6625</td>\n",
       "      <td>NaN</td>\n",
       "      <td>S</td>\n",
       "    </tr>\n",
       "    <tr>\n",
       "      <th>4</th>\n",
       "      <td>896</td>\n",
       "      <td>3</td>\n",
       "      <td>Mrs</td>\n",
       "      <td>0</td>\n",
       "      <td>22.0</td>\n",
       "      <td>1</td>\n",
       "      <td>1</td>\n",
       "      <td>3101298</td>\n",
       "      <td>12.2875</td>\n",
       "      <td>NaN</td>\n",
       "      <td>S</td>\n",
       "    </tr>\n",
       "  </tbody>\n",
       "</table>\n",
       "</div>"
      ],
      "text/plain": [
       "   PassengerId  Pclass Name  Sex   Age  SibSp  Parch   Ticket     Fare Cabin  \\\n",
       "0          892       3   Mr    1  34.5      0      0   330911   7.8292   NaN   \n",
       "1          893       3  Mrs    0  47.0      1      0   363272   7.0000   NaN   \n",
       "2          894       2   Mr    1  62.0      0      0   240276   9.6875   NaN   \n",
       "3          895       3   Mr    1  27.0      0      0   315154   8.6625   NaN   \n",
       "4          896       3  Mrs    0  22.0      1      1  3101298  12.2875   NaN   \n",
       "\n",
       "  Embarked  \n",
       "0        Q  \n",
       "1        S  \n",
       "2        Q  \n",
       "3        S  \n",
       "4        S  "
      ]
     },
     "execution_count": 18,
     "metadata": {},
     "output_type": "execute_result"
    }
   ],
   "source": [
    "test.head()"
   ]
  },
  {
   "cell_type": "code",
   "execution_count": 19,
   "id": "52539b77",
   "metadata": {
    "execution": {
     "iopub.execute_input": "2022-12-09T01:42:28.628220Z",
     "iopub.status.busy": "2022-12-09T01:42:28.627367Z",
     "iopub.status.idle": "2022-12-09T01:42:28.636193Z",
     "shell.execute_reply": "2022-12-09T01:42:28.635287Z"
    },
    "papermill": {
     "duration": 0.042847,
     "end_time": "2022-12-09T01:42:28.638399",
     "exception": false,
     "start_time": "2022-12-09T01:42:28.595552",
     "status": "completed"
    },
    "tags": []
   },
   "outputs": [
    {
     "data": {
      "text/plain": [
       "PassengerId      0\n",
       "Pclass           0\n",
       "Name             0\n",
       "Sex              0\n",
       "Age              0\n",
       "SibSp            0\n",
       "Parch            0\n",
       "Ticket           0\n",
       "Fare             1\n",
       "Cabin          327\n",
       "Embarked         0\n",
       "dtype: int64"
      ]
     },
     "execution_count": 19,
     "metadata": {},
     "output_type": "execute_result"
    }
   ],
   "source": [
    "test.isnull().sum()"
   ]
  },
  {
   "cell_type": "code",
   "execution_count": 20,
   "id": "245d2f45",
   "metadata": {
    "execution": {
     "iopub.execute_input": "2022-12-09T01:42:28.701499Z",
     "iopub.status.busy": "2022-12-09T01:42:28.700445Z",
     "iopub.status.idle": "2022-12-09T01:42:28.710547Z",
     "shell.execute_reply": "2022-12-09T01:42:28.709381Z"
    },
    "papermill": {
     "duration": 0.043873,
     "end_time": "2022-12-09T01:42:28.712813",
     "exception": false,
     "start_time": "2022-12-09T01:42:28.668940",
     "status": "completed"
    },
    "tags": []
   },
   "outputs": [
    {
     "data": {
      "text/plain": [
       "PassengerId      0\n",
       "Survived         0\n",
       "Pclass           0\n",
       "Name             0\n",
       "Sex              0\n",
       "Age              0\n",
       "SibSp            0\n",
       "Parch            0\n",
       "Ticket           0\n",
       "Fare             0\n",
       "Cabin          687\n",
       "Embarked         2\n",
       "dtype: int64"
      ]
     },
     "execution_count": 20,
     "metadata": {},
     "output_type": "execute_result"
    }
   ],
   "source": [
    "train.isnull().sum()"
   ]
  },
  {
   "cell_type": "code",
   "execution_count": 21,
   "id": "d2b75bd9",
   "metadata": {
    "execution": {
     "iopub.execute_input": "2022-12-09T01:42:28.777084Z",
     "iopub.status.busy": "2022-12-09T01:42:28.776427Z",
     "iopub.status.idle": "2022-12-09T01:42:28.782267Z",
     "shell.execute_reply": "2022-12-09T01:42:28.781420Z"
    },
    "papermill": {
     "duration": 0.041157,
     "end_time": "2022-12-09T01:42:28.784497",
     "exception": false,
     "start_time": "2022-12-09T01:42:28.743340",
     "status": "completed"
    },
    "tags": []
   },
   "outputs": [],
   "source": [
    "test_age_nan_rows = test[test['Age'].isnull()]"
   ]
  },
  {
   "cell_type": "code",
   "execution_count": 22,
   "id": "80d9416b",
   "metadata": {
    "execution": {
     "iopub.execute_input": "2022-12-09T01:42:28.849382Z",
     "iopub.status.busy": "2022-12-09T01:42:28.848948Z",
     "iopub.status.idle": "2022-12-09T01:42:28.861740Z",
     "shell.execute_reply": "2022-12-09T01:42:28.860482Z"
    },
    "papermill": {
     "duration": 0.047238,
     "end_time": "2022-12-09T01:42:28.864357",
     "exception": false,
     "start_time": "2022-12-09T01:42:28.817119",
     "status": "completed"
    },
    "tags": []
   },
   "outputs": [
    {
     "data": {
      "text/html": [
       "<div>\n",
       "<style scoped>\n",
       "    .dataframe tbody tr th:only-of-type {\n",
       "        vertical-align: middle;\n",
       "    }\n",
       "\n",
       "    .dataframe tbody tr th {\n",
       "        vertical-align: top;\n",
       "    }\n",
       "\n",
       "    .dataframe thead th {\n",
       "        text-align: right;\n",
       "    }\n",
       "</style>\n",
       "<table border=\"1\" class=\"dataframe\">\n",
       "  <thead>\n",
       "    <tr style=\"text-align: right;\">\n",
       "      <th></th>\n",
       "      <th>PassengerId</th>\n",
       "      <th>Pclass</th>\n",
       "      <th>Name</th>\n",
       "      <th>Sex</th>\n",
       "      <th>Age</th>\n",
       "      <th>SibSp</th>\n",
       "      <th>Parch</th>\n",
       "      <th>Ticket</th>\n",
       "      <th>Fare</th>\n",
       "      <th>Cabin</th>\n",
       "      <th>Embarked</th>\n",
       "    </tr>\n",
       "  </thead>\n",
       "  <tbody>\n",
       "  </tbody>\n",
       "</table>\n",
       "</div>"
      ],
      "text/plain": [
       "Empty DataFrame\n",
       "Columns: [PassengerId, Pclass, Name, Sex, Age, SibSp, Parch, Ticket, Fare, Cabin, Embarked]\n",
       "Index: []"
      ]
     },
     "execution_count": 22,
     "metadata": {},
     "output_type": "execute_result"
    }
   ],
   "source": [
    "test_age_nan_rows"
   ]
  },
  {
   "cell_type": "code",
   "execution_count": 23,
   "id": "b08aef2a",
   "metadata": {
    "execution": {
     "iopub.execute_input": "2022-12-09T01:42:28.928939Z",
     "iopub.status.busy": "2022-12-09T01:42:28.928531Z",
     "iopub.status.idle": "2022-12-09T01:42:28.945535Z",
     "shell.execute_reply": "2022-12-09T01:42:28.944631Z"
    },
    "papermill": {
     "duration": 0.051915,
     "end_time": "2022-12-09T01:42:28.947592",
     "exception": false,
     "start_time": "2022-12-09T01:42:28.895677",
     "status": "completed"
    },
    "tags": []
   },
   "outputs": [
    {
     "data": {
      "text/html": [
       "<div>\n",
       "<style scoped>\n",
       "    .dataframe tbody tr th:only-of-type {\n",
       "        vertical-align: middle;\n",
       "    }\n",
       "\n",
       "    .dataframe tbody tr th {\n",
       "        vertical-align: top;\n",
       "    }\n",
       "\n",
       "    .dataframe thead th {\n",
       "        text-align: right;\n",
       "    }\n",
       "</style>\n",
       "<table border=\"1\" class=\"dataframe\">\n",
       "  <thead>\n",
       "    <tr style=\"text-align: right;\">\n",
       "      <th></th>\n",
       "      <th>PassengerId</th>\n",
       "      <th>Survived</th>\n",
       "      <th>Pclass</th>\n",
       "      <th>Name</th>\n",
       "      <th>Sex</th>\n",
       "      <th>Age</th>\n",
       "      <th>SibSp</th>\n",
       "      <th>Parch</th>\n",
       "      <th>Ticket</th>\n",
       "      <th>Fare</th>\n",
       "      <th>Cabin</th>\n",
       "      <th>Embarked</th>\n",
       "    </tr>\n",
       "  </thead>\n",
       "  <tbody>\n",
       "    <tr>\n",
       "      <th>0</th>\n",
       "      <td>1</td>\n",
       "      <td>0</td>\n",
       "      <td>3</td>\n",
       "      <td>Mr</td>\n",
       "      <td>1</td>\n",
       "      <td>22.0</td>\n",
       "      <td>1</td>\n",
       "      <td>0</td>\n",
       "      <td>A/5 21171</td>\n",
       "      <td>7.2500</td>\n",
       "      <td>NaN</td>\n",
       "      <td>S</td>\n",
       "    </tr>\n",
       "    <tr>\n",
       "      <th>1</th>\n",
       "      <td>2</td>\n",
       "      <td>1</td>\n",
       "      <td>1</td>\n",
       "      <td>Mrs</td>\n",
       "      <td>0</td>\n",
       "      <td>38.0</td>\n",
       "      <td>1</td>\n",
       "      <td>0</td>\n",
       "      <td>PC 17599</td>\n",
       "      <td>71.2833</td>\n",
       "      <td>C85</td>\n",
       "      <td>C</td>\n",
       "    </tr>\n",
       "    <tr>\n",
       "      <th>2</th>\n",
       "      <td>3</td>\n",
       "      <td>1</td>\n",
       "      <td>3</td>\n",
       "      <td>Miss</td>\n",
       "      <td>0</td>\n",
       "      <td>26.0</td>\n",
       "      <td>0</td>\n",
       "      <td>0</td>\n",
       "      <td>STON/O2. 3101282</td>\n",
       "      <td>7.9250</td>\n",
       "      <td>NaN</td>\n",
       "      <td>S</td>\n",
       "    </tr>\n",
       "    <tr>\n",
       "      <th>3</th>\n",
       "      <td>4</td>\n",
       "      <td>1</td>\n",
       "      <td>1</td>\n",
       "      <td>Mrs</td>\n",
       "      <td>0</td>\n",
       "      <td>35.0</td>\n",
       "      <td>1</td>\n",
       "      <td>0</td>\n",
       "      <td>113803</td>\n",
       "      <td>53.1000</td>\n",
       "      <td>C123</td>\n",
       "      <td>S</td>\n",
       "    </tr>\n",
       "    <tr>\n",
       "      <th>4</th>\n",
       "      <td>5</td>\n",
       "      <td>0</td>\n",
       "      <td>3</td>\n",
       "      <td>Mr</td>\n",
       "      <td>1</td>\n",
       "      <td>35.0</td>\n",
       "      <td>0</td>\n",
       "      <td>0</td>\n",
       "      <td>373450</td>\n",
       "      <td>8.0500</td>\n",
       "      <td>NaN</td>\n",
       "      <td>S</td>\n",
       "    </tr>\n",
       "  </tbody>\n",
       "</table>\n",
       "</div>"
      ],
      "text/plain": [
       "   PassengerId  Survived  Pclass  Name  Sex   Age  SibSp  Parch  \\\n",
       "0            1         0       3    Mr    1  22.0      1      0   \n",
       "1            2         1       1   Mrs    0  38.0      1      0   \n",
       "2            3         1       3  Miss    0  26.0      0      0   \n",
       "3            4         1       1   Mrs    0  35.0      1      0   \n",
       "4            5         0       3    Mr    1  35.0      0      0   \n",
       "\n",
       "             Ticket     Fare Cabin Embarked  \n",
       "0         A/5 21171   7.2500   NaN        S  \n",
       "1          PC 17599  71.2833   C85        C  \n",
       "2  STON/O2. 3101282   7.9250   NaN        S  \n",
       "3            113803  53.1000  C123        S  \n",
       "4            373450   8.0500   NaN        S  "
      ]
     },
     "execution_count": 23,
     "metadata": {},
     "output_type": "execute_result"
    }
   ],
   "source": [
    "train.head()"
   ]
  },
  {
   "cell_type": "markdown",
   "id": "c26f733d",
   "metadata": {
    "papermill": {
     "duration": 0.031171,
     "end_time": "2022-12-09T01:42:29.010021",
     "exception": false,
     "start_time": "2022-12-09T01:42:28.978850",
     "status": "completed"
    },
    "tags": []
   },
   "source": [
    "### 각 이름별로 산사람과 죽은 사람을 비교해보자."
   ]
  },
  {
   "cell_type": "code",
   "execution_count": 24,
   "id": "c8477d9b",
   "metadata": {
    "execution": {
     "iopub.execute_input": "2022-12-09T01:42:29.074047Z",
     "iopub.status.busy": "2022-12-09T01:42:29.073311Z",
     "iopub.status.idle": "2022-12-09T01:42:30.387869Z",
     "shell.execute_reply": "2022-12-09T01:42:30.386840Z"
    },
    "papermill": {
     "duration": 1.349599,
     "end_time": "2022-12-09T01:42:30.390383",
     "exception": false,
     "start_time": "2022-12-09T01:42:29.040784",
     "status": "completed"
    },
    "tags": []
   },
   "outputs": [
    {
     "data": {
      "image/png": "[encoded data removed]",
      "text/plain": [
       "<Figure size 1080x432 with 17 Axes>"
      ]
     },
     "metadata": {},
     "output_type": "display_data"
    }
   ],
   "source": [
    "fig = plt.figure(figsize=(15,6))\n",
    "\n",
    "i=1\n",
    "for title in train['Name'].unique():\n",
    "    fig.add_subplot(3, 6, i)\n",
    "    plt.title('Title : {}'.format(title))\n",
    "    train.Survived[train['Name'] == title].value_counts().plot(kind='pie')\n",
    "    i += 1"
   ]
  },
  {
   "cell_type": "markdown",
   "id": "1da2ce2c",
   "metadata": {
    "papermill": {
     "duration": 0.031533,
     "end_time": "2022-12-09T01:42:30.454591",
     "exception": false,
     "start_time": "2022-12-09T01:42:30.423058",
     "status": "completed"
    },
    "tags": []
   },
   "source": [
    "### 각 이름별로 많이 죽은 성 -> 적게 죽은 성 순서로 값을 매기자"
   ]
  },
  {
   "cell_type": "code",
   "execution_count": 25,
   "id": "b6e23226",
   "metadata": {
    "execution": {
     "iopub.execute_input": "2022-12-09T01:42:30.520493Z",
     "iopub.status.busy": "2022-12-09T01:42:30.519839Z",
     "iopub.status.idle": "2022-12-09T01:42:30.525483Z",
     "shell.execute_reply": "2022-12-09T01:42:30.524404Z"
    },
    "papermill": {
     "duration": 0.041728,
     "end_time": "2022-12-09T01:42:30.527971",
     "exception": false,
     "start_time": "2022-12-09T01:42:30.486243",
     "status": "completed"
    },
    "tags": []
   },
   "outputs": [],
   "source": [
    "title_replace = {\n",
    "    'Don':0,\n",
    "    'Rev':0,\n",
    "    'Capt':0,\n",
    "    'Jonkheer':0,\n",
    "    'Mr':1,\n",
    "    'Dr':2,\n",
    "    'Major':3,\n",
    "    'Col':3,\n",
    "    'Master':4,\n",
    "    'Miss':5,\n",
    "    'Mrs':6,\n",
    "    'Mme':7,\n",
    "    'Ms':7,\n",
    "    'Lady':7,\n",
    "    'Sir':7,\n",
    "    'Mlle':7,\n",
    "    'the Countess':7\n",
    "}\n"
   ]
  },
  {
   "cell_type": "code",
   "execution_count": 26,
   "id": "ea34ae87",
   "metadata": {
    "execution": {
     "iopub.execute_input": "2022-12-09T01:42:30.601190Z",
     "iopub.status.busy": "2022-12-09T01:42:30.600723Z",
     "iopub.status.idle": "2022-12-09T01:42:30.609148Z",
     "shell.execute_reply": "2022-12-09T01:42:30.607936Z"
    },
    "papermill": {
     "duration": 0.049816,
     "end_time": "2022-12-09T01:42:30.611740",
     "exception": false,
     "start_time": "2022-12-09T01:42:30.561924",
     "status": "completed"
    },
    "tags": []
   },
   "outputs": [
    {
     "data": {
      "text/plain": [
       "array(['Mr', 'Mrs', 'Miss', 'Master', 'Don', 'Rev', 'Dr', 'Mme', 'Ms',\n",
       "       'Major', 'Lady', 'Sir', 'Mlle', 'Col', 'Capt', 'the Countess',\n",
       "       'Jonkheer'], dtype=object)"
      ]
     },
     "execution_count": 26,
     "metadata": {},
     "output_type": "execute_result"
    }
   ],
   "source": [
    "train['Name'].unique()"
   ]
  },
  {
   "cell_type": "markdown",
   "id": "39ec9492",
   "metadata": {
    "papermill": {
     "duration": 0.031882,
     "end_time": "2022-12-09T01:42:30.675713",
     "exception": false,
     "start_time": "2022-12-09T01:42:30.643831",
     "status": "completed"
    },
    "tags": []
   },
   "source": [
    "### test에는 Dona라는 성이 있지만, train에는 없다."
   ]
  },
  {
   "cell_type": "code",
   "execution_count": 27,
   "id": "25b01395",
   "metadata": {
    "execution": {
     "iopub.execute_input": "2022-12-09T01:42:30.741736Z",
     "iopub.status.busy": "2022-12-09T01:42:30.741312Z",
     "iopub.status.idle": "2022-12-09T01:42:30.749671Z",
     "shell.execute_reply": "2022-12-09T01:42:30.748413Z"
    },
    "papermill": {
     "duration": 0.044612,
     "end_time": "2022-12-09T01:42:30.752148",
     "exception": false,
     "start_time": "2022-12-09T01:42:30.707536",
     "status": "completed"
    },
    "tags": []
   },
   "outputs": [
    {
     "data": {
      "text/plain": [
       "array(['Mr', 'Mrs', 'Miss', 'Master', 'Ms', 'Col', 'Rev', 'Dr', 'Dona'],\n",
       "      dtype=object)"
      ]
     },
     "execution_count": 27,
     "metadata": {},
     "output_type": "execute_result"
    }
   ],
   "source": [
    "test['Name'].unique()"
   ]
  },
  {
   "cell_type": "code",
   "execution_count": 28,
   "id": "ba550202",
   "metadata": {
    "execution": {
     "iopub.execute_input": "2022-12-09T01:42:30.819735Z",
     "iopub.status.busy": "2022-12-09T01:42:30.818626Z",
     "iopub.status.idle": "2022-12-09T01:42:30.835931Z",
     "shell.execute_reply": "2022-12-09T01:42:30.834754Z"
    },
    "papermill": {
     "duration": 0.053037,
     "end_time": "2022-12-09T01:42:30.838301",
     "exception": false,
     "start_time": "2022-12-09T01:42:30.785264",
     "status": "completed"
    },
    "scrolled": true,
    "tags": []
   },
   "outputs": [
    {
     "data": {
      "text/html": [
       "<div>\n",
       "<style scoped>\n",
       "    .dataframe tbody tr th:only-of-type {\n",
       "        vertical-align: middle;\n",
       "    }\n",
       "\n",
       "    .dataframe tbody tr th {\n",
       "        vertical-align: top;\n",
       "    }\n",
       "\n",
       "    .dataframe thead th {\n",
       "        text-align: right;\n",
       "    }\n",
       "</style>\n",
       "<table border=\"1\" class=\"dataframe\">\n",
       "  <thead>\n",
       "    <tr style=\"text-align: right;\">\n",
       "      <th></th>\n",
       "      <th>PassengerId</th>\n",
       "      <th>Pclass</th>\n",
       "      <th>Name</th>\n",
       "      <th>Sex</th>\n",
       "      <th>Age</th>\n",
       "      <th>SibSp</th>\n",
       "      <th>Parch</th>\n",
       "      <th>Ticket</th>\n",
       "      <th>Fare</th>\n",
       "      <th>Cabin</th>\n",
       "      <th>Embarked</th>\n",
       "    </tr>\n",
       "  </thead>\n",
       "  <tbody>\n",
       "    <tr>\n",
       "      <th>414</th>\n",
       "      <td>1306</td>\n",
       "      <td>1</td>\n",
       "      <td>Dona</td>\n",
       "      <td>0</td>\n",
       "      <td>39.0</td>\n",
       "      <td>0</td>\n",
       "      <td>0</td>\n",
       "      <td>PC 17758</td>\n",
       "      <td>108.9</td>\n",
       "      <td>C105</td>\n",
       "      <td>C</td>\n",
       "    </tr>\n",
       "  </tbody>\n",
       "</table>\n",
       "</div>"
      ],
      "text/plain": [
       "     PassengerId  Pclass  Name  Sex   Age  SibSp  Parch    Ticket   Fare  \\\n",
       "414         1306       1  Dona    0  39.0      0      0  PC 17758  108.9   \n",
       "\n",
       "    Cabin Embarked  \n",
       "414  C105        C  "
      ]
     },
     "execution_count": 28,
     "metadata": {},
     "output_type": "execute_result"
    }
   ],
   "source": [
    "test[test['Name'] == 'Dona']"
   ]
  },
  {
   "cell_type": "code",
   "execution_count": 29,
   "id": "a39bc73b",
   "metadata": {
    "execution": {
     "iopub.execute_input": "2022-12-09T01:42:30.905609Z",
     "iopub.status.busy": "2022-12-09T01:42:30.904644Z",
     "iopub.status.idle": "2022-12-09T01:42:30.911748Z",
     "shell.execute_reply": "2022-12-09T01:42:30.910670Z"
    },
    "papermill": {
     "duration": 0.044014,
     "end_time": "2022-12-09T01:42:30.914295",
     "exception": false,
     "start_time": "2022-12-09T01:42:30.870281",
     "status": "completed"
    },
    "tags": []
   },
   "outputs": [],
   "source": [
    "train['Name'] = train['Name'].apply(lambda x: title_replace.get(x))"
   ]
  },
  {
   "cell_type": "code",
   "execution_count": 30,
   "id": "b2609216",
   "metadata": {
    "execution": {
     "iopub.execute_input": "2022-12-09T01:42:30.981208Z",
     "iopub.status.busy": "2022-12-09T01:42:30.980540Z",
     "iopub.status.idle": "2022-12-09T01:42:30.995320Z",
     "shell.execute_reply": "2022-12-09T01:42:30.994501Z"
    },
    "papermill": {
     "duration": 0.051161,
     "end_time": "2022-12-09T01:42:30.997768",
     "exception": false,
     "start_time": "2022-12-09T01:42:30.946607",
     "status": "completed"
    },
    "tags": []
   },
   "outputs": [
    {
     "data": {
      "text/html": [
       "<div>\n",
       "<style scoped>\n",
       "    .dataframe tbody tr th:only-of-type {\n",
       "        vertical-align: middle;\n",
       "    }\n",
       "\n",
       "    .dataframe tbody tr th {\n",
       "        vertical-align: top;\n",
       "    }\n",
       "\n",
       "    .dataframe thead th {\n",
       "        text-align: right;\n",
       "    }\n",
       "</style>\n",
       "<table border=\"1\" class=\"dataframe\">\n",
       "  <thead>\n",
       "    <tr style=\"text-align: right;\">\n",
       "      <th></th>\n",
       "      <th>PassengerId</th>\n",
       "      <th>Survived</th>\n",
       "      <th>Pclass</th>\n",
       "      <th>Name</th>\n",
       "      <th>Sex</th>\n",
       "      <th>Age</th>\n",
       "      <th>SibSp</th>\n",
       "      <th>Parch</th>\n",
       "      <th>Ticket</th>\n",
       "      <th>Fare</th>\n",
       "      <th>Cabin</th>\n",
       "      <th>Embarked</th>\n",
       "    </tr>\n",
       "  </thead>\n",
       "  <tbody>\n",
       "    <tr>\n",
       "      <th>0</th>\n",
       "      <td>1</td>\n",
       "      <td>0</td>\n",
       "      <td>3</td>\n",
       "      <td>1</td>\n",
       "      <td>1</td>\n",
       "      <td>22.0</td>\n",
       "      <td>1</td>\n",
       "      <td>0</td>\n",
       "      <td>A/5 21171</td>\n",
       "      <td>7.2500</td>\n",
       "      <td>NaN</td>\n",
       "      <td>S</td>\n",
       "    </tr>\n",
       "    <tr>\n",
       "      <th>1</th>\n",
       "      <td>2</td>\n",
       "      <td>1</td>\n",
       "      <td>1</td>\n",
       "      <td>6</td>\n",
       "      <td>0</td>\n",
       "      <td>38.0</td>\n",
       "      <td>1</td>\n",
       "      <td>0</td>\n",
       "      <td>PC 17599</td>\n",
       "      <td>71.2833</td>\n",
       "      <td>C85</td>\n",
       "      <td>C</td>\n",
       "    </tr>\n",
       "    <tr>\n",
       "      <th>2</th>\n",
       "      <td>3</td>\n",
       "      <td>1</td>\n",
       "      <td>3</td>\n",
       "      <td>5</td>\n",
       "      <td>0</td>\n",
       "      <td>26.0</td>\n",
       "      <td>0</td>\n",
       "      <td>0</td>\n",
       "      <td>STON/O2. 3101282</td>\n",
       "      <td>7.9250</td>\n",
       "      <td>NaN</td>\n",
       "      <td>S</td>\n",
       "    </tr>\n",
       "    <tr>\n",
       "      <th>3</th>\n",
       "      <td>4</td>\n",
       "      <td>1</td>\n",
       "      <td>1</td>\n",
       "      <td>6</td>\n",
       "      <td>0</td>\n",
       "      <td>35.0</td>\n",
       "      <td>1</td>\n",
       "      <td>0</td>\n",
       "      <td>113803</td>\n",
       "      <td>53.1000</td>\n",
       "      <td>C123</td>\n",
       "      <td>S</td>\n",
       "    </tr>\n",
       "    <tr>\n",
       "      <th>4</th>\n",
       "      <td>5</td>\n",
       "      <td>0</td>\n",
       "      <td>3</td>\n",
       "      <td>1</td>\n",
       "      <td>1</td>\n",
       "      <td>35.0</td>\n",
       "      <td>0</td>\n",
       "      <td>0</td>\n",
       "      <td>373450</td>\n",
       "      <td>8.0500</td>\n",
       "      <td>NaN</td>\n",
       "      <td>S</td>\n",
       "    </tr>\n",
       "  </tbody>\n",
       "</table>\n",
       "</div>"
      ],
      "text/plain": [
       "   PassengerId  Survived  Pclass  Name  Sex   Age  SibSp  Parch  \\\n",
       "0            1         0       3     1    1  22.0      1      0   \n",
       "1            2         1       1     6    0  38.0      1      0   \n",
       "2            3         1       3     5    0  26.0      0      0   \n",
       "3            4         1       1     6    0  35.0      1      0   \n",
       "4            5         0       3     1    1  35.0      0      0   \n",
       "\n",
       "             Ticket     Fare Cabin Embarked  \n",
       "0         A/5 21171   7.2500   NaN        S  \n",
       "1          PC 17599  71.2833   C85        C  \n",
       "2  STON/O2. 3101282   7.9250   NaN        S  \n",
       "3            113803  53.1000  C123        S  \n",
       "4            373450   8.0500   NaN        S  "
      ]
     },
     "execution_count": 30,
     "metadata": {},
     "output_type": "execute_result"
    }
   ],
   "source": [
    "train.head()"
   ]
  },
  {
   "cell_type": "code",
   "execution_count": 31,
   "id": "b98bb7fd",
   "metadata": {
    "execution": {
     "iopub.execute_input": "2022-12-09T01:42:31.064876Z",
     "iopub.status.busy": "2022-12-09T01:42:31.064474Z",
     "iopub.status.idle": "2022-12-09T01:42:31.071149Z",
     "shell.execute_reply": "2022-12-09T01:42:31.069844Z"
    },
    "papermill": {
     "duration": 0.042859,
     "end_time": "2022-12-09T01:42:31.073448",
     "exception": false,
     "start_time": "2022-12-09T01:42:31.030589",
     "status": "completed"
    },
    "tags": []
   },
   "outputs": [],
   "source": [
    "test['Name'] = test['Name'].apply(lambda x: title_replace.get(x))"
   ]
  },
  {
   "cell_type": "code",
   "execution_count": 32,
   "id": "9de6d310",
   "metadata": {
    "execution": {
     "iopub.execute_input": "2022-12-09T01:42:31.140245Z",
     "iopub.status.busy": "2022-12-09T01:42:31.139501Z",
     "iopub.status.idle": "2022-12-09T01:42:31.148207Z",
     "shell.execute_reply": "2022-12-09T01:42:31.147217Z"
    },
    "papermill": {
     "duration": 0.044868,
     "end_time": "2022-12-09T01:42:31.150368",
     "exception": false,
     "start_time": "2022-12-09T01:42:31.105500",
     "status": "completed"
    },
    "tags": []
   },
   "outputs": [
    {
     "data": {
      "text/plain": [
       "PassengerId      0\n",
       "Pclass           0\n",
       "Name             1\n",
       "Sex              0\n",
       "Age              0\n",
       "SibSp            0\n",
       "Parch            0\n",
       "Ticket           0\n",
       "Fare             1\n",
       "Cabin          327\n",
       "Embarked         0\n",
       "dtype: int64"
      ]
     },
     "execution_count": 32,
     "metadata": {},
     "output_type": "execute_result"
    }
   ],
   "source": [
    "test.isnull().sum()"
   ]
  },
  {
   "cell_type": "code",
   "execution_count": 33,
   "id": "90724fac",
   "metadata": {
    "execution": {
     "iopub.execute_input": "2022-12-09T01:42:31.217183Z",
     "iopub.status.busy": "2022-12-09T01:42:31.216736Z",
     "iopub.status.idle": "2022-12-09T01:42:31.232201Z",
     "shell.execute_reply": "2022-12-09T01:42:31.230869Z"
    },
    "papermill": {
     "duration": 0.052025,
     "end_time": "2022-12-09T01:42:31.234911",
     "exception": false,
     "start_time": "2022-12-09T01:42:31.182886",
     "status": "completed"
    },
    "tags": []
   },
   "outputs": [
    {
     "data": {
      "text/html": [
       "<div>\n",
       "<style scoped>\n",
       "    .dataframe tbody tr th:only-of-type {\n",
       "        vertical-align: middle;\n",
       "    }\n",
       "\n",
       "    .dataframe tbody tr th {\n",
       "        vertical-align: top;\n",
       "    }\n",
       "\n",
       "    .dataframe thead th {\n",
       "        text-align: right;\n",
       "    }\n",
       "</style>\n",
       "<table border=\"1\" class=\"dataframe\">\n",
       "  <thead>\n",
       "    <tr style=\"text-align: right;\">\n",
       "      <th></th>\n",
       "      <th>PassengerId</th>\n",
       "      <th>Pclass</th>\n",
       "      <th>Name</th>\n",
       "      <th>Sex</th>\n",
       "      <th>Age</th>\n",
       "      <th>SibSp</th>\n",
       "      <th>Parch</th>\n",
       "      <th>Ticket</th>\n",
       "      <th>Fare</th>\n",
       "      <th>Cabin</th>\n",
       "      <th>Embarked</th>\n",
       "    </tr>\n",
       "  </thead>\n",
       "  <tbody>\n",
       "    <tr>\n",
       "      <th>414</th>\n",
       "      <td>1306</td>\n",
       "      <td>1</td>\n",
       "      <td>NaN</td>\n",
       "      <td>0</td>\n",
       "      <td>39.0</td>\n",
       "      <td>0</td>\n",
       "      <td>0</td>\n",
       "      <td>PC 17758</td>\n",
       "      <td>108.9</td>\n",
       "      <td>C105</td>\n",
       "      <td>C</td>\n",
       "    </tr>\n",
       "  </tbody>\n",
       "</table>\n",
       "</div>"
      ],
      "text/plain": [
       "     PassengerId  Pclass  Name  Sex   Age  SibSp  Parch    Ticket   Fare  \\\n",
       "414         1306       1   NaN    0  39.0      0      0  PC 17758  108.9   \n",
       "\n",
       "    Cabin Embarked  \n",
       "414  C105        C  "
      ]
     },
     "execution_count": 33,
     "metadata": {},
     "output_type": "execute_result"
    }
   ],
   "source": [
    "test[test['Name'].isnull()]"
   ]
  },
  {
   "cell_type": "markdown",
   "id": "6fc8c045",
   "metadata": {
    "papermill": {
     "duration": 0.032879,
     "end_time": "2022-12-09T01:42:31.302369",
     "exception": false,
     "start_time": "2022-12-09T01:42:31.269490",
     "status": "completed"
    },
    "tags": []
   },
   "source": [
    "### Dona성을 가진 사람은 해당 성별에서 name에 대한 중간값을 넣어주자."
   ]
  },
  {
   "cell_type": "code",
   "execution_count": 34,
   "id": "cba3564b",
   "metadata": {
    "execution": {
     "iopub.execute_input": "2022-12-09T01:42:31.369792Z",
     "iopub.status.busy": "2022-12-09T01:42:31.369054Z",
     "iopub.status.idle": "2022-12-09T01:42:31.377624Z",
     "shell.execute_reply": "2022-12-09T01:42:31.376440Z"
    },
    "papermill": {
     "duration": 0.045036,
     "end_time": "2022-12-09T01:42:31.379863",
     "exception": false,
     "start_time": "2022-12-09T01:42:31.334827",
     "status": "completed"
    },
    "tags": []
   },
   "outputs": [
    {
     "data": {
      "text/plain": [
       "5.490066225165563"
      ]
     },
     "execution_count": 34,
     "metadata": {},
     "output_type": "execute_result"
    }
   ],
   "source": [
    "test[test['Sex'] == 0]['Name'].mean()"
   ]
  },
  {
   "cell_type": "code",
   "execution_count": 35,
   "id": "7f15ed43",
   "metadata": {
    "execution": {
     "iopub.execute_input": "2022-12-09T01:42:31.448053Z",
     "iopub.status.busy": "2022-12-09T01:42:31.446593Z",
     "iopub.status.idle": "2022-12-09T01:42:31.457608Z",
     "shell.execute_reply": "2022-12-09T01:42:31.455960Z"
    },
    "papermill": {
     "duration": 0.047714,
     "end_time": "2022-12-09T01:42:31.460122",
     "exception": false,
     "start_time": "2022-12-09T01:42:31.412408",
     "status": "completed"
    },
    "tags": []
   },
   "outputs": [
    {
     "data": {
      "text/plain": [
       "5.426751592356688"
      ]
     },
     "execution_count": 35,
     "metadata": {},
     "output_type": "execute_result"
    }
   ],
   "source": [
    "train[train['Sex'] == 0]['Name'].mean()"
   ]
  },
  {
   "cell_type": "code",
   "execution_count": 36,
   "id": "f269fa0b",
   "metadata": {
    "execution": {
     "iopub.execute_input": "2022-12-09T01:42:31.528457Z",
     "iopub.status.busy": "2022-12-09T01:42:31.526974Z",
     "iopub.status.idle": "2022-12-09T01:42:31.537822Z",
     "shell.execute_reply": "2022-12-09T01:42:31.536436Z"
    },
    "papermill": {
     "duration": 0.047509,
     "end_time": "2022-12-09T01:42:31.540584",
     "exception": false,
     "start_time": "2022-12-09T01:42:31.493075",
     "status": "completed"
    },
    "tags": []
   },
   "outputs": [
    {
     "data": {
      "text/plain": [
       "414    0\n",
       "Name: Sex, dtype: int64"
      ]
     },
     "execution_count": 36,
     "metadata": {},
     "output_type": "execute_result"
    }
   ],
   "source": [
    "test[test['Name'].isnull()]['Sex']"
   ]
  },
  {
   "cell_type": "code",
   "execution_count": 37,
   "id": "eaf44423",
   "metadata": {
    "execution": {
     "iopub.execute_input": "2022-12-09T01:42:31.609597Z",
     "iopub.status.busy": "2022-12-09T01:42:31.609137Z",
     "iopub.status.idle": "2022-12-09T01:42:31.618585Z",
     "shell.execute_reply": "2022-12-09T01:42:31.617281Z"
    },
    "papermill": {
     "duration": 0.046983,
     "end_time": "2022-12-09T01:42:31.621127",
     "exception": false,
     "start_time": "2022-12-09T01:42:31.574144",
     "status": "completed"
    },
    "tags": []
   },
   "outputs": [
    {
     "data": {
      "text/plain": [
       "414   NaN\n",
       "Name: Name, dtype: float64"
      ]
     },
     "execution_count": 37,
     "metadata": {},
     "output_type": "execute_result"
    }
   ],
   "source": [
    "test[test['Name'].isnull()]['Name']"
   ]
  },
  {
   "cell_type": "code",
   "execution_count": 38,
   "id": "36a55491",
   "metadata": {
    "execution": {
     "iopub.execute_input": "2022-12-09T01:42:31.690646Z",
     "iopub.status.busy": "2022-12-09T01:42:31.689800Z",
     "iopub.status.idle": "2022-12-09T01:42:31.697702Z",
     "shell.execute_reply": "2022-12-09T01:42:31.696440Z"
    },
    "papermill": {
     "duration": 0.045319,
     "end_time": "2022-12-09T01:42:31.700064",
     "exception": false,
     "start_time": "2022-12-09T01:42:31.654745",
     "status": "completed"
    },
    "tags": []
   },
   "outputs": [],
   "source": [
    "test['Name'] = test['Name'].fillna(value=train[train['Sex'] == 0]['Name'].mean())"
   ]
  },
  {
   "cell_type": "code",
   "execution_count": 39,
   "id": "e1aee81a",
   "metadata": {
    "execution": {
     "iopub.execute_input": "2022-12-09T01:42:31.768899Z",
     "iopub.status.busy": "2022-12-09T01:42:31.768451Z",
     "iopub.status.idle": "2022-12-09T01:42:31.787256Z",
     "shell.execute_reply": "2022-12-09T01:42:31.786078Z"
    },
    "papermill": {
     "duration": 0.055975,
     "end_time": "2022-12-09T01:42:31.789654",
     "exception": false,
     "start_time": "2022-12-09T01:42:31.733679",
     "status": "completed"
    },
    "tags": []
   },
   "outputs": [
    {
     "data": {
      "text/html": [
       "<div>\n",
       "<style scoped>\n",
       "    .dataframe tbody tr th:only-of-type {\n",
       "        vertical-align: middle;\n",
       "    }\n",
       "\n",
       "    .dataframe tbody tr th {\n",
       "        vertical-align: top;\n",
       "    }\n",
       "\n",
       "    .dataframe thead th {\n",
       "        text-align: right;\n",
       "    }\n",
       "</style>\n",
       "<table border=\"1\" class=\"dataframe\">\n",
       "  <thead>\n",
       "    <tr style=\"text-align: right;\">\n",
       "      <th></th>\n",
       "      <th>PassengerId</th>\n",
       "      <th>Pclass</th>\n",
       "      <th>Name</th>\n",
       "      <th>Sex</th>\n",
       "      <th>Age</th>\n",
       "      <th>SibSp</th>\n",
       "      <th>Parch</th>\n",
       "      <th>Ticket</th>\n",
       "      <th>Fare</th>\n",
       "      <th>Cabin</th>\n",
       "      <th>Embarked</th>\n",
       "    </tr>\n",
       "  </thead>\n",
       "  <tbody>\n",
       "    <tr>\n",
       "      <th>0</th>\n",
       "      <td>892</td>\n",
       "      <td>3</td>\n",
       "      <td>1.0</td>\n",
       "      <td>1</td>\n",
       "      <td>34.5</td>\n",
       "      <td>0</td>\n",
       "      <td>0</td>\n",
       "      <td>330911</td>\n",
       "      <td>7.8292</td>\n",
       "      <td>NaN</td>\n",
       "      <td>Q</td>\n",
       "    </tr>\n",
       "    <tr>\n",
       "      <th>1</th>\n",
       "      <td>893</td>\n",
       "      <td>3</td>\n",
       "      <td>6.0</td>\n",
       "      <td>0</td>\n",
       "      <td>47.0</td>\n",
       "      <td>1</td>\n",
       "      <td>0</td>\n",
       "      <td>363272</td>\n",
       "      <td>7.0000</td>\n",
       "      <td>NaN</td>\n",
       "      <td>S</td>\n",
       "    </tr>\n",
       "    <tr>\n",
       "      <th>2</th>\n",
       "      <td>894</td>\n",
       "      <td>2</td>\n",
       "      <td>1.0</td>\n",
       "      <td>1</td>\n",
       "      <td>62.0</td>\n",
       "      <td>0</td>\n",
       "      <td>0</td>\n",
       "      <td>240276</td>\n",
       "      <td>9.6875</td>\n",
       "      <td>NaN</td>\n",
       "      <td>Q</td>\n",
       "    </tr>\n",
       "    <tr>\n",
       "      <th>3</th>\n",
       "      <td>895</td>\n",
       "      <td>3</td>\n",
       "      <td>1.0</td>\n",
       "      <td>1</td>\n",
       "      <td>27.0</td>\n",
       "      <td>0</td>\n",
       "      <td>0</td>\n",
       "      <td>315154</td>\n",
       "      <td>8.6625</td>\n",
       "      <td>NaN</td>\n",
       "      <td>S</td>\n",
       "    </tr>\n",
       "    <tr>\n",
       "      <th>4</th>\n",
       "      <td>896</td>\n",
       "      <td>3</td>\n",
       "      <td>6.0</td>\n",
       "      <td>0</td>\n",
       "      <td>22.0</td>\n",
       "      <td>1</td>\n",
       "      <td>1</td>\n",
       "      <td>3101298</td>\n",
       "      <td>12.2875</td>\n",
       "      <td>NaN</td>\n",
       "      <td>S</td>\n",
       "    </tr>\n",
       "  </tbody>\n",
       "</table>\n",
       "</div>"
      ],
      "text/plain": [
       "   PassengerId  Pclass  Name  Sex   Age  SibSp  Parch   Ticket     Fare Cabin  \\\n",
       "0          892       3   1.0    1  34.5      0      0   330911   7.8292   NaN   \n",
       "1          893       3   6.0    0  47.0      1      0   363272   7.0000   NaN   \n",
       "2          894       2   1.0    1  62.0      0      0   240276   9.6875   NaN   \n",
       "3          895       3   1.0    1  27.0      0      0   315154   8.6625   NaN   \n",
       "4          896       3   6.0    0  22.0      1      1  3101298  12.2875   NaN   \n",
       "\n",
       "  Embarked  \n",
       "0        Q  \n",
       "1        S  \n",
       "2        Q  \n",
       "3        S  \n",
       "4        S  "
      ]
     },
     "execution_count": 39,
     "metadata": {},
     "output_type": "execute_result"
    }
   ],
   "source": [
    "test.head()"
   ]
  },
  {
   "cell_type": "code",
   "execution_count": 40,
   "id": "a5b10df6",
   "metadata": {
    "execution": {
     "iopub.execute_input": "2022-12-09T01:42:31.859954Z",
     "iopub.status.busy": "2022-12-09T01:42:31.859520Z",
     "iopub.status.idle": "2022-12-09T01:42:31.870113Z",
     "shell.execute_reply": "2022-12-09T01:42:31.868718Z"
    },
    "papermill": {
     "duration": 0.047863,
     "end_time": "2022-12-09T01:42:31.872344",
     "exception": false,
     "start_time": "2022-12-09T01:42:31.824481",
     "status": "completed"
    },
    "tags": []
   },
   "outputs": [
    {
     "data": {
      "text/plain": [
       "PassengerId      0\n",
       "Pclass           0\n",
       "Name             0\n",
       "Sex              0\n",
       "Age              0\n",
       "SibSp            0\n",
       "Parch            0\n",
       "Ticket           0\n",
       "Fare             1\n",
       "Cabin          327\n",
       "Embarked         0\n",
       "dtype: int64"
      ]
     },
     "execution_count": 40,
     "metadata": {},
     "output_type": "execute_result"
    }
   ],
   "source": [
    "test.isnull().sum()"
   ]
  },
  {
   "cell_type": "code",
   "execution_count": 41,
   "id": "c79706ab",
   "metadata": {
    "execution": {
     "iopub.execute_input": "2022-12-09T01:42:31.942167Z",
     "iopub.status.busy": "2022-12-09T01:42:31.941638Z",
     "iopub.status.idle": "2022-12-09T01:42:31.952783Z",
     "shell.execute_reply": "2022-12-09T01:42:31.951616Z"
    },
    "papermill": {
     "duration": 0.049416,
     "end_time": "2022-12-09T01:42:31.955077",
     "exception": false,
     "start_time": "2022-12-09T01:42:31.905661",
     "status": "completed"
    },
    "tags": []
   },
   "outputs": [
    {
     "data": {
      "text/plain": [
       "PassengerId      0\n",
       "Survived         0\n",
       "Pclass           0\n",
       "Name             0\n",
       "Sex              0\n",
       "Age              0\n",
       "SibSp            0\n",
       "Parch            0\n",
       "Ticket           0\n",
       "Fare             0\n",
       "Cabin          687\n",
       "Embarked         2\n",
       "dtype: int64"
      ]
     },
     "execution_count": 41,
     "metadata": {},
     "output_type": "execute_result"
    }
   ],
   "source": [
    "train.isnull().sum()"
   ]
  },
  {
   "cell_type": "code",
   "execution_count": 42,
   "id": "44422125",
   "metadata": {
    "execution": {
     "iopub.execute_input": "2022-12-09T01:42:32.024429Z",
     "iopub.status.busy": "2022-12-09T01:42:32.023930Z",
     "iopub.status.idle": "2022-12-09T01:42:32.029539Z",
     "shell.execute_reply": "2022-12-09T01:42:32.028257Z"
    },
    "papermill": {
     "duration": 0.04343,
     "end_time": "2022-12-09T01:42:32.032065",
     "exception": false,
     "start_time": "2022-12-09T01:42:31.988635",
     "status": "completed"
    },
    "tags": []
   },
   "outputs": [],
   "source": [
    "train_test_data = [train, test]"
   ]
  },
  {
   "cell_type": "markdown",
   "id": "0de62363",
   "metadata": {
    "papermill": {
     "duration": 0.033099,
     "end_time": "2022-12-09T01:42:32.099262",
     "exception": false,
     "start_time": "2022-12-09T01:42:32.066163",
     "status": "completed"
    },
    "tags": []
   },
   "source": [
    "### 나이를 세분화하자, 10살부터 5살 단위로 60살까지"
   ]
  },
  {
   "cell_type": "code",
   "execution_count": 43,
   "id": "4a5d667e",
   "metadata": {
    "execution": {
     "iopub.execute_input": "2022-12-09T01:42:32.168201Z",
     "iopub.status.busy": "2022-12-09T01:42:32.167738Z",
     "iopub.status.idle": "2022-12-09T01:42:32.207345Z",
     "shell.execute_reply": "2022-12-09T01:42:32.206017Z"
    },
    "papermill": {
     "duration": 0.077199,
     "end_time": "2022-12-09T01:42:32.209860",
     "exception": false,
     "start_time": "2022-12-09T01:42:32.132661",
     "status": "completed"
    },
    "tags": []
   },
   "outputs": [
    {
     "data": {
      "text/html": [
       "<div>\n",
       "<style scoped>\n",
       "    .dataframe tbody tr th:only-of-type {\n",
       "        vertical-align: middle;\n",
       "    }\n",
       "\n",
       "    .dataframe tbody tr th {\n",
       "        vertical-align: top;\n",
       "    }\n",
       "\n",
       "    .dataframe thead th {\n",
       "        text-align: right;\n",
       "    }\n",
       "</style>\n",
       "<table border=\"1\" class=\"dataframe\">\n",
       "  <thead>\n",
       "    <tr style=\"text-align: right;\">\n",
       "      <th></th>\n",
       "      <th>PassengerId</th>\n",
       "      <th>Survived</th>\n",
       "      <th>Pclass</th>\n",
       "      <th>Name</th>\n",
       "      <th>Sex</th>\n",
       "      <th>Age</th>\n",
       "      <th>SibSp</th>\n",
       "      <th>Parch</th>\n",
       "      <th>Ticket</th>\n",
       "      <th>Fare</th>\n",
       "      <th>Cabin</th>\n",
       "      <th>Embarked</th>\n",
       "    </tr>\n",
       "  </thead>\n",
       "  <tbody>\n",
       "    <tr>\n",
       "      <th>0</th>\n",
       "      <td>1</td>\n",
       "      <td>0</td>\n",
       "      <td>3</td>\n",
       "      <td>1</td>\n",
       "      <td>1</td>\n",
       "      <td>3.0</td>\n",
       "      <td>1</td>\n",
       "      <td>0</td>\n",
       "      <td>A/5 21171</td>\n",
       "      <td>7.2500</td>\n",
       "      <td>NaN</td>\n",
       "      <td>S</td>\n",
       "    </tr>\n",
       "    <tr>\n",
       "      <th>1</th>\n",
       "      <td>2</td>\n",
       "      <td>1</td>\n",
       "      <td>1</td>\n",
       "      <td>6</td>\n",
       "      <td>0</td>\n",
       "      <td>6.0</td>\n",
       "      <td>1</td>\n",
       "      <td>0</td>\n",
       "      <td>PC 17599</td>\n",
       "      <td>71.2833</td>\n",
       "      <td>C85</td>\n",
       "      <td>C</td>\n",
       "    </tr>\n",
       "    <tr>\n",
       "      <th>2</th>\n",
       "      <td>3</td>\n",
       "      <td>1</td>\n",
       "      <td>3</td>\n",
       "      <td>5</td>\n",
       "      <td>0</td>\n",
       "      <td>3.0</td>\n",
       "      <td>0</td>\n",
       "      <td>0</td>\n",
       "      <td>STON/O2. 3101282</td>\n",
       "      <td>7.9250</td>\n",
       "      <td>NaN</td>\n",
       "      <td>S</td>\n",
       "    </tr>\n",
       "    <tr>\n",
       "      <th>3</th>\n",
       "      <td>4</td>\n",
       "      <td>1</td>\n",
       "      <td>1</td>\n",
       "      <td>6</td>\n",
       "      <td>0</td>\n",
       "      <td>5.0</td>\n",
       "      <td>1</td>\n",
       "      <td>0</td>\n",
       "      <td>113803</td>\n",
       "      <td>53.1000</td>\n",
       "      <td>C123</td>\n",
       "      <td>S</td>\n",
       "    </tr>\n",
       "    <tr>\n",
       "      <th>4</th>\n",
       "      <td>5</td>\n",
       "      <td>0</td>\n",
       "      <td>3</td>\n",
       "      <td>1</td>\n",
       "      <td>1</td>\n",
       "      <td>5.0</td>\n",
       "      <td>0</td>\n",
       "      <td>0</td>\n",
       "      <td>373450</td>\n",
       "      <td>8.0500</td>\n",
       "      <td>NaN</td>\n",
       "      <td>S</td>\n",
       "    </tr>\n",
       "  </tbody>\n",
       "</table>\n",
       "</div>"
      ],
      "text/plain": [
       "   PassengerId  Survived  Pclass  Name  Sex  Age  SibSp  Parch  \\\n",
       "0            1         0       3     1    1  3.0      1      0   \n",
       "1            2         1       1     6    0  6.0      1      0   \n",
       "2            3         1       3     5    0  3.0      0      0   \n",
       "3            4         1       1     6    0  5.0      1      0   \n",
       "4            5         0       3     1    1  5.0      0      0   \n",
       "\n",
       "             Ticket     Fare Cabin Embarked  \n",
       "0         A/5 21171   7.2500   NaN        S  \n",
       "1          PC 17599  71.2833   C85        C  \n",
       "2  STON/O2. 3101282   7.9250   NaN        S  \n",
       "3            113803  53.1000  C123        S  \n",
       "4            373450   8.0500   NaN        S  "
      ]
     },
     "execution_count": 43,
     "metadata": {},
     "output_type": "execute_result"
    }
   ],
   "source": [
    "for dataset in train_test_data:\n",
    "    dataset.loc[ dataset['Age']<=10, 'Age'] = 0\n",
    "    dataset.loc[(dataset['Age']>10)&(dataset['Age']<=16), 'Age'] = 1\n",
    "    dataset.loc[(dataset['Age']>16)&(dataset['Age']<=20), 'Age'] = 2\n",
    "    dataset.loc[(dataset['Age']>20)&(dataset['Age']<=26), 'Age'] = 3\n",
    "    dataset.loc[(dataset['Age']>26)&(dataset['Age']<=30), 'Age'] = 4\n",
    "    dataset.loc[(dataset['Age']>30)&(dataset['Age']<=36), 'Age'] = 5\n",
    "    dataset.loc[(dataset['Age']>36)&(dataset['Age']<=40), 'Age'] = 6\n",
    "    dataset.loc[(dataset['Age']>40)&(dataset['Age']<=46), 'Age'] = 7\n",
    "    dataset.loc[(dataset['Age']>46)&(dataset['Age']<=50), 'Age'] = 8\n",
    "    dataset.loc[(dataset['Age']>50)&(dataset['Age']<=60), 'Age'] = 9\n",
    "    dataset.loc[ dataset['Age']>60, 'Age'] = 10\n",
    "\n",
    "# for dataset in train_test_data:\n",
    "#     dataset.loc[ dataset['Age'] <= 10, 'Age'] = 0\n",
    "#     dataset.loc[(dataset['Age'] > 10) & (dataset['Age'] <= 16), 'Age'] = 1\n",
    "#     dataset.loc[(dataset['Age'] > 32) & (dataset['Age'] <= 48), 'Age'] = 2\n",
    "#     dataset.loc[(dataset['Age'] > 48) & (dataset['Age'] <= 64), 'Age'] = 3\n",
    "#     dataset.loc[ dataset['Age'] > 64, 'Age']\n",
    "train.head()"
   ]
  },
  {
   "cell_type": "markdown",
   "id": "3af88def",
   "metadata": {
    "papermill": {
     "duration": 0.034592,
     "end_time": "2022-12-09T01:42:32.278428",
     "exception": false,
     "start_time": "2022-12-09T01:42:32.243836",
     "status": "completed"
    },
    "tags": []
   },
   "source": [
    "### 나눈 나이에 대해 나이별로 죽은사람과 산사람 비율을 확인하자"
   ]
  },
  {
   "cell_type": "code",
   "execution_count": 44,
   "id": "b5402c2b",
   "metadata": {
    "execution": {
     "iopub.execute_input": "2022-12-09T01:42:32.349030Z",
     "iopub.status.busy": "2022-12-09T01:42:32.348564Z",
     "iopub.status.idle": "2022-12-09T01:42:33.327648Z",
     "shell.execute_reply": "2022-12-09T01:42:33.326340Z"
    },
    "papermill": {
     "duration": 1.017448,
     "end_time": "2022-12-09T01:42:33.330758",
     "exception": false,
     "start_time": "2022-12-09T01:42:32.313310",
     "status": "completed"
    },
    "tags": []
   },
   "outputs": [
    {
     "data": {
      "image/png": "[encoded data removed]",
      "text/plain": [
       "<Figure size 1080x432 with 11 Axes>"
      ]
     },
     "metadata": {},
     "output_type": "display_data"
    }
   ],
   "source": [
    "fig = plt.figure(figsize=(15,6))\n",
    "\n",
    "i=1\n",
    "for age in train['Age'].unique():\n",
    "    fig.add_subplot(3, 6, i)\n",
    "    plt.title('Age : {}'.format(age))\n",
    "    train.Survived[train['Age'] == age].value_counts().plot(kind='pie')\n",
    "    i += 1"
   ]
  },
  {
   "cell_type": "markdown",
   "id": "6b2db836",
   "metadata": {
    "papermill": {
     "duration": 0.034086,
     "end_time": "2022-12-09T01:42:33.402417",
     "exception": false,
     "start_time": "2022-12-09T01:42:33.368331",
     "status": "completed"
    },
    "tags": []
   },
   "source": [
    "### 이 또한 name과 같이 값을 매기자"
   ]
  },
  {
   "cell_type": "code",
   "execution_count": 45,
   "id": "700e99bd",
   "metadata": {
    "execution": {
     "iopub.execute_input": "2022-12-09T01:42:33.474957Z",
     "iopub.status.busy": "2022-12-09T01:42:33.474549Z",
     "iopub.status.idle": "2022-12-09T01:42:33.480036Z",
     "shell.execute_reply": "2022-12-09T01:42:33.479059Z"
    },
    "papermill": {
     "duration": 0.044729,
     "end_time": "2022-12-09T01:42:33.482353",
     "exception": false,
     "start_time": "2022-12-09T01:42:33.437624",
     "status": "completed"
    },
    "tags": []
   },
   "outputs": [],
   "source": [
    "age_point_replace = {\n",
    "    0: 8,\n",
    "    1: 6,\n",
    "    2: 2,\n",
    "    3: 4,\n",
    "    4: 1,\n",
    "    5: 7,\n",
    "    6: 3,\n",
    "    7: 2,\n",
    "    8: 5,\n",
    "    9: 4,\n",
    "    10: 0\n",
    "    \n",
    "}"
   ]
  },
  {
   "cell_type": "code",
   "execution_count": 46,
   "id": "1d4ebc62",
   "metadata": {
    "execution": {
     "iopub.execute_input": "2022-12-09T01:42:33.553888Z",
     "iopub.status.busy": "2022-12-09T01:42:33.553442Z",
     "iopub.status.idle": "2022-12-09T01:42:33.562422Z",
     "shell.execute_reply": "2022-12-09T01:42:33.561230Z"
    },
    "papermill": {
     "duration": 0.04823,
     "end_time": "2022-12-09T01:42:33.565292",
     "exception": false,
     "start_time": "2022-12-09T01:42:33.517062",
     "status": "completed"
    },
    "tags": []
   },
   "outputs": [],
   "source": [
    "for dataset in train_test_data:\n",
    "    dataset['age_point'] = dataset['Age'].apply(lambda x: age_point_replace.get(x))"
   ]
  },
  {
   "cell_type": "code",
   "execution_count": 47,
   "id": "fedbe5e8",
   "metadata": {
    "execution": {
     "iopub.execute_input": "2022-12-09T01:42:33.638230Z",
     "iopub.status.busy": "2022-12-09T01:42:33.637348Z",
     "iopub.status.idle": "2022-12-09T01:42:33.655044Z",
     "shell.execute_reply": "2022-12-09T01:42:33.653760Z"
    },
    "papermill": {
     "duration": 0.057209,
     "end_time": "2022-12-09T01:42:33.658255",
     "exception": false,
     "start_time": "2022-12-09T01:42:33.601046",
     "status": "completed"
    },
    "tags": []
   },
   "outputs": [
    {
     "data": {
      "text/html": [
       "<div>\n",
       "<style scoped>\n",
       "    .dataframe tbody tr th:only-of-type {\n",
       "        vertical-align: middle;\n",
       "    }\n",
       "\n",
       "    .dataframe tbody tr th {\n",
       "        vertical-align: top;\n",
       "    }\n",
       "\n",
       "    .dataframe thead th {\n",
       "        text-align: right;\n",
       "    }\n",
       "</style>\n",
       "<table border=\"1\" class=\"dataframe\">\n",
       "  <thead>\n",
       "    <tr style=\"text-align: right;\">\n",
       "      <th></th>\n",
       "      <th>PassengerId</th>\n",
       "      <th>Survived</th>\n",
       "      <th>Pclass</th>\n",
       "      <th>Name</th>\n",
       "      <th>Sex</th>\n",
       "      <th>Age</th>\n",
       "      <th>SibSp</th>\n",
       "      <th>Parch</th>\n",
       "      <th>Ticket</th>\n",
       "      <th>Fare</th>\n",
       "      <th>Cabin</th>\n",
       "      <th>Embarked</th>\n",
       "      <th>age_point</th>\n",
       "    </tr>\n",
       "  </thead>\n",
       "  <tbody>\n",
       "    <tr>\n",
       "      <th>0</th>\n",
       "      <td>1</td>\n",
       "      <td>0</td>\n",
       "      <td>3</td>\n",
       "      <td>1</td>\n",
       "      <td>1</td>\n",
       "      <td>3.0</td>\n",
       "      <td>1</td>\n",
       "      <td>0</td>\n",
       "      <td>A/5 21171</td>\n",
       "      <td>7.2500</td>\n",
       "      <td>NaN</td>\n",
       "      <td>S</td>\n",
       "      <td>4</td>\n",
       "    </tr>\n",
       "    <tr>\n",
       "      <th>1</th>\n",
       "      <td>2</td>\n",
       "      <td>1</td>\n",
       "      <td>1</td>\n",
       "      <td>6</td>\n",
       "      <td>0</td>\n",
       "      <td>6.0</td>\n",
       "      <td>1</td>\n",
       "      <td>0</td>\n",
       "      <td>PC 17599</td>\n",
       "      <td>71.2833</td>\n",
       "      <td>C85</td>\n",
       "      <td>C</td>\n",
       "      <td>3</td>\n",
       "    </tr>\n",
       "    <tr>\n",
       "      <th>2</th>\n",
       "      <td>3</td>\n",
       "      <td>1</td>\n",
       "      <td>3</td>\n",
       "      <td>5</td>\n",
       "      <td>0</td>\n",
       "      <td>3.0</td>\n",
       "      <td>0</td>\n",
       "      <td>0</td>\n",
       "      <td>STON/O2. 3101282</td>\n",
       "      <td>7.9250</td>\n",
       "      <td>NaN</td>\n",
       "      <td>S</td>\n",
       "      <td>4</td>\n",
       "    </tr>\n",
       "    <tr>\n",
       "      <th>3</th>\n",
       "      <td>4</td>\n",
       "      <td>1</td>\n",
       "      <td>1</td>\n",
       "      <td>6</td>\n",
       "      <td>0</td>\n",
       "      <td>5.0</td>\n",
       "      <td>1</td>\n",
       "      <td>0</td>\n",
       "      <td>113803</td>\n",
       "      <td>53.1000</td>\n",
       "      <td>C123</td>\n",
       "      <td>S</td>\n",
       "      <td>7</td>\n",
       "    </tr>\n",
       "    <tr>\n",
       "      <th>4</th>\n",
       "      <td>5</td>\n",
       "      <td>0</td>\n",
       "      <td>3</td>\n",
       "      <td>1</td>\n",
       "      <td>1</td>\n",
       "      <td>5.0</td>\n",
       "      <td>0</td>\n",
       "      <td>0</td>\n",
       "      <td>373450</td>\n",
       "      <td>8.0500</td>\n",
       "      <td>NaN</td>\n",
       "      <td>S</td>\n",
       "      <td>7</td>\n",
       "    </tr>\n",
       "  </tbody>\n",
       "</table>\n",
       "</div>"
      ],
      "text/plain": [
       "   PassengerId  Survived  Pclass  Name  Sex  Age  SibSp  Parch  \\\n",
       "0            1         0       3     1    1  3.0      1      0   \n",
       "1            2         1       1     6    0  6.0      1      0   \n",
       "2            3         1       3     5    0  3.0      0      0   \n",
       "3            4         1       1     6    0  5.0      1      0   \n",
       "4            5         0       3     1    1  5.0      0      0   \n",
       "\n",
       "             Ticket     Fare Cabin Embarked  age_point  \n",
       "0         A/5 21171   7.2500   NaN        S          4  \n",
       "1          PC 17599  71.2833   C85        C          3  \n",
       "2  STON/O2. 3101282   7.9250   NaN        S          4  \n",
       "3            113803  53.1000  C123        S          7  \n",
       "4            373450   8.0500   NaN        S          7  "
      ]
     },
     "execution_count": 47,
     "metadata": {},
     "output_type": "execute_result"
    }
   ],
   "source": [
    "train.head()"
   ]
  },
  {
   "cell_type": "code",
   "execution_count": 48,
   "id": "3572a266",
   "metadata": {
    "execution": {
     "iopub.execute_input": "2022-12-09T01:42:33.731754Z",
     "iopub.status.busy": "2022-12-09T01:42:33.731090Z",
     "iopub.status.idle": "2022-12-09T01:42:33.747949Z",
     "shell.execute_reply": "2022-12-09T01:42:33.747085Z"
    },
    "papermill": {
     "duration": 0.056775,
     "end_time": "2022-12-09T01:42:33.750296",
     "exception": false,
     "start_time": "2022-12-09T01:42:33.693521",
     "status": "completed"
    },
    "tags": []
   },
   "outputs": [
    {
     "data": {
      "text/html": [
       "<div>\n",
       "<style scoped>\n",
       "    .dataframe tbody tr th:only-of-type {\n",
       "        vertical-align: middle;\n",
       "    }\n",
       "\n",
       "    .dataframe tbody tr th {\n",
       "        vertical-align: top;\n",
       "    }\n",
       "\n",
       "    .dataframe thead th {\n",
       "        text-align: right;\n",
       "    }\n",
       "</style>\n",
       "<table border=\"1\" class=\"dataframe\">\n",
       "  <thead>\n",
       "    <tr style=\"text-align: right;\">\n",
       "      <th></th>\n",
       "      <th>PassengerId</th>\n",
       "      <th>Survived</th>\n",
       "      <th>Pclass</th>\n",
       "      <th>Name</th>\n",
       "      <th>Sex</th>\n",
       "      <th>Age</th>\n",
       "      <th>SibSp</th>\n",
       "      <th>Parch</th>\n",
       "      <th>Ticket</th>\n",
       "      <th>Fare</th>\n",
       "      <th>Cabin</th>\n",
       "      <th>Embarked</th>\n",
       "      <th>age_point</th>\n",
       "    </tr>\n",
       "  </thead>\n",
       "  <tbody>\n",
       "    <tr>\n",
       "      <th>0</th>\n",
       "      <td>1</td>\n",
       "      <td>0</td>\n",
       "      <td>3</td>\n",
       "      <td>1</td>\n",
       "      <td>1</td>\n",
       "      <td>3.0</td>\n",
       "      <td>1</td>\n",
       "      <td>0</td>\n",
       "      <td>A/5 21171</td>\n",
       "      <td>7.2500</td>\n",
       "      <td>NaN</td>\n",
       "      <td>S</td>\n",
       "      <td>4</td>\n",
       "    </tr>\n",
       "    <tr>\n",
       "      <th>1</th>\n",
       "      <td>2</td>\n",
       "      <td>1</td>\n",
       "      <td>1</td>\n",
       "      <td>6</td>\n",
       "      <td>0</td>\n",
       "      <td>6.0</td>\n",
       "      <td>1</td>\n",
       "      <td>0</td>\n",
       "      <td>PC 17599</td>\n",
       "      <td>71.2833</td>\n",
       "      <td>C85</td>\n",
       "      <td>C</td>\n",
       "      <td>3</td>\n",
       "    </tr>\n",
       "    <tr>\n",
       "      <th>2</th>\n",
       "      <td>3</td>\n",
       "      <td>1</td>\n",
       "      <td>3</td>\n",
       "      <td>5</td>\n",
       "      <td>0</td>\n",
       "      <td>3.0</td>\n",
       "      <td>0</td>\n",
       "      <td>0</td>\n",
       "      <td>STON/O2. 3101282</td>\n",
       "      <td>7.9250</td>\n",
       "      <td>NaN</td>\n",
       "      <td>S</td>\n",
       "      <td>4</td>\n",
       "    </tr>\n",
       "    <tr>\n",
       "      <th>3</th>\n",
       "      <td>4</td>\n",
       "      <td>1</td>\n",
       "      <td>1</td>\n",
       "      <td>6</td>\n",
       "      <td>0</td>\n",
       "      <td>5.0</td>\n",
       "      <td>1</td>\n",
       "      <td>0</td>\n",
       "      <td>113803</td>\n",
       "      <td>53.1000</td>\n",
       "      <td>C123</td>\n",
       "      <td>S</td>\n",
       "      <td>7</td>\n",
       "    </tr>\n",
       "    <tr>\n",
       "      <th>4</th>\n",
       "      <td>5</td>\n",
       "      <td>0</td>\n",
       "      <td>3</td>\n",
       "      <td>1</td>\n",
       "      <td>1</td>\n",
       "      <td>5.0</td>\n",
       "      <td>0</td>\n",
       "      <td>0</td>\n",
       "      <td>373450</td>\n",
       "      <td>8.0500</td>\n",
       "      <td>NaN</td>\n",
       "      <td>S</td>\n",
       "      <td>7</td>\n",
       "    </tr>\n",
       "  </tbody>\n",
       "</table>\n",
       "</div>"
      ],
      "text/plain": [
       "   PassengerId  Survived  Pclass  Name  Sex  Age  SibSp  Parch  \\\n",
       "0            1         0       3     1    1  3.0      1      0   \n",
       "1            2         1       1     6    0  6.0      1      0   \n",
       "2            3         1       3     5    0  3.0      0      0   \n",
       "3            4         1       1     6    0  5.0      1      0   \n",
       "4            5         0       3     1    1  5.0      0      0   \n",
       "\n",
       "             Ticket     Fare Cabin Embarked  age_point  \n",
       "0         A/5 21171   7.2500   NaN        S          4  \n",
       "1          PC 17599  71.2833   C85        C          3  \n",
       "2  STON/O2. 3101282   7.9250   NaN        S          4  \n",
       "3            113803  53.1000  C123        S          7  \n",
       "4            373450   8.0500   NaN        S          7  "
      ]
     },
     "execution_count": 48,
     "metadata": {},
     "output_type": "execute_result"
    }
   ],
   "source": [
    "train.head()"
   ]
  },
  {
   "cell_type": "code",
   "execution_count": 49,
   "id": "f518b790",
   "metadata": {
    "execution": {
     "iopub.execute_input": "2022-12-09T01:42:33.826092Z",
     "iopub.status.busy": "2022-12-09T01:42:33.825659Z",
     "iopub.status.idle": "2022-12-09T01:42:33.843045Z",
     "shell.execute_reply": "2022-12-09T01:42:33.841837Z"
    },
    "papermill": {
     "duration": 0.058576,
     "end_time": "2022-12-09T01:42:33.845401",
     "exception": false,
     "start_time": "2022-12-09T01:42:33.786825",
     "status": "completed"
    },
    "tags": []
   },
   "outputs": [
    {
     "data": {
      "text/html": [
       "<div>\n",
       "<style scoped>\n",
       "    .dataframe tbody tr th:only-of-type {\n",
       "        vertical-align: middle;\n",
       "    }\n",
       "\n",
       "    .dataframe tbody tr th {\n",
       "        vertical-align: top;\n",
       "    }\n",
       "\n",
       "    .dataframe thead th {\n",
       "        text-align: right;\n",
       "    }\n",
       "</style>\n",
       "<table border=\"1\" class=\"dataframe\">\n",
       "  <thead>\n",
       "    <tr style=\"text-align: right;\">\n",
       "      <th></th>\n",
       "      <th>PassengerId</th>\n",
       "      <th>Pclass</th>\n",
       "      <th>Name</th>\n",
       "      <th>Sex</th>\n",
       "      <th>Age</th>\n",
       "      <th>SibSp</th>\n",
       "      <th>Parch</th>\n",
       "      <th>Ticket</th>\n",
       "      <th>Fare</th>\n",
       "      <th>Cabin</th>\n",
       "      <th>Embarked</th>\n",
       "      <th>age_point</th>\n",
       "    </tr>\n",
       "  </thead>\n",
       "  <tbody>\n",
       "    <tr>\n",
       "      <th>0</th>\n",
       "      <td>892</td>\n",
       "      <td>3</td>\n",
       "      <td>1.0</td>\n",
       "      <td>1</td>\n",
       "      <td>5.0</td>\n",
       "      <td>0</td>\n",
       "      <td>0</td>\n",
       "      <td>330911</td>\n",
       "      <td>7.8292</td>\n",
       "      <td>NaN</td>\n",
       "      <td>Q</td>\n",
       "      <td>7</td>\n",
       "    </tr>\n",
       "    <tr>\n",
       "      <th>1</th>\n",
       "      <td>893</td>\n",
       "      <td>3</td>\n",
       "      <td>6.0</td>\n",
       "      <td>0</td>\n",
       "      <td>8.0</td>\n",
       "      <td>1</td>\n",
       "      <td>0</td>\n",
       "      <td>363272</td>\n",
       "      <td>7.0000</td>\n",
       "      <td>NaN</td>\n",
       "      <td>S</td>\n",
       "      <td>5</td>\n",
       "    </tr>\n",
       "    <tr>\n",
       "      <th>2</th>\n",
       "      <td>894</td>\n",
       "      <td>2</td>\n",
       "      <td>1.0</td>\n",
       "      <td>1</td>\n",
       "      <td>10.0</td>\n",
       "      <td>0</td>\n",
       "      <td>0</td>\n",
       "      <td>240276</td>\n",
       "      <td>9.6875</td>\n",
       "      <td>NaN</td>\n",
       "      <td>Q</td>\n",
       "      <td>0</td>\n",
       "    </tr>\n",
       "    <tr>\n",
       "      <th>3</th>\n",
       "      <td>895</td>\n",
       "      <td>3</td>\n",
       "      <td>1.0</td>\n",
       "      <td>1</td>\n",
       "      <td>4.0</td>\n",
       "      <td>0</td>\n",
       "      <td>0</td>\n",
       "      <td>315154</td>\n",
       "      <td>8.6625</td>\n",
       "      <td>NaN</td>\n",
       "      <td>S</td>\n",
       "      <td>1</td>\n",
       "    </tr>\n",
       "    <tr>\n",
       "      <th>4</th>\n",
       "      <td>896</td>\n",
       "      <td>3</td>\n",
       "      <td>6.0</td>\n",
       "      <td>0</td>\n",
       "      <td>3.0</td>\n",
       "      <td>1</td>\n",
       "      <td>1</td>\n",
       "      <td>3101298</td>\n",
       "      <td>12.2875</td>\n",
       "      <td>NaN</td>\n",
       "      <td>S</td>\n",
       "      <td>4</td>\n",
       "    </tr>\n",
       "  </tbody>\n",
       "</table>\n",
       "</div>"
      ],
      "text/plain": [
       "   PassengerId  Pclass  Name  Sex   Age  SibSp  Parch   Ticket     Fare Cabin  \\\n",
       "0          892       3   1.0    1   5.0      0      0   330911   7.8292   NaN   \n",
       "1          893       3   6.0    0   8.0      1      0   363272   7.0000   NaN   \n",
       "2          894       2   1.0    1  10.0      0      0   240276   9.6875   NaN   \n",
       "3          895       3   1.0    1   4.0      0      0   315154   8.6625   NaN   \n",
       "4          896       3   6.0    0   3.0      1      1  3101298  12.2875   NaN   \n",
       "\n",
       "  Embarked  age_point  \n",
       "0        Q          7  \n",
       "1        S          5  \n",
       "2        Q          0  \n",
       "3        S          1  \n",
       "4        S          4  "
      ]
     },
     "execution_count": 49,
     "metadata": {},
     "output_type": "execute_result"
    }
   ],
   "source": [
    "test.head()"
   ]
  },
  {
   "cell_type": "code",
   "execution_count": 50,
   "id": "be9c1eba",
   "metadata": {
    "execution": {
     "iopub.execute_input": "2022-12-09T01:42:33.920470Z",
     "iopub.status.busy": "2022-12-09T01:42:33.920052Z",
     "iopub.status.idle": "2022-12-09T01:42:33.937721Z",
     "shell.execute_reply": "2022-12-09T01:42:33.936566Z"
    },
    "papermill": {
     "duration": 0.059713,
     "end_time": "2022-12-09T01:42:33.940245",
     "exception": false,
     "start_time": "2022-12-09T01:42:33.880532",
     "status": "completed"
    },
    "tags": []
   },
   "outputs": [
    {
     "data": {
      "text/html": [
       "<div>\n",
       "<style scoped>\n",
       "    .dataframe tbody tr th:only-of-type {\n",
       "        vertical-align: middle;\n",
       "    }\n",
       "\n",
       "    .dataframe tbody tr th {\n",
       "        vertical-align: top;\n",
       "    }\n",
       "\n",
       "    .dataframe thead th {\n",
       "        text-align: right;\n",
       "    }\n",
       "</style>\n",
       "<table border=\"1\" class=\"dataframe\">\n",
       "  <thead>\n",
       "    <tr style=\"text-align: right;\">\n",
       "      <th></th>\n",
       "      <th>PassengerId</th>\n",
       "      <th>Survived</th>\n",
       "      <th>Pclass</th>\n",
       "      <th>Name</th>\n",
       "      <th>Sex</th>\n",
       "      <th>Age</th>\n",
       "      <th>SibSp</th>\n",
       "      <th>Parch</th>\n",
       "      <th>Ticket</th>\n",
       "      <th>Fare</th>\n",
       "      <th>Cabin</th>\n",
       "      <th>Embarked</th>\n",
       "      <th>age_point</th>\n",
       "    </tr>\n",
       "  </thead>\n",
       "  <tbody>\n",
       "    <tr>\n",
       "      <th>0</th>\n",
       "      <td>1</td>\n",
       "      <td>0</td>\n",
       "      <td>3</td>\n",
       "      <td>1</td>\n",
       "      <td>1</td>\n",
       "      <td>3.0</td>\n",
       "      <td>1</td>\n",
       "      <td>0</td>\n",
       "      <td>A/5 21171</td>\n",
       "      <td>7.2500</td>\n",
       "      <td>NaN</td>\n",
       "      <td>S</td>\n",
       "      <td>4</td>\n",
       "    </tr>\n",
       "    <tr>\n",
       "      <th>1</th>\n",
       "      <td>2</td>\n",
       "      <td>1</td>\n",
       "      <td>1</td>\n",
       "      <td>6</td>\n",
       "      <td>0</td>\n",
       "      <td>6.0</td>\n",
       "      <td>1</td>\n",
       "      <td>0</td>\n",
       "      <td>PC 17599</td>\n",
       "      <td>71.2833</td>\n",
       "      <td>C85</td>\n",
       "      <td>C</td>\n",
       "      <td>3</td>\n",
       "    </tr>\n",
       "    <tr>\n",
       "      <th>2</th>\n",
       "      <td>3</td>\n",
       "      <td>1</td>\n",
       "      <td>3</td>\n",
       "      <td>5</td>\n",
       "      <td>0</td>\n",
       "      <td>3.0</td>\n",
       "      <td>0</td>\n",
       "      <td>0</td>\n",
       "      <td>STON/O2. 3101282</td>\n",
       "      <td>7.9250</td>\n",
       "      <td>NaN</td>\n",
       "      <td>S</td>\n",
       "      <td>4</td>\n",
       "    </tr>\n",
       "    <tr>\n",
       "      <th>3</th>\n",
       "      <td>4</td>\n",
       "      <td>1</td>\n",
       "      <td>1</td>\n",
       "      <td>6</td>\n",
       "      <td>0</td>\n",
       "      <td>5.0</td>\n",
       "      <td>1</td>\n",
       "      <td>0</td>\n",
       "      <td>113803</td>\n",
       "      <td>53.1000</td>\n",
       "      <td>C123</td>\n",
       "      <td>S</td>\n",
       "      <td>7</td>\n",
       "    </tr>\n",
       "    <tr>\n",
       "      <th>4</th>\n",
       "      <td>5</td>\n",
       "      <td>0</td>\n",
       "      <td>3</td>\n",
       "      <td>1</td>\n",
       "      <td>1</td>\n",
       "      <td>5.0</td>\n",
       "      <td>0</td>\n",
       "      <td>0</td>\n",
       "      <td>373450</td>\n",
       "      <td>8.0500</td>\n",
       "      <td>NaN</td>\n",
       "      <td>S</td>\n",
       "      <td>7</td>\n",
       "    </tr>\n",
       "  </tbody>\n",
       "</table>\n",
       "</div>"
      ],
      "text/plain": [
       "   PassengerId  Survived  Pclass  Name  Sex  Age  SibSp  Parch  \\\n",
       "0            1         0       3     1    1  3.0      1      0   \n",
       "1            2         1       1     6    0  6.0      1      0   \n",
       "2            3         1       3     5    0  3.0      0      0   \n",
       "3            4         1       1     6    0  5.0      1      0   \n",
       "4            5         0       3     1    1  5.0      0      0   \n",
       "\n",
       "             Ticket     Fare Cabin Embarked  age_point  \n",
       "0         A/5 21171   7.2500   NaN        S          4  \n",
       "1          PC 17599  71.2833   C85        C          3  \n",
       "2  STON/O2. 3101282   7.9250   NaN        S          4  \n",
       "3            113803  53.1000  C123        S          7  \n",
       "4            373450   8.0500   NaN        S          7  "
      ]
     },
     "execution_count": 50,
     "metadata": {},
     "output_type": "execute_result"
    }
   ],
   "source": [
    "train.head()"
   ]
  },
  {
   "cell_type": "markdown",
   "id": "220d84a6",
   "metadata": {
    "papermill": {
     "duration": 0.036155,
     "end_time": "2022-12-09T01:42:34.012070",
     "exception": false,
     "start_time": "2022-12-09T01:42:33.975915",
     "status": "completed"
    },
    "tags": []
   },
   "source": [
    "### Embarked가 nan인 사람은 S로 채워주자. 이를 보다 근거있는 값으로 채울 수는 없는지 고민해보자."
   ]
  },
  {
   "cell_type": "code",
   "execution_count": 51,
   "id": "d804135c",
   "metadata": {
    "execution": {
     "iopub.execute_input": "2022-12-09T01:42:34.086217Z",
     "iopub.status.busy": "2022-12-09T01:42:34.085791Z",
     "iopub.status.idle": "2022-12-09T01:42:34.093219Z",
     "shell.execute_reply": "2022-12-09T01:42:34.092078Z"
    },
    "papermill": {
     "duration": 0.047323,
     "end_time": "2022-12-09T01:42:34.095695",
     "exception": false,
     "start_time": "2022-12-09T01:42:34.048372",
     "status": "completed"
    },
    "tags": []
   },
   "outputs": [],
   "source": [
    "for dataset in train_test_data:\n",
    "    dataset['Embarked'] = dataset['Embarked'].fillna('S')"
   ]
  },
  {
   "cell_type": "code",
   "execution_count": 52,
   "id": "ae8bde13",
   "metadata": {
    "execution": {
     "iopub.execute_input": "2022-12-09T01:42:34.169802Z",
     "iopub.status.busy": "2022-12-09T01:42:34.169386Z",
     "iopub.status.idle": "2022-12-09T01:42:34.178370Z",
     "shell.execute_reply": "2022-12-09T01:42:34.177290Z"
    },
    "papermill": {
     "duration": 0.048397,
     "end_time": "2022-12-09T01:42:34.180767",
     "exception": false,
     "start_time": "2022-12-09T01:42:34.132370",
     "status": "completed"
    },
    "tags": []
   },
   "outputs": [],
   "source": [
    "embarked_mapping = {'S':0, 'C':1, 'Q':2}\n",
    "for dataset in train_test_data:\n",
    "    dataset['Embarked'] = dataset['Embarked'].map(embarked_mapping)"
   ]
  },
  {
   "cell_type": "code",
   "execution_count": 53,
   "id": "9978387e",
   "metadata": {
    "execution": {
     "iopub.execute_input": "2022-12-09T01:42:34.254165Z",
     "iopub.status.busy": "2022-12-09T01:42:34.253731Z",
     "iopub.status.idle": "2022-12-09T01:42:34.270633Z",
     "shell.execute_reply": "2022-12-09T01:42:34.269153Z"
    },
    "papermill": {
     "duration": 0.056817,
     "end_time": "2022-12-09T01:42:34.273329",
     "exception": false,
     "start_time": "2022-12-09T01:42:34.216512",
     "status": "completed"
    },
    "tags": []
   },
   "outputs": [
    {
     "data": {
      "text/html": [
       "<div>\n",
       "<style scoped>\n",
       "    .dataframe tbody tr th:only-of-type {\n",
       "        vertical-align: middle;\n",
       "    }\n",
       "\n",
       "    .dataframe tbody tr th {\n",
       "        vertical-align: top;\n",
       "    }\n",
       "\n",
       "    .dataframe thead th {\n",
       "        text-align: right;\n",
       "    }\n",
       "</style>\n",
       "<table border=\"1\" class=\"dataframe\">\n",
       "  <thead>\n",
       "    <tr style=\"text-align: right;\">\n",
       "      <th></th>\n",
       "      <th>PassengerId</th>\n",
       "      <th>Survived</th>\n",
       "      <th>Pclass</th>\n",
       "      <th>Name</th>\n",
       "      <th>Sex</th>\n",
       "      <th>Age</th>\n",
       "      <th>SibSp</th>\n",
       "      <th>Parch</th>\n",
       "      <th>Ticket</th>\n",
       "      <th>Fare</th>\n",
       "      <th>Cabin</th>\n",
       "      <th>Embarked</th>\n",
       "      <th>age_point</th>\n",
       "    </tr>\n",
       "  </thead>\n",
       "  <tbody>\n",
       "    <tr>\n",
       "      <th>0</th>\n",
       "      <td>1</td>\n",
       "      <td>0</td>\n",
       "      <td>3</td>\n",
       "      <td>1</td>\n",
       "      <td>1</td>\n",
       "      <td>3.0</td>\n",
       "      <td>1</td>\n",
       "      <td>0</td>\n",
       "      <td>A/5 21171</td>\n",
       "      <td>7.2500</td>\n",
       "      <td>NaN</td>\n",
       "      <td>0</td>\n",
       "      <td>4</td>\n",
       "    </tr>\n",
       "    <tr>\n",
       "      <th>1</th>\n",
       "      <td>2</td>\n",
       "      <td>1</td>\n",
       "      <td>1</td>\n",
       "      <td>6</td>\n",
       "      <td>0</td>\n",
       "      <td>6.0</td>\n",
       "      <td>1</td>\n",
       "      <td>0</td>\n",
       "      <td>PC 17599</td>\n",
       "      <td>71.2833</td>\n",
       "      <td>C85</td>\n",
       "      <td>1</td>\n",
       "      <td>3</td>\n",
       "    </tr>\n",
       "    <tr>\n",
       "      <th>2</th>\n",
       "      <td>3</td>\n",
       "      <td>1</td>\n",
       "      <td>3</td>\n",
       "      <td>5</td>\n",
       "      <td>0</td>\n",
       "      <td>3.0</td>\n",
       "      <td>0</td>\n",
       "      <td>0</td>\n",
       "      <td>STON/O2. 3101282</td>\n",
       "      <td>7.9250</td>\n",
       "      <td>NaN</td>\n",
       "      <td>0</td>\n",
       "      <td>4</td>\n",
       "    </tr>\n",
       "    <tr>\n",
       "      <th>3</th>\n",
       "      <td>4</td>\n",
       "      <td>1</td>\n",
       "      <td>1</td>\n",
       "      <td>6</td>\n",
       "      <td>0</td>\n",
       "      <td>5.0</td>\n",
       "      <td>1</td>\n",
       "      <td>0</td>\n",
       "      <td>113803</td>\n",
       "      <td>53.1000</td>\n",
       "      <td>C123</td>\n",
       "      <td>0</td>\n",
       "      <td>7</td>\n",
       "    </tr>\n",
       "    <tr>\n",
       "      <th>4</th>\n",
       "      <td>5</td>\n",
       "      <td>0</td>\n",
       "      <td>3</td>\n",
       "      <td>1</td>\n",
       "      <td>1</td>\n",
       "      <td>5.0</td>\n",
       "      <td>0</td>\n",
       "      <td>0</td>\n",
       "      <td>373450</td>\n",
       "      <td>8.0500</td>\n",
       "      <td>NaN</td>\n",
       "      <td>0</td>\n",
       "      <td>7</td>\n",
       "    </tr>\n",
       "  </tbody>\n",
       "</table>\n",
       "</div>"
      ],
      "text/plain": [
       "   PassengerId  Survived  Pclass  Name  Sex  Age  SibSp  Parch  \\\n",
       "0            1         0       3     1    1  3.0      1      0   \n",
       "1            2         1       1     6    0  6.0      1      0   \n",
       "2            3         1       3     5    0  3.0      0      0   \n",
       "3            4         1       1     6    0  5.0      1      0   \n",
       "4            5         0       3     1    1  5.0      0      0   \n",
       "\n",
       "             Ticket     Fare Cabin  Embarked  age_point  \n",
       "0         A/5 21171   7.2500   NaN         0          4  \n",
       "1          PC 17599  71.2833   C85         1          3  \n",
       "2  STON/O2. 3101282   7.9250   NaN         0          4  \n",
       "3            113803  53.1000  C123         0          7  \n",
       "4            373450   8.0500   NaN         0          7  "
      ]
     },
     "execution_count": 53,
     "metadata": {},
     "output_type": "execute_result"
    }
   ],
   "source": [
    "train.head()"
   ]
  },
  {
   "cell_type": "code",
   "execution_count": 54,
   "id": "236cbcb6",
   "metadata": {
    "execution": {
     "iopub.execute_input": "2022-12-09T01:42:34.348112Z",
     "iopub.status.busy": "2022-12-09T01:42:34.347664Z",
     "iopub.status.idle": "2022-12-09T01:42:34.365160Z",
     "shell.execute_reply": "2022-12-09T01:42:34.363882Z"
    },
    "papermill": {
     "duration": 0.05718,
     "end_time": "2022-12-09T01:42:34.367680",
     "exception": false,
     "start_time": "2022-12-09T01:42:34.310500",
     "status": "completed"
    },
    "tags": []
   },
   "outputs": [
    {
     "data": {
      "text/html": [
       "<div>\n",
       "<style scoped>\n",
       "    .dataframe tbody tr th:only-of-type {\n",
       "        vertical-align: middle;\n",
       "    }\n",
       "\n",
       "    .dataframe tbody tr th {\n",
       "        vertical-align: top;\n",
       "    }\n",
       "\n",
       "    .dataframe thead th {\n",
       "        text-align: right;\n",
       "    }\n",
       "</style>\n",
       "<table border=\"1\" class=\"dataframe\">\n",
       "  <thead>\n",
       "    <tr style=\"text-align: right;\">\n",
       "      <th></th>\n",
       "      <th>PassengerId</th>\n",
       "      <th>Survived</th>\n",
       "      <th>Pclass</th>\n",
       "      <th>Name</th>\n",
       "      <th>Sex</th>\n",
       "      <th>Age</th>\n",
       "      <th>SibSp</th>\n",
       "      <th>Parch</th>\n",
       "      <th>Ticket</th>\n",
       "      <th>Fare</th>\n",
       "      <th>Cabin</th>\n",
       "      <th>Embarked</th>\n",
       "      <th>age_point</th>\n",
       "    </tr>\n",
       "  </thead>\n",
       "  <tbody>\n",
       "    <tr>\n",
       "      <th>0</th>\n",
       "      <td>1</td>\n",
       "      <td>0</td>\n",
       "      <td>3</td>\n",
       "      <td>1</td>\n",
       "      <td>1</td>\n",
       "      <td>3.0</td>\n",
       "      <td>1</td>\n",
       "      <td>0</td>\n",
       "      <td>A/5 21171</td>\n",
       "      <td>7.2500</td>\n",
       "      <td>NaN</td>\n",
       "      <td>0</td>\n",
       "      <td>4</td>\n",
       "    </tr>\n",
       "    <tr>\n",
       "      <th>1</th>\n",
       "      <td>2</td>\n",
       "      <td>1</td>\n",
       "      <td>1</td>\n",
       "      <td>6</td>\n",
       "      <td>0</td>\n",
       "      <td>6.0</td>\n",
       "      <td>1</td>\n",
       "      <td>0</td>\n",
       "      <td>PC 17599</td>\n",
       "      <td>71.2833</td>\n",
       "      <td>C85</td>\n",
       "      <td>1</td>\n",
       "      <td>3</td>\n",
       "    </tr>\n",
       "    <tr>\n",
       "      <th>2</th>\n",
       "      <td>3</td>\n",
       "      <td>1</td>\n",
       "      <td>3</td>\n",
       "      <td>5</td>\n",
       "      <td>0</td>\n",
       "      <td>3.0</td>\n",
       "      <td>0</td>\n",
       "      <td>0</td>\n",
       "      <td>STON/O2. 3101282</td>\n",
       "      <td>7.9250</td>\n",
       "      <td>NaN</td>\n",
       "      <td>0</td>\n",
       "      <td>4</td>\n",
       "    </tr>\n",
       "    <tr>\n",
       "      <th>3</th>\n",
       "      <td>4</td>\n",
       "      <td>1</td>\n",
       "      <td>1</td>\n",
       "      <td>6</td>\n",
       "      <td>0</td>\n",
       "      <td>5.0</td>\n",
       "      <td>1</td>\n",
       "      <td>0</td>\n",
       "      <td>113803</td>\n",
       "      <td>53.1000</td>\n",
       "      <td>C123</td>\n",
       "      <td>0</td>\n",
       "      <td>7</td>\n",
       "    </tr>\n",
       "    <tr>\n",
       "      <th>4</th>\n",
       "      <td>5</td>\n",
       "      <td>0</td>\n",
       "      <td>3</td>\n",
       "      <td>1</td>\n",
       "      <td>1</td>\n",
       "      <td>5.0</td>\n",
       "      <td>0</td>\n",
       "      <td>0</td>\n",
       "      <td>373450</td>\n",
       "      <td>8.0500</td>\n",
       "      <td>NaN</td>\n",
       "      <td>0</td>\n",
       "      <td>7</td>\n",
       "    </tr>\n",
       "  </tbody>\n",
       "</table>\n",
       "</div>"
      ],
      "text/plain": [
       "   PassengerId  Survived  Pclass  Name  Sex  Age  SibSp  Parch  \\\n",
       "0            1         0       3     1    1  3.0      1      0   \n",
       "1            2         1       1     6    0  6.0      1      0   \n",
       "2            3         1       3     5    0  3.0      0      0   \n",
       "3            4         1       1     6    0  5.0      1      0   \n",
       "4            5         0       3     1    1  5.0      0      0   \n",
       "\n",
       "             Ticket     Fare Cabin  Embarked  age_point  \n",
       "0         A/5 21171   7.2500   NaN         0          4  \n",
       "1          PC 17599  71.2833   C85         1          3  \n",
       "2  STON/O2. 3101282   7.9250   NaN         0          4  \n",
       "3            113803  53.1000  C123         0          7  \n",
       "4            373450   8.0500   NaN         0          7  "
      ]
     },
     "execution_count": 54,
     "metadata": {},
     "output_type": "execute_result"
    }
   ],
   "source": [
    "train.head()"
   ]
  },
  {
   "cell_type": "markdown",
   "id": "b8503552",
   "metadata": {
    "papermill": {
     "duration": 0.036199,
     "end_time": "2022-12-09T01:42:34.439978",
     "exception": false,
     "start_time": "2022-12-09T01:42:34.403779",
     "status": "completed"
    },
    "tags": []
   },
   "source": [
    "# 실습 2_3 수정 부분(SibSp, Parch)"
   ]
  },
  {
   "cell_type": "markdown",
   "id": "e3e1e37a",
   "metadata": {
    "papermill": {
     "duration": 0.035613,
     "end_time": "2022-12-09T01:42:34.511560",
     "exception": false,
     "start_time": "2022-12-09T01:42:34.475947",
     "status": "completed"
    },
    "tags": []
   },
   "source": [
    "## 주석 처리한 이전 코드들"
   ]
  },
  {
   "cell_type": "markdown",
   "id": "37c46343",
   "metadata": {
    "papermill": {
     "duration": 0.037054,
     "end_time": "2022-12-09T01:42:34.584375",
     "exception": false,
     "start_time": "2022-12-09T01:42:34.547321",
     "status": "completed"
    },
    "tags": []
   },
   "source": [
    "### SibSp와 Parch값을 이용하여 FamilySize를 추가한다."
   ]
  },
  {
   "cell_type": "code",
   "execution_count": 55,
   "id": "fcfdc427",
   "metadata": {
    "execution": {
     "iopub.execute_input": "2022-12-09T01:42:34.658185Z",
     "iopub.status.busy": "2022-12-09T01:42:34.657746Z",
     "iopub.status.idle": "2022-12-09T01:42:34.662903Z",
     "shell.execute_reply": "2022-12-09T01:42:34.661646Z"
    },
    "papermill": {
     "duration": 0.044833,
     "end_time": "2022-12-09T01:42:34.665237",
     "exception": false,
     "start_time": "2022-12-09T01:42:34.620404",
     "status": "completed"
    },
    "tags": []
   },
   "outputs": [],
   "source": [
    "# for dataset in train_test_data:\n",
    "#     dataset['FamilySize'] = dataset['SibSp'] + dataset['Parch'] + 1"
   ]
  },
  {
   "cell_type": "markdown",
   "id": "c7e496cc",
   "metadata": {
    "papermill": {
     "duration": 0.035653,
     "end_time": "2022-12-09T01:42:34.736999",
     "exception": false,
     "start_time": "2022-12-09T01:42:34.701346",
     "status": "completed"
    },
    "tags": []
   },
   "source": [
    "### FamilySize가 4보다 큰 남자는 아버지일 확률이 높다.\n",
    "사회적으로 아버지는 자신의 가족을 먼저 살리려고 할 것이라 생각했다.\n",
    "\n",
    "여기에 나이도 추가하면 더 좋을수도 있다."
   ]
  },
  {
   "cell_type": "code",
   "execution_count": 56,
   "id": "26ad1d77",
   "metadata": {
    "execution": {
     "iopub.execute_input": "2022-12-09T01:42:34.812638Z",
     "iopub.status.busy": "2022-12-09T01:42:34.812227Z",
     "iopub.status.idle": "2022-12-09T01:42:34.817084Z",
     "shell.execute_reply": "2022-12-09T01:42:34.815719Z"
    },
    "papermill": {
     "duration": 0.045935,
     "end_time": "2022-12-09T01:42:34.819451",
     "exception": false,
     "start_time": "2022-12-09T01:42:34.773516",
     "status": "completed"
    },
    "tags": []
   },
   "outputs": [],
   "source": [
    "# maybe_dad_mask = (train['FamilySize'] > 4) & (train['Sex'] == 1)"
   ]
  },
  {
   "cell_type": "code",
   "execution_count": 57,
   "id": "b84091e0",
   "metadata": {
    "execution": {
     "iopub.execute_input": "2022-12-09T01:42:34.893977Z",
     "iopub.status.busy": "2022-12-09T01:42:34.893540Z",
     "iopub.status.idle": "2022-12-09T01:42:34.897952Z",
     "shell.execute_reply": "2022-12-09T01:42:34.897084Z"
    },
    "papermill": {
     "duration": 0.043978,
     "end_time": "2022-12-09T01:42:34.899868",
     "exception": false,
     "start_time": "2022-12-09T01:42:34.855890",
     "status": "completed"
    },
    "tags": []
   },
   "outputs": [],
   "source": [
    "# maybe_dad_mask.head()"
   ]
  },
  {
   "cell_type": "code",
   "execution_count": 58,
   "id": "7ad81210",
   "metadata": {
    "execution": {
     "iopub.execute_input": "2022-12-09T01:42:34.975160Z",
     "iopub.status.busy": "2022-12-09T01:42:34.974617Z",
     "iopub.status.idle": "2022-12-09T01:42:34.980044Z",
     "shell.execute_reply": "2022-12-09T01:42:34.978446Z"
    },
    "papermill": {
     "duration": 0.045827,
     "end_time": "2022-12-09T01:42:34.982584",
     "exception": false,
     "start_time": "2022-12-09T01:42:34.936757",
     "status": "completed"
    },
    "tags": []
   },
   "outputs": [],
   "source": [
    "# train['maybe_dad'] = 1"
   ]
  },
  {
   "cell_type": "code",
   "execution_count": 59,
   "id": "e5db59f0",
   "metadata": {
    "execution": {
     "iopub.execute_input": "2022-12-09T01:42:35.057513Z",
     "iopub.status.busy": "2022-12-09T01:42:35.057055Z",
     "iopub.status.idle": "2022-12-09T01:42:35.061854Z",
     "shell.execute_reply": "2022-12-09T01:42:35.060815Z"
    },
    "papermill": {
     "duration": 0.04576,
     "end_time": "2022-12-09T01:42:35.064302",
     "exception": false,
     "start_time": "2022-12-09T01:42:35.018542",
     "status": "completed"
    },
    "tags": []
   },
   "outputs": [],
   "source": [
    "# train.head()"
   ]
  },
  {
   "cell_type": "code",
   "execution_count": 60,
   "id": "cc6a90d7",
   "metadata": {
    "execution": {
     "iopub.execute_input": "2022-12-09T01:42:35.139383Z",
     "iopub.status.busy": "2022-12-09T01:42:35.138920Z",
     "iopub.status.idle": "2022-12-09T01:42:35.144137Z",
     "shell.execute_reply": "2022-12-09T01:42:35.142853Z"
    },
    "papermill": {
     "duration": 0.046168,
     "end_time": "2022-12-09T01:42:35.146632",
     "exception": false,
     "start_time": "2022-12-09T01:42:35.100464",
     "status": "completed"
    },
    "tags": []
   },
   "outputs": [],
   "source": [
    "# train.loc[maybe_dad_mask,'maybe_dad'] = 0"
   ]
  },
  {
   "cell_type": "code",
   "execution_count": 61,
   "id": "3d6081ce",
   "metadata": {
    "execution": {
     "iopub.execute_input": "2022-12-09T01:42:35.220900Z",
     "iopub.status.busy": "2022-12-09T01:42:35.220467Z",
     "iopub.status.idle": "2022-12-09T01:42:35.225415Z",
     "shell.execute_reply": "2022-12-09T01:42:35.224125Z"
    },
    "papermill": {
     "duration": 0.045091,
     "end_time": "2022-12-09T01:42:35.227844",
     "exception": false,
     "start_time": "2022-12-09T01:42:35.182753",
     "status": "completed"
    },
    "tags": []
   },
   "outputs": [],
   "source": [
    "# train[train['maybe_dad'] == 0].head()"
   ]
  },
  {
   "cell_type": "markdown",
   "id": "efb978c6",
   "metadata": {
    "papermill": {
     "duration": 0.036649,
     "end_time": "2022-12-09T01:42:35.301388",
     "exception": false,
     "start_time": "2022-12-09T01:42:35.264739",
     "status": "completed"
    },
    "tags": []
   },
   "source": [
    "### 그럼 아버지로 분류된 사람들이나 아버지가 아닌 사람으로 분류된 사람들의 생존비율은 어떻게 될까?"
   ]
  },
  {
   "cell_type": "code",
   "execution_count": 62,
   "id": "bf1b46d9",
   "metadata": {
    "execution": {
     "iopub.execute_input": "2022-12-09T01:42:35.376452Z",
     "iopub.status.busy": "2022-12-09T01:42:35.376009Z",
     "iopub.status.idle": "2022-12-09T01:42:35.380797Z",
     "shell.execute_reply": "2022-12-09T01:42:35.379757Z"
    },
    "papermill": {
     "duration": 0.045012,
     "end_time": "2022-12-09T01:42:35.383137",
     "exception": false,
     "start_time": "2022-12-09T01:42:35.338125",
     "status": "completed"
    },
    "tags": []
   },
   "outputs": [],
   "source": [
    "# # fig = plt.figure(figsize=(15,6))\n",
    "\n",
    "# # i=1\n",
    "# # for title in train['Name'].unique():\n",
    "# #     fig.add_subplot(3, 6, i)\n",
    "# #     plt.title('Title : {}'.format(title))\n",
    "# #     train.Survived[train['Name'] == title].value_counts().plot(kind='pie')\n",
    "# #     i += 1\n",
    "# fig = plt.figure()\n",
    "# ax1 = train.Survived[train['maybe_dad'] == 1].value_counts().plot(kind='pie')"
   ]
  },
  {
   "cell_type": "code",
   "execution_count": 63,
   "id": "e9fa5192",
   "metadata": {
    "execution": {
     "iopub.execute_input": "2022-12-09T01:42:35.458384Z",
     "iopub.status.busy": "2022-12-09T01:42:35.457937Z",
     "iopub.status.idle": "2022-12-09T01:42:35.462467Z",
     "shell.execute_reply": "2022-12-09T01:42:35.461639Z"
    },
    "papermill": {
     "duration": 0.044542,
     "end_time": "2022-12-09T01:42:35.464446",
     "exception": false,
     "start_time": "2022-12-09T01:42:35.419904",
     "status": "completed"
    },
    "tags": []
   },
   "outputs": [],
   "source": [
    "# ax2 = train.Survived[train['maybe_dad'] == 0].value_counts().plot(kind='pie')"
   ]
  },
  {
   "cell_type": "code",
   "execution_count": 64,
   "id": "11212e5c",
   "metadata": {
    "execution": {
     "iopub.execute_input": "2022-12-09T01:42:35.612320Z",
     "iopub.status.busy": "2022-12-09T01:42:35.611855Z",
     "iopub.status.idle": "2022-12-09T01:42:35.617065Z",
     "shell.execute_reply": "2022-12-09T01:42:35.615953Z"
    },
    "papermill": {
     "duration": 0.118965,
     "end_time": "2022-12-09T01:42:35.619619",
     "exception": false,
     "start_time": "2022-12-09T01:42:35.500654",
     "status": "completed"
    },
    "tags": []
   },
   "outputs": [],
   "source": [
    "# test['maybe_dad'] = 1\n",
    "# test_maybe_dad_mask = (test['FamilySize'] > 4) & (test['Sex'] == 1)\n",
    "# test.loc[test_maybe_dad_mask,'maybe_dad'] = 0"
   ]
  },
  {
   "cell_type": "code",
   "execution_count": 65,
   "id": "74e3f7f7",
   "metadata": {
    "execution": {
     "iopub.execute_input": "2022-12-09T01:42:35.695805Z",
     "iopub.status.busy": "2022-12-09T01:42:35.695387Z",
     "iopub.status.idle": "2022-12-09T01:42:35.699819Z",
     "shell.execute_reply": "2022-12-09T01:42:35.698792Z"
    },
    "papermill": {
     "duration": 0.045188,
     "end_time": "2022-12-09T01:42:35.702266",
     "exception": false,
     "start_time": "2022-12-09T01:42:35.657078",
     "status": "completed"
    },
    "tags": []
   },
   "outputs": [],
   "source": [
    "# test.head()"
   ]
  },
  {
   "cell_type": "markdown",
   "id": "1f7ac8a9",
   "metadata": {
    "papermill": {
     "duration": 0.036154,
     "end_time": "2022-12-09T01:42:35.775236",
     "exception": false,
     "start_time": "2022-12-09T01:42:35.739082",
     "status": "completed"
    },
    "tags": []
   },
   "source": [
    "### FamilySize에 대해서도 새롭게 값을 매기자. 그러기 위해 FamilySize별로 생존비율 확인"
   ]
  },
  {
   "cell_type": "code",
   "execution_count": 66,
   "id": "797d711c",
   "metadata": {
    "execution": {
     "iopub.execute_input": "2022-12-09T01:42:35.851747Z",
     "iopub.status.busy": "2022-12-09T01:42:35.851276Z",
     "iopub.status.idle": "2022-12-09T01:42:35.856363Z",
     "shell.execute_reply": "2022-12-09T01:42:35.855225Z"
    },
    "papermill": {
     "duration": 0.045302,
     "end_time": "2022-12-09T01:42:35.858686",
     "exception": false,
     "start_time": "2022-12-09T01:42:35.813384",
     "status": "completed"
    },
    "tags": []
   },
   "outputs": [],
   "source": [
    "# train['FamilySize'].unique()"
   ]
  },
  {
   "cell_type": "code",
   "execution_count": 67,
   "id": "e7d58f4f",
   "metadata": {
    "execution": {
     "iopub.execute_input": "2022-12-09T01:42:35.935904Z",
     "iopub.status.busy": "2022-12-09T01:42:35.935499Z",
     "iopub.status.idle": "2022-12-09T01:42:35.940739Z",
     "shell.execute_reply": "2022-12-09T01:42:35.939513Z"
    },
    "papermill": {
     "duration": 0.046897,
     "end_time": "2022-12-09T01:42:35.943220",
     "exception": false,
     "start_time": "2022-12-09T01:42:35.896323",
     "status": "completed"
    },
    "tags": []
   },
   "outputs": [],
   "source": [
    "# test['FamilySize'].unique()"
   ]
  },
  {
   "cell_type": "code",
   "execution_count": 68,
   "id": "64cc92d7",
   "metadata": {
    "execution": {
     "iopub.execute_input": "2022-12-09T01:42:36.019654Z",
     "iopub.status.busy": "2022-12-09T01:42:36.018429Z",
     "iopub.status.idle": "2022-12-09T01:42:36.024222Z",
     "shell.execute_reply": "2022-12-09T01:42:36.022994Z"
    },
    "papermill": {
     "duration": 0.047119,
     "end_time": "2022-12-09T01:42:36.027076",
     "exception": false,
     "start_time": "2022-12-09T01:42:35.979957",
     "status": "completed"
    },
    "tags": []
   },
   "outputs": [],
   "source": [
    "# fig = plt.figure(figsize=(15,6))\n",
    "\n",
    "# i=1\n",
    "# for size in train['FamilySize'].unique():\n",
    "#     fig.add_subplot(3, 6, i)\n",
    "#     plt.title('Size : {}'.format(size))\n",
    "#     train.Survived[train['FamilySize'] == size].value_counts().plot(kind='pie')\n",
    "#     i += 1"
   ]
  },
  {
   "cell_type": "code",
   "execution_count": 69,
   "id": "5dd190df",
   "metadata": {
    "execution": {
     "iopub.execute_input": "2022-12-09T01:42:36.104411Z",
     "iopub.status.busy": "2022-12-09T01:42:36.103947Z",
     "iopub.status.idle": "2022-12-09T01:42:36.110200Z",
     "shell.execute_reply": "2022-12-09T01:42:36.108280Z"
    },
    "papermill": {
     "duration": 0.049051,
     "end_time": "2022-12-09T01:42:36.113284",
     "exception": false,
     "start_time": "2022-12-09T01:42:36.064233",
     "status": "completed"
    },
    "tags": []
   },
   "outputs": [],
   "source": [
    "# size_replace = {\n",
    "#     1: 3,\n",
    "#     2: 5,\n",
    "#     3: 6,\n",
    "#     4: 7,\n",
    "#     5: 2,\n",
    "#     6: 1,\n",
    "#     7: 4,\n",
    "#     8: 0,\n",
    "#     11: 0\n",
    "# }"
   ]
  },
  {
   "cell_type": "code",
   "execution_count": 70,
   "id": "9e39ea4c",
   "metadata": {
    "execution": {
     "iopub.execute_input": "2022-12-09T01:42:36.189615Z",
     "iopub.status.busy": "2022-12-09T01:42:36.189194Z",
     "iopub.status.idle": "2022-12-09T01:42:36.194232Z",
     "shell.execute_reply": "2022-12-09T01:42:36.192965Z"
    },
    "papermill": {
     "duration": 0.046501,
     "end_time": "2022-12-09T01:42:36.196636",
     "exception": false,
     "start_time": "2022-12-09T01:42:36.150135",
     "status": "completed"
    },
    "tags": []
   },
   "outputs": [],
   "source": [
    "# for dataset in train_test_data:\n",
    "#     dataset['fs_point'] = dataset['FamilySize'].apply(lambda x: size_replace.get(x))\n",
    "#     dataset.drop('FamilySize',axis=1,inplace=True)"
   ]
  },
  {
   "cell_type": "code",
   "execution_count": 71,
   "id": "f94578ec",
   "metadata": {
    "execution": {
     "iopub.execute_input": "2022-12-09T01:42:36.275726Z",
     "iopub.status.busy": "2022-12-09T01:42:36.275318Z",
     "iopub.status.idle": "2022-12-09T01:42:36.280393Z",
     "shell.execute_reply": "2022-12-09T01:42:36.278920Z"
    },
    "papermill": {
     "duration": 0.046002,
     "end_time": "2022-12-09T01:42:36.282916",
     "exception": false,
     "start_time": "2022-12-09T01:42:36.236914",
     "status": "completed"
    },
    "tags": []
   },
   "outputs": [],
   "source": [
    "# train.head()"
   ]
  },
  {
   "cell_type": "code",
   "execution_count": 72,
   "id": "e4fd5f05",
   "metadata": {
    "execution": {
     "iopub.execute_input": "2022-12-09T01:42:36.360788Z",
     "iopub.status.busy": "2022-12-09T01:42:36.360091Z",
     "iopub.status.idle": "2022-12-09T01:42:36.364716Z",
     "shell.execute_reply": "2022-12-09T01:42:36.363399Z"
    },
    "papermill": {
     "duration": 0.045896,
     "end_time": "2022-12-09T01:42:36.367356",
     "exception": false,
     "start_time": "2022-12-09T01:42:36.321460",
     "status": "completed"
    },
    "tags": []
   },
   "outputs": [],
   "source": [
    "# train.isnull().sum()"
   ]
  },
  {
   "cell_type": "code",
   "execution_count": 73,
   "id": "c17f3b23",
   "metadata": {
    "execution": {
     "iopub.execute_input": "2022-12-09T01:42:36.441790Z",
     "iopub.status.busy": "2022-12-09T01:42:36.441056Z",
     "iopub.status.idle": "2022-12-09T01:42:36.445503Z",
     "shell.execute_reply": "2022-12-09T01:42:36.444333Z"
    },
    "papermill": {
     "duration": 0.044428,
     "end_time": "2022-12-09T01:42:36.448057",
     "exception": false,
     "start_time": "2022-12-09T01:42:36.403629",
     "status": "completed"
    },
    "tags": []
   },
   "outputs": [],
   "source": [
    "# test.isnull().sum()"
   ]
  },
  {
   "cell_type": "markdown",
   "id": "8606c4c4",
   "metadata": {
    "papermill": {
     "duration": 0.036834,
     "end_time": "2022-12-09T01:42:36.521963",
     "exception": false,
     "start_time": "2022-12-09T01:42:36.485129",
     "status": "completed"
    },
    "tags": []
   },
   "source": [
    "# 추가한 코드"
   ]
  },
  {
   "cell_type": "code",
   "execution_count": 74,
   "id": "b49776a0",
   "metadata": {
    "execution": {
     "iopub.execute_input": "2022-12-09T01:42:36.596437Z",
     "iopub.status.busy": "2022-12-09T01:42:36.596004Z",
     "iopub.status.idle": "2022-12-09T01:42:36.605900Z",
     "shell.execute_reply": "2022-12-09T01:42:36.605057Z"
    },
    "papermill": {
     "duration": 0.049852,
     "end_time": "2022-12-09T01:42:36.608413",
     "exception": false,
     "start_time": "2022-12-09T01:42:36.558561",
     "status": "completed"
    },
    "tags": []
   },
   "outputs": [],
   "source": [
    "features_drop = ['SibSp','Parch']\n",
    "train = train.drop(features_drop, axis=1)\n",
    "test = test.drop(features_drop, axis=1)\n",
    "train = train.drop(['PassengerId'], axis=1) #train은 PassengerID를 가지고 있어야 한다. test 결과에 사용"
   ]
  },
  {
   "cell_type": "markdown",
   "id": "dbf791b7",
   "metadata": {
    "papermill": {
     "duration": 0.037418,
     "end_time": "2022-12-09T01:42:36.682367",
     "exception": false,
     "start_time": "2022-12-09T01:42:36.644949",
     "status": "completed"
    },
    "tags": []
   },
   "source": [
    "### Pclass별로 생존비율 확인후 새로운 값 매기기"
   ]
  },
  {
   "cell_type": "code",
   "execution_count": 75,
   "id": "e95f6e57",
   "metadata": {
    "execution": {
     "iopub.execute_input": "2022-12-09T01:42:36.760168Z",
     "iopub.status.busy": "2022-12-09T01:42:36.759200Z",
     "iopub.status.idle": "2022-12-09T01:42:37.048843Z",
     "shell.execute_reply": "2022-12-09T01:42:37.047213Z"
    },
    "papermill": {
     "duration": 0.332505,
     "end_time": "2022-12-09T01:42:37.053672",
     "exception": false,
     "start_time": "2022-12-09T01:42:36.721167",
     "status": "completed"
    },
    "tags": []
   },
   "outputs": [
    {
     "data": {
      "image/png": "[encoded data removed]",
      "text/plain": [
       "<Figure size 1080x432 with 3 Axes>"
      ]
     },
     "metadata": {},
     "output_type": "display_data"
    }
   ],
   "source": [
    "fig = plt.figure(figsize=(15,6))\n",
    "\n",
    "i=1\n",
    "for x in train['Pclass'].unique():\n",
    "    fig.add_subplot(3, 6, i)\n",
    "    plt.title('Pclass : {}'.format(x))\n",
    "    train.Survived[train['Pclass'] == x].value_counts().plot(kind='pie')\n",
    "    i += 1"
   ]
  },
  {
   "cell_type": "code",
   "execution_count": 76,
   "id": "31f61c7a",
   "metadata": {
    "execution": {
     "iopub.execute_input": "2022-12-09T01:42:37.162214Z",
     "iopub.status.busy": "2022-12-09T01:42:37.160949Z",
     "iopub.status.idle": "2022-12-09T01:42:37.172819Z",
     "shell.execute_reply": "2022-12-09T01:42:37.171523Z"
    },
    "papermill": {
     "duration": 0.052743,
     "end_time": "2022-12-09T01:42:37.175925",
     "exception": false,
     "start_time": "2022-12-09T01:42:37.123182",
     "status": "completed"
    },
    "tags": []
   },
   "outputs": [],
   "source": [
    "for dataset in train_test_data:\n",
    "    dataset.loc[dataset['Pclass']==3,'Pclass_point'] = 0\n",
    "    dataset.loc[dataset['Pclass']==2,'Pclass_point'] = 1\n",
    "    dataset.loc[dataset['Pclass']==1,'Pclass_point'] = 2"
   ]
  },
  {
   "cell_type": "code",
   "execution_count": 77,
   "id": "b1f1a74a",
   "metadata": {
    "execution": {
     "iopub.execute_input": "2022-12-09T01:42:37.251962Z",
     "iopub.status.busy": "2022-12-09T01:42:37.251515Z",
     "iopub.status.idle": "2022-12-09T01:42:37.267711Z",
     "shell.execute_reply": "2022-12-09T01:42:37.266438Z"
    },
    "papermill": {
     "duration": 0.056517,
     "end_time": "2022-12-09T01:42:37.270091",
     "exception": false,
     "start_time": "2022-12-09T01:42:37.213574",
     "status": "completed"
    },
    "tags": []
   },
   "outputs": [
    {
     "data": {
      "text/html": [
       "<div>\n",
       "<style scoped>\n",
       "    .dataframe tbody tr th:only-of-type {\n",
       "        vertical-align: middle;\n",
       "    }\n",
       "\n",
       "    .dataframe tbody tr th {\n",
       "        vertical-align: top;\n",
       "    }\n",
       "\n",
       "    .dataframe thead th {\n",
       "        text-align: right;\n",
       "    }\n",
       "</style>\n",
       "<table border=\"1\" class=\"dataframe\">\n",
       "  <thead>\n",
       "    <tr style=\"text-align: right;\">\n",
       "      <th></th>\n",
       "      <th>Survived</th>\n",
       "      <th>Pclass</th>\n",
       "      <th>Name</th>\n",
       "      <th>Sex</th>\n",
       "      <th>Age</th>\n",
       "      <th>Ticket</th>\n",
       "      <th>Fare</th>\n",
       "      <th>Cabin</th>\n",
       "      <th>Embarked</th>\n",
       "      <th>age_point</th>\n",
       "    </tr>\n",
       "  </thead>\n",
       "  <tbody>\n",
       "    <tr>\n",
       "      <th>0</th>\n",
       "      <td>0</td>\n",
       "      <td>3</td>\n",
       "      <td>1</td>\n",
       "      <td>1</td>\n",
       "      <td>3.0</td>\n",
       "      <td>A/5 21171</td>\n",
       "      <td>7.2500</td>\n",
       "      <td>NaN</td>\n",
       "      <td>0</td>\n",
       "      <td>4</td>\n",
       "    </tr>\n",
       "    <tr>\n",
       "      <th>1</th>\n",
       "      <td>1</td>\n",
       "      <td>1</td>\n",
       "      <td>6</td>\n",
       "      <td>0</td>\n",
       "      <td>6.0</td>\n",
       "      <td>PC 17599</td>\n",
       "      <td>71.2833</td>\n",
       "      <td>C85</td>\n",
       "      <td>1</td>\n",
       "      <td>3</td>\n",
       "    </tr>\n",
       "    <tr>\n",
       "      <th>2</th>\n",
       "      <td>1</td>\n",
       "      <td>3</td>\n",
       "      <td>5</td>\n",
       "      <td>0</td>\n",
       "      <td>3.0</td>\n",
       "      <td>STON/O2. 3101282</td>\n",
       "      <td>7.9250</td>\n",
       "      <td>NaN</td>\n",
       "      <td>0</td>\n",
       "      <td>4</td>\n",
       "    </tr>\n",
       "    <tr>\n",
       "      <th>3</th>\n",
       "      <td>1</td>\n",
       "      <td>1</td>\n",
       "      <td>6</td>\n",
       "      <td>0</td>\n",
       "      <td>5.0</td>\n",
       "      <td>113803</td>\n",
       "      <td>53.1000</td>\n",
       "      <td>C123</td>\n",
       "      <td>0</td>\n",
       "      <td>7</td>\n",
       "    </tr>\n",
       "    <tr>\n",
       "      <th>4</th>\n",
       "      <td>0</td>\n",
       "      <td>3</td>\n",
       "      <td>1</td>\n",
       "      <td>1</td>\n",
       "      <td>5.0</td>\n",
       "      <td>373450</td>\n",
       "      <td>8.0500</td>\n",
       "      <td>NaN</td>\n",
       "      <td>0</td>\n",
       "      <td>7</td>\n",
       "    </tr>\n",
       "  </tbody>\n",
       "</table>\n",
       "</div>"
      ],
      "text/plain": [
       "   Survived  Pclass  Name  Sex  Age            Ticket     Fare Cabin  \\\n",
       "0         0       3     1    1  3.0         A/5 21171   7.2500   NaN   \n",
       "1         1       1     6    0  6.0          PC 17599  71.2833   C85   \n",
       "2         1       3     5    0  3.0  STON/O2. 3101282   7.9250   NaN   \n",
       "3         1       1     6    0  5.0            113803  53.1000  C123   \n",
       "4         0       3     1    1  5.0            373450   8.0500   NaN   \n",
       "\n",
       "   Embarked  age_point  \n",
       "0         0          4  \n",
       "1         1          3  \n",
       "2         0          4  \n",
       "3         0          7  \n",
       "4         0          7  "
      ]
     },
     "execution_count": 77,
     "metadata": {},
     "output_type": "execute_result"
    }
   ],
   "source": [
    "train.head()"
   ]
  },
  {
   "cell_type": "markdown",
   "id": "873336a6",
   "metadata": {
    "papermill": {
     "duration": 0.03755,
     "end_time": "2022-12-09T01:42:37.344389",
     "exception": false,
     "start_time": "2022-12-09T01:42:37.306839",
     "status": "completed"
    },
    "tags": []
   },
   "source": [
    "### Embarked 별로"
   ]
  },
  {
   "cell_type": "code",
   "execution_count": 78,
   "id": "925914e7",
   "metadata": {
    "execution": {
     "iopub.execute_input": "2022-12-09T01:42:37.421619Z",
     "iopub.status.busy": "2022-12-09T01:42:37.420632Z",
     "iopub.status.idle": "2022-12-09T01:42:37.655353Z",
     "shell.execute_reply": "2022-12-09T01:42:37.653574Z"
    },
    "papermill": {
     "duration": 0.278136,
     "end_time": "2022-12-09T01:42:37.659863",
     "exception": false,
     "start_time": "2022-12-09T01:42:37.381727",
     "status": "completed"
    },
    "tags": []
   },
   "outputs": [
    {
     "data": {
      "image/png": "[encoded data removed]",
      "text/plain": [
       "<Figure size 1080x432 with 3 Axes>"
      ]
     },
     "metadata": {},
     "output_type": "display_data"
    }
   ],
   "source": [
    "fig = plt.figure(figsize=(15,6))\n",
    "\n",
    "i=1\n",
    "for x in train['Embarked'].unique():\n",
    "    fig.add_subplot(3, 6, i)\n",
    "    plt.title('Em : {}'.format(x))\n",
    "    train.Survived[train['Embarked'] == x].value_counts().plot(kind='pie')\n",
    "    i += 1"
   ]
  },
  {
   "cell_type": "code",
   "execution_count": 79,
   "id": "dd89b1cb",
   "metadata": {
    "execution": {
     "iopub.execute_input": "2022-12-09T01:42:37.772903Z",
     "iopub.status.busy": "2022-12-09T01:42:37.772457Z",
     "iopub.status.idle": "2022-12-09T01:42:37.784162Z",
     "shell.execute_reply": "2022-12-09T01:42:37.782954Z"
    },
    "papermill": {
     "duration": 0.053754,
     "end_time": "2022-12-09T01:42:37.786852",
     "exception": false,
     "start_time": "2022-12-09T01:42:37.733098",
     "status": "completed"
    },
    "tags": []
   },
   "outputs": [],
   "source": [
    "for dataset in train_test_data:\n",
    "    dataset.loc[dataset['Embarked']==0,'Em_point'] = 0\n",
    "    dataset.loc[dataset['Embarked']==2,'Em_point'] = 1\n",
    "    dataset.loc[dataset['Embarked']==1,'Em_point'] = 2"
   ]
  },
  {
   "cell_type": "code",
   "execution_count": 80,
   "id": "4f70683b",
   "metadata": {
    "execution": {
     "iopub.execute_input": "2022-12-09T01:42:37.866254Z",
     "iopub.status.busy": "2022-12-09T01:42:37.865691Z",
     "iopub.status.idle": "2022-12-09T01:42:37.882158Z",
     "shell.execute_reply": "2022-12-09T01:42:37.881021Z"
    },
    "papermill": {
     "duration": 0.058945,
     "end_time": "2022-12-09T01:42:37.884627",
     "exception": false,
     "start_time": "2022-12-09T01:42:37.825682",
     "status": "completed"
    },
    "tags": []
   },
   "outputs": [
    {
     "data": {
      "text/html": [
       "<div>\n",
       "<style scoped>\n",
       "    .dataframe tbody tr th:only-of-type {\n",
       "        vertical-align: middle;\n",
       "    }\n",
       "\n",
       "    .dataframe tbody tr th {\n",
       "        vertical-align: top;\n",
       "    }\n",
       "\n",
       "    .dataframe thead th {\n",
       "        text-align: right;\n",
       "    }\n",
       "</style>\n",
       "<table border=\"1\" class=\"dataframe\">\n",
       "  <thead>\n",
       "    <tr style=\"text-align: right;\">\n",
       "      <th></th>\n",
       "      <th>Survived</th>\n",
       "      <th>Pclass</th>\n",
       "      <th>Name</th>\n",
       "      <th>Sex</th>\n",
       "      <th>Age</th>\n",
       "      <th>Ticket</th>\n",
       "      <th>Fare</th>\n",
       "      <th>Cabin</th>\n",
       "      <th>Embarked</th>\n",
       "      <th>age_point</th>\n",
       "    </tr>\n",
       "  </thead>\n",
       "  <tbody>\n",
       "    <tr>\n",
       "      <th>0</th>\n",
       "      <td>0</td>\n",
       "      <td>3</td>\n",
       "      <td>1</td>\n",
       "      <td>1</td>\n",
       "      <td>3.0</td>\n",
       "      <td>A/5 21171</td>\n",
       "      <td>7.2500</td>\n",
       "      <td>NaN</td>\n",
       "      <td>0</td>\n",
       "      <td>4</td>\n",
       "    </tr>\n",
       "    <tr>\n",
       "      <th>1</th>\n",
       "      <td>1</td>\n",
       "      <td>1</td>\n",
       "      <td>6</td>\n",
       "      <td>0</td>\n",
       "      <td>6.0</td>\n",
       "      <td>PC 17599</td>\n",
       "      <td>71.2833</td>\n",
       "      <td>C85</td>\n",
       "      <td>1</td>\n",
       "      <td>3</td>\n",
       "    </tr>\n",
       "    <tr>\n",
       "      <th>2</th>\n",
       "      <td>1</td>\n",
       "      <td>3</td>\n",
       "      <td>5</td>\n",
       "      <td>0</td>\n",
       "      <td>3.0</td>\n",
       "      <td>STON/O2. 3101282</td>\n",
       "      <td>7.9250</td>\n",
       "      <td>NaN</td>\n",
       "      <td>0</td>\n",
       "      <td>4</td>\n",
       "    </tr>\n",
       "    <tr>\n",
       "      <th>3</th>\n",
       "      <td>1</td>\n",
       "      <td>1</td>\n",
       "      <td>6</td>\n",
       "      <td>0</td>\n",
       "      <td>5.0</td>\n",
       "      <td>113803</td>\n",
       "      <td>53.1000</td>\n",
       "      <td>C123</td>\n",
       "      <td>0</td>\n",
       "      <td>7</td>\n",
       "    </tr>\n",
       "    <tr>\n",
       "      <th>4</th>\n",
       "      <td>0</td>\n",
       "      <td>3</td>\n",
       "      <td>1</td>\n",
       "      <td>1</td>\n",
       "      <td>5.0</td>\n",
       "      <td>373450</td>\n",
       "      <td>8.0500</td>\n",
       "      <td>NaN</td>\n",
       "      <td>0</td>\n",
       "      <td>7</td>\n",
       "    </tr>\n",
       "  </tbody>\n",
       "</table>\n",
       "</div>"
      ],
      "text/plain": [
       "   Survived  Pclass  Name  Sex  Age            Ticket     Fare Cabin  \\\n",
       "0         0       3     1    1  3.0         A/5 21171   7.2500   NaN   \n",
       "1         1       1     6    0  6.0          PC 17599  71.2833   C85   \n",
       "2         1       3     5    0  3.0  STON/O2. 3101282   7.9250   NaN   \n",
       "3         1       1     6    0  5.0            113803  53.1000  C123   \n",
       "4         0       3     1    1  5.0            373450   8.0500   NaN   \n",
       "\n",
       "   Embarked  age_point  \n",
       "0         0          4  \n",
       "1         1          3  \n",
       "2         0          4  \n",
       "3         0          7  \n",
       "4         0          7  "
      ]
     },
     "execution_count": 80,
     "metadata": {},
     "output_type": "execute_result"
    }
   ],
   "source": [
    "train.head()"
   ]
  },
  {
   "cell_type": "code",
   "execution_count": 81,
   "id": "af8cf76f",
   "metadata": {
    "execution": {
     "iopub.execute_input": "2022-12-09T01:42:37.964184Z",
     "iopub.status.busy": "2022-12-09T01:42:37.962827Z",
     "iopub.status.idle": "2022-12-09T01:42:37.972186Z",
     "shell.execute_reply": "2022-12-09T01:42:37.971229Z"
    },
    "papermill": {
     "duration": 0.051042,
     "end_time": "2022-12-09T01:42:37.974390",
     "exception": false,
     "start_time": "2022-12-09T01:42:37.923348",
     "status": "completed"
    },
    "tags": []
   },
   "outputs": [
    {
     "data": {
      "text/plain": [
       "Survived       0\n",
       "Pclass         0\n",
       "Name           0\n",
       "Sex            0\n",
       "Age            0\n",
       "Ticket         0\n",
       "Fare           0\n",
       "Cabin        687\n",
       "Embarked       0\n",
       "age_point      0\n",
       "dtype: int64"
      ]
     },
     "execution_count": 81,
     "metadata": {},
     "output_type": "execute_result"
    }
   ],
   "source": [
    "train.isnull().sum()"
   ]
  },
  {
   "cell_type": "markdown",
   "id": "13adb5e4",
   "metadata": {
    "papermill": {
     "duration": 0.03717,
     "end_time": "2022-12-09T01:42:38.050123",
     "exception": false,
     "start_time": "2022-12-09T01:42:38.012953",
     "status": "completed"
    },
    "tags": []
   },
   "source": [
    "### Cabin은 해당인원의 숙소? 가 어디있는지에 대한 값이다. 하지만 아래와 같이 값이 너무 다양하다. 뒤의 숫자는 빼고 고려해보자"
   ]
  },
  {
   "cell_type": "code",
   "execution_count": 82,
   "id": "135eb1d3",
   "metadata": {
    "execution": {
     "iopub.execute_input": "2022-12-09T01:42:38.130030Z",
     "iopub.status.busy": "2022-12-09T01:42:38.129261Z",
     "iopub.status.idle": "2022-12-09T01:42:38.137288Z",
     "shell.execute_reply": "2022-12-09T01:42:38.136043Z"
    },
    "papermill": {
     "duration": 0.0494,
     "end_time": "2022-12-09T01:42:38.139563",
     "exception": false,
     "start_time": "2022-12-09T01:42:38.090163",
     "status": "completed"
    },
    "tags": []
   },
   "outputs": [
    {
     "data": {
      "text/plain": [
       "array([nan, 'C85', 'C123', 'E46', 'G6', 'C103', 'D56', 'A6',\n",
       "       'C23 C25 C27', 'B78', 'D33', 'B30', 'C52', 'B28', 'C83', 'F33',\n",
       "       'F G73', 'E31', 'A5', 'D10 D12', 'D26', 'C110', 'B58 B60', 'E101',\n",
       "       'F E69', 'D47', 'B86', 'F2', 'C2', 'E33', 'B19', 'A7', 'C49', 'F4',\n",
       "       'A32', 'B4', 'B80', 'A31', 'D36', 'D15', 'C93', 'C78', 'D35',\n",
       "       'C87', 'B77', 'E67', 'B94', 'C125', 'C99', 'C118', 'D7', 'A19',\n",
       "       'B49', 'D', 'C22 C26', 'C106', 'C65', 'E36', 'C54',\n",
       "       'B57 B59 B63 B66', 'C7', 'E34', 'C32', 'B18', 'C124', 'C91', 'E40',\n",
       "       'T', 'C128', 'D37', 'B35', 'E50', 'C82', 'B96 B98', 'E10', 'E44',\n",
       "       'A34', 'C104', 'C111', 'C92', 'E38', 'D21', 'E12', 'E63', 'A14',\n",
       "       'B37', 'C30', 'D20', 'B79', 'E25', 'D46', 'B73', 'C95', 'B38',\n",
       "       'B39', 'B22', 'C86', 'C70', 'A16', 'C101', 'C68', 'A10', 'E68',\n",
       "       'B41', 'A20', 'D19', 'D50', 'D9', 'A23', 'B50', 'A26', 'D48',\n",
       "       'E58', 'C126', 'B71', 'B51 B53 B55', 'D49', 'B5', 'B20', 'F G63',\n",
       "       'C62 C64', 'E24', 'C90', 'C45', 'E8', 'B101', 'D45', 'C46', 'D30',\n",
       "       'E121', 'D11', 'E77', 'F38', 'B3', 'D6', 'B82 B84', 'D17', 'A36',\n",
       "       'B102', 'B69', 'E49', 'C47', 'D28', 'E17', 'A24', 'C50', 'B42',\n",
       "       'C148'], dtype=object)"
      ]
     },
     "execution_count": 82,
     "metadata": {},
     "output_type": "execute_result"
    }
   ],
   "source": [
    "train['Cabin'].unique()"
   ]
  },
  {
   "cell_type": "markdown",
   "id": "19808e82",
   "metadata": {
    "papermill": {
     "duration": 0.037824,
     "end_time": "2022-12-09T01:42:38.216100",
     "exception": false,
     "start_time": "2022-12-09T01:42:38.178276",
     "status": "completed"
    },
    "tags": []
   },
   "source": [
    "### Cabin이 nan값인 사람들은 U로 채우자. U는 단지 nan값을 나타내는 문자열이다.\n",
    "### 이를 Fare데이터와 비교해서 넣어도 좋을 것 같다. Fare의 nan값은 1개라서 일단 0으로 넣었다."
   ]
  },
  {
   "cell_type": "code",
   "execution_count": 83,
   "id": "1587d352",
   "metadata": {
    "execution": {
     "iopub.execute_input": "2022-12-09T01:42:38.293857Z",
     "iopub.status.busy": "2022-12-09T01:42:38.292974Z",
     "iopub.status.idle": "2022-12-09T01:42:38.304759Z",
     "shell.execute_reply": "2022-12-09T01:42:38.303400Z"
    },
    "papermill": {
     "duration": 0.053511,
     "end_time": "2022-12-09T01:42:38.307460",
     "exception": false,
     "start_time": "2022-12-09T01:42:38.253949",
     "status": "completed"
    },
    "tags": []
   },
   "outputs": [],
   "source": [
    "for data in train_test_data:\n",
    "    data['Cabin'].fillna('U', inplace=True)\n",
    "    data['Cabin'] = data['Cabin'].apply(lambda x: x[0])\n",
    "    data['Cabin'].unique()\n",
    "    data['Fare'].fillna(0,inplace=True)\n",
    "    data['Fare'] = data['Fare'].apply(lambda x: int(x))"
   ]
  },
  {
   "cell_type": "markdown",
   "id": "a295014e",
   "metadata": {
    "papermill": {
     "duration": 0.037962,
     "end_time": "2022-12-09T01:42:38.385169",
     "exception": false,
     "start_time": "2022-12-09T01:42:38.347207",
     "status": "completed"
    },
    "tags": []
   },
   "source": [
    "### Cabin별로 생존비율 확인"
   ]
  },
  {
   "cell_type": "code",
   "execution_count": 84,
   "id": "5da0a8cb",
   "metadata": {
    "execution": {
     "iopub.execute_input": "2022-12-09T01:42:38.463508Z",
     "iopub.status.busy": "2022-12-09T01:42:38.463066Z",
     "iopub.status.idle": "2022-12-09T01:42:38.467574Z",
     "shell.execute_reply": "2022-12-09T01:42:38.466439Z"
    },
    "papermill": {
     "duration": 0.046959,
     "end_time": "2022-12-09T01:42:38.470162",
     "exception": false,
     "start_time": "2022-12-09T01:42:38.423203",
     "status": "completed"
    },
    "tags": []
   },
   "outputs": [],
   "source": [
    "# fig = plt.figure(figsize=(15,6))\n",
    "\n",
    "# i=1\n",
    "# for x in train['Cabin'].unique():\n",
    "#     fig.add_subplot(3, 6, i)\n",
    "#     plt.title('Cabin : {}'.format(x))\n",
    "#     train.Survived[train['Cabin'] == x].value_counts().plot(kind='pie')\n",
    "#     i += 1"
   ]
  },
  {
   "cell_type": "markdown",
   "id": "e176226a",
   "metadata": {
    "papermill": {
     "duration": 0.038053,
     "end_time": "2022-12-09T01:42:38.545897",
     "exception": false,
     "start_time": "2022-12-09T01:42:38.507844",
     "status": "completed"
    },
    "tags": []
   },
   "source": [
    "### Fare의 값도 너무 다양하다. 왜 그러지? 이에 대해서 궁금하다.\n",
    "일단 이를 그대로 처리하는 것은 힘들 것 같다. 이 또한 구간별로 나누어 생각해보자."
   ]
  },
  {
   "cell_type": "code",
   "execution_count": 85,
   "id": "978beef2",
   "metadata": {
    "execution": {
     "iopub.execute_input": "2022-12-09T01:42:38.624739Z",
     "iopub.status.busy": "2022-12-09T01:42:38.624303Z",
     "iopub.status.idle": "2022-12-09T01:42:38.634115Z",
     "shell.execute_reply": "2022-12-09T01:42:38.633274Z"
    },
    "papermill": {
     "duration": 0.051192,
     "end_time": "2022-12-09T01:42:38.636250",
     "exception": false,
     "start_time": "2022-12-09T01:42:38.585058",
     "status": "completed"
    },
    "tags": []
   },
   "outputs": [
    {
     "data": {
      "text/plain": [
       "array([  0.    ,   4.0125,   5.    ,   6.2375,   6.4375,   6.45  ,\n",
       "         6.4958,   6.75  ,   6.8583,   6.95  ,   6.975 ,   7.0458,\n",
       "         7.05  ,   7.0542,   7.125 ,   7.1417,   7.225 ,   7.2292,\n",
       "         7.25  ,   7.3125,   7.4958,   7.5208,   7.55  ,   7.6292,\n",
       "         7.65  ,   7.725 ,   7.7292,   7.7333,   7.7375,   7.7417,\n",
       "         7.75  ,   7.775 ,   7.7875,   7.7958,   7.8   ,   7.8292,\n",
       "         7.8542,   7.875 ,   7.8792,   7.8875,   7.8958,   7.925 ,\n",
       "         8.0292,   8.05  ,   8.1125,   8.1375,   8.1583,   8.3   ,\n",
       "         8.3625,   8.4042,   8.4333,   8.4583,   8.5167,   8.6542,\n",
       "         8.6625,   8.6833,   8.7125,   8.85  ,   9.    ,   9.2167,\n",
       "         9.225 ,   9.35  ,   9.475 ,   9.4833,   9.5   ,   9.5875,\n",
       "         9.825 ,   9.8375,   9.8417,   9.8458,  10.1708,  10.4625,\n",
       "        10.5   ,  10.5167,  11.1333,  11.2417,  11.5   ,  12.    ,\n",
       "        12.275 ,  12.2875,  12.35  ,  12.475 ,  12.525 ,  12.65  ,\n",
       "        12.875 ,  13.    ,  13.4167,  13.5   ,  13.7917,  13.8583,\n",
       "        13.8625,  14.    ,  14.1083,  14.4   ,  14.4542,  14.4583,\n",
       "        14.5   ,  15.    ,  15.0458,  15.05  ,  15.1   ,  15.2458,\n",
       "        15.5   ,  15.55  ,  15.7417,  15.75  ,  15.85  ,  15.9   ,\n",
       "        16.    ,  16.1   ,  16.7   ,  17.4   ,  17.8   ,  18.    ,\n",
       "        18.75  ,  18.7875,  19.2583,  19.5   ,  19.9667,  20.2125,\n",
       "        20.25  ,  20.525 ,  20.575 ,  21.    ,  21.075 ,  21.6792,\n",
       "        22.025 ,  22.3583,  22.525 ,  23.    ,  23.25  ,  23.45  ,\n",
       "        24.    ,  24.15  ,  25.4667,  25.5875,  25.925 ,  25.9292,\n",
       "        26.    ,  26.25  ,  26.2833,  26.2875,  26.3875,  26.55  ,\n",
       "        27.    ,  27.7208,  27.75  ,  27.9   ,  28.5   ,  28.7125,\n",
       "        29.    ,  29.125 ,  29.7   ,  30.    ,  30.0708,  30.5   ,\n",
       "        30.6958,  31.    ,  31.275 ,  31.3875,  32.3208,  32.5   ,\n",
       "        33.    ,  33.5   ,  34.0208,  34.375 ,  34.6542,  35.    ,\n",
       "        35.5   ,  36.75  ,  37.0042,  38.5   ,  39.    ,  39.4   ,\n",
       "        39.6   ,  39.6875,  40.125 ,  41.5792,  42.4   ,  46.9   ,\n",
       "        47.1   ,  49.5   ,  49.5042,  50.    ,  50.4958,  51.4792,\n",
       "        51.8625,  52.    ,  52.5542,  53.1   ,  55.    ,  55.4417,\n",
       "        55.9   ,  56.4958,  56.9292,  57.    ,  57.9792,  59.4   ,\n",
       "        61.175 ,  61.3792,  61.9792,  63.3583,  65.    ,  66.6   ,\n",
       "        69.3   ,  69.55  ,  71.    ,  71.2833,  73.5   ,  75.25  ,\n",
       "        76.2917,  76.7292,  77.2875,  77.9583,  78.2667,  78.85  ,\n",
       "        79.2   ,  79.65  ,  80.    ,  81.8583,  82.1708,  83.1583,\n",
       "        83.475 ,  86.5   ,  89.1042,  90.    ,  91.0792,  93.5   ,\n",
       "       106.425 , 108.9   , 110.8833, 113.275 , 120.    , 133.65  ,\n",
       "       134.5   , 135.6333, 146.5208, 151.55  , 153.4625, 164.8667,\n",
       "       211.3375, 211.5   , 221.7792, 227.525 , 247.5208, 262.375 ,\n",
       "       263.    , 512.3292])"
      ]
     },
     "execution_count": 85,
     "metadata": {},
     "output_type": "execute_result"
    }
   ],
   "source": [
    "temp = train['Fare'].unique()\n",
    "temp.sort()\n",
    "temp"
   ]
  },
  {
   "cell_type": "code",
   "execution_count": 86,
   "id": "e84a9fde",
   "metadata": {
    "execution": {
     "iopub.execute_input": "2022-12-09T01:42:38.716459Z",
     "iopub.status.busy": "2022-12-09T01:42:38.715725Z",
     "iopub.status.idle": "2022-12-09T01:42:38.727322Z",
     "shell.execute_reply": "2022-12-09T01:42:38.726358Z"
    },
    "papermill": {
     "duration": 0.054682,
     "end_time": "2022-12-09T01:42:38.729769",
     "exception": false,
     "start_time": "2022-12-09T01:42:38.675087",
     "status": "completed"
    },
    "tags": []
   },
   "outputs": [],
   "source": [
    "for dataset in train_test_data:\n",
    "    dataset.loc[ dataset['Fare']<=30, 'Fare'] = 0\n",
    "    dataset.loc[(dataset['Fare']>30)&(dataset['Fare']<=80), 'Fare'] = 1\n",
    "    dataset.loc[(dataset['Fare']>80)&(dataset['Fare']<=100), 'Fare'] = 2\n",
    "    dataset.loc[(dataset['Fare']>100), 'Fare'] = 3"
   ]
  },
  {
   "cell_type": "markdown",
   "id": "99e0dfaa",
   "metadata": {
    "papermill": {
     "duration": 0.038462,
     "end_time": "2022-12-09T01:42:38.807024",
     "exception": false,
     "start_time": "2022-12-09T01:42:38.768562",
     "status": "completed"
    },
    "tags": []
   },
   "source": [
    "### 아까 Cabin의 값을 U로 넣어준 사람들에게 존재하는 Cabin값으로 넣어주기 위해 각 Cabin별로 어떤 Fare범위가 가장 많은지 확인하고 해당 값으로 U값을 대체한다."
   ]
  },
  {
   "cell_type": "code",
   "execution_count": 87,
   "id": "58f7ecae",
   "metadata": {
    "execution": {
     "iopub.execute_input": "2022-12-09T01:42:38.885342Z",
     "iopub.status.busy": "2022-12-09T01:42:38.884627Z",
     "iopub.status.idle": "2022-12-09T01:42:38.888724Z",
     "shell.execute_reply": "2022-12-09T01:42:38.887916Z"
    },
    "papermill": {
     "duration": 0.045834,
     "end_time": "2022-12-09T01:42:38.891340",
     "exception": false,
     "start_time": "2022-12-09T01:42:38.845506",
     "status": "completed"
    },
    "tags": []
   },
   "outputs": [],
   "source": [
    "# fig = plt.figure(figsize=(15,6))\n",
    "\n",
    "# i=1\n",
    "# for x in train['Cabin'].unique():\n",
    "#     fig.add_subplot(3, 6, i)\n",
    "#     plt.title('Cabin : {}'.format(x))\n",
    "#     train.Fare[train['Cabin'] == x].value_counts().plot(kind='pie')\n",
    "#     i += 1"
   ]
  },
  {
   "cell_type": "code",
   "execution_count": 88,
   "id": "484de4cd",
   "metadata": {
    "execution": {
     "iopub.execute_input": "2022-12-09T01:42:38.971889Z",
     "iopub.status.busy": "2022-12-09T01:42:38.971125Z",
     "iopub.status.idle": "2022-12-09T01:42:38.985851Z",
     "shell.execute_reply": "2022-12-09T01:42:38.984341Z"
    },
    "papermill": {
     "duration": 0.058107,
     "end_time": "2022-12-09T01:42:38.988818",
     "exception": false,
     "start_time": "2022-12-09T01:42:38.930711",
     "status": "completed"
    },
    "tags": []
   },
   "outputs": [],
   "source": [
    "for dataset in train_test_data:\n",
    "    dataset.loc[(dataset['Cabin'] == 'U')&(dataset['Fare'] == 0), 'Cabin'] = 'G'\n",
    "    dataset.loc[(dataset['Cabin'] == 'U')&(dataset['Fare'] == 1), 'Cabin'] = 'T'\n",
    "    dataset.loc[(dataset['Cabin'] == 'U')&(dataset['Fare'] == 2), 'Cabin'] = 'C'\n",
    "    dataset.loc[(dataset['Cabin'] == 'U')&(dataset['Fare'] == 3), 'Cabin'] = 'B'"
   ]
  },
  {
   "cell_type": "code",
   "execution_count": 89,
   "id": "812a26bb",
   "metadata": {
    "execution": {
     "iopub.execute_input": "2022-12-09T01:42:39.067351Z",
     "iopub.status.busy": "2022-12-09T01:42:39.066860Z",
     "iopub.status.idle": "2022-12-09T01:42:39.071469Z",
     "shell.execute_reply": "2022-12-09T01:42:39.070521Z"
    },
    "papermill": {
     "duration": 0.045853,
     "end_time": "2022-12-09T01:42:39.073526",
     "exception": false,
     "start_time": "2022-12-09T01:42:39.027673",
     "status": "completed"
    },
    "tags": []
   },
   "outputs": [],
   "source": [
    "# fig = plt.figure(figsize=(15,6))\n",
    "\n",
    "# i=1\n",
    "# for x in train['Cabin'].unique():\n",
    "#     fig.add_subplot(3, 6, i)\n",
    "#     plt.title('Cabin : {}'.format(x))\n",
    "#     train.Fare[train['Cabin'] == x].value_counts().plot(kind='pie')\n",
    "#     i += 1"
   ]
  },
  {
   "cell_type": "markdown",
   "id": "88370814",
   "metadata": {
    "papermill": {
     "duration": 0.037985,
     "end_time": "2022-12-09T01:42:39.150254",
     "exception": false,
     "start_time": "2022-12-09T01:42:39.112269",
     "status": "completed"
    },
    "tags": []
   },
   "source": [
    "### Cabin의 값 별로 생존여부 확인"
   ]
  },
  {
   "cell_type": "code",
   "execution_count": 90,
   "id": "01cb6fd3",
   "metadata": {
    "execution": {
     "iopub.execute_input": "2022-12-09T01:42:39.228373Z",
     "iopub.status.busy": "2022-12-09T01:42:39.227621Z",
     "iopub.status.idle": "2022-12-09T01:42:39.232091Z",
     "shell.execute_reply": "2022-12-09T01:42:39.231187Z"
    },
    "papermill": {
     "duration": 0.045918,
     "end_time": "2022-12-09T01:42:39.234408",
     "exception": false,
     "start_time": "2022-12-09T01:42:39.188490",
     "status": "completed"
    },
    "tags": []
   },
   "outputs": [],
   "source": [
    "# fig = plt.figure(figsize=(15,6))\n",
    "\n",
    "# i=1\n",
    "# for x in train['Cabin'].unique():\n",
    "#     fig.add_subplot(3, 6, i)\n",
    "#     plt.title('Cabin : {}'.format(x))\n",
    "#     train.Survived[train['Cabin'] == x].value_counts().plot(kind='pie')\n",
    "#     i += 1"
   ]
  },
  {
   "cell_type": "code",
   "execution_count": 91,
   "id": "b8a71150",
   "metadata": {
    "execution": {
     "iopub.execute_input": "2022-12-09T01:42:39.312979Z",
     "iopub.status.busy": "2022-12-09T01:42:39.312213Z",
     "iopub.status.idle": "2022-12-09T01:42:39.331253Z",
     "shell.execute_reply": "2022-12-09T01:42:39.330174Z"
    },
    "papermill": {
     "duration": 0.061236,
     "end_time": "2022-12-09T01:42:39.333858",
     "exception": false,
     "start_time": "2022-12-09T01:42:39.272622",
     "status": "completed"
    },
    "tags": []
   },
   "outputs": [],
   "source": [
    "for dataset in train_test_data:\n",
    "    dataset.loc[(dataset['Cabin'] == 'G'), 'Cabin_point'] = 0\n",
    "    dataset.loc[(dataset['Cabin'] == 'C'), 'Cabin_point'] = 3\n",
    "    dataset.loc[(dataset['Cabin'] == 'E'), 'Cabin_point'] = 5\n",
    "    dataset.loc[(dataset['Cabin'] == 'T'), 'Cabin_point'] = 1\n",
    "    dataset.loc[(dataset['Cabin'] == 'D'), 'Cabin_point'] = 7\n",
    "    dataset.loc[(dataset['Cabin'] == 'A'), 'Cabin_point'] = 2\n",
    "    dataset.loc[(dataset['Cabin'] == 'B'), 'Cabin_point'] = 6\n",
    "    dataset.loc[(dataset['Cabin'] == 'F'), 'Cabin_point'] = 4"
   ]
  },
  {
   "cell_type": "code",
   "execution_count": 92,
   "id": "d322d61f",
   "metadata": {
    "execution": {
     "iopub.execute_input": "2022-12-09T01:42:39.413042Z",
     "iopub.status.busy": "2022-12-09T01:42:39.412549Z",
     "iopub.status.idle": "2022-12-09T01:42:39.428066Z",
     "shell.execute_reply": "2022-12-09T01:42:39.426899Z"
    },
    "papermill": {
     "duration": 0.056955,
     "end_time": "2022-12-09T01:42:39.430569",
     "exception": false,
     "start_time": "2022-12-09T01:42:39.373614",
     "status": "completed"
    },
    "tags": []
   },
   "outputs": [
    {
     "data": {
      "text/html": [
       "<div>\n",
       "<style scoped>\n",
       "    .dataframe tbody tr th:only-of-type {\n",
       "        vertical-align: middle;\n",
       "    }\n",
       "\n",
       "    .dataframe tbody tr th {\n",
       "        vertical-align: top;\n",
       "    }\n",
       "\n",
       "    .dataframe thead th {\n",
       "        text-align: right;\n",
       "    }\n",
       "</style>\n",
       "<table border=\"1\" class=\"dataframe\">\n",
       "  <thead>\n",
       "    <tr style=\"text-align: right;\">\n",
       "      <th></th>\n",
       "      <th>Survived</th>\n",
       "      <th>Pclass</th>\n",
       "      <th>Name</th>\n",
       "      <th>Sex</th>\n",
       "      <th>Age</th>\n",
       "      <th>Ticket</th>\n",
       "      <th>Fare</th>\n",
       "      <th>Cabin</th>\n",
       "      <th>Embarked</th>\n",
       "      <th>age_point</th>\n",
       "    </tr>\n",
       "  </thead>\n",
       "  <tbody>\n",
       "    <tr>\n",
       "      <th>0</th>\n",
       "      <td>0</td>\n",
       "      <td>3</td>\n",
       "      <td>1</td>\n",
       "      <td>1</td>\n",
       "      <td>3.0</td>\n",
       "      <td>A/5 21171</td>\n",
       "      <td>7.2500</td>\n",
       "      <td>NaN</td>\n",
       "      <td>0</td>\n",
       "      <td>4</td>\n",
       "    </tr>\n",
       "    <tr>\n",
       "      <th>1</th>\n",
       "      <td>1</td>\n",
       "      <td>1</td>\n",
       "      <td>6</td>\n",
       "      <td>0</td>\n",
       "      <td>6.0</td>\n",
       "      <td>PC 17599</td>\n",
       "      <td>71.2833</td>\n",
       "      <td>C85</td>\n",
       "      <td>1</td>\n",
       "      <td>3</td>\n",
       "    </tr>\n",
       "    <tr>\n",
       "      <th>2</th>\n",
       "      <td>1</td>\n",
       "      <td>3</td>\n",
       "      <td>5</td>\n",
       "      <td>0</td>\n",
       "      <td>3.0</td>\n",
       "      <td>STON/O2. 3101282</td>\n",
       "      <td>7.9250</td>\n",
       "      <td>NaN</td>\n",
       "      <td>0</td>\n",
       "      <td>4</td>\n",
       "    </tr>\n",
       "    <tr>\n",
       "      <th>3</th>\n",
       "      <td>1</td>\n",
       "      <td>1</td>\n",
       "      <td>6</td>\n",
       "      <td>0</td>\n",
       "      <td>5.0</td>\n",
       "      <td>113803</td>\n",
       "      <td>53.1000</td>\n",
       "      <td>C123</td>\n",
       "      <td>0</td>\n",
       "      <td>7</td>\n",
       "    </tr>\n",
       "    <tr>\n",
       "      <th>4</th>\n",
       "      <td>0</td>\n",
       "      <td>3</td>\n",
       "      <td>1</td>\n",
       "      <td>1</td>\n",
       "      <td>5.0</td>\n",
       "      <td>373450</td>\n",
       "      <td>8.0500</td>\n",
       "      <td>NaN</td>\n",
       "      <td>0</td>\n",
       "      <td>7</td>\n",
       "    </tr>\n",
       "  </tbody>\n",
       "</table>\n",
       "</div>"
      ],
      "text/plain": [
       "   Survived  Pclass  Name  Sex  Age            Ticket     Fare Cabin  \\\n",
       "0         0       3     1    1  3.0         A/5 21171   7.2500   NaN   \n",
       "1         1       1     6    0  6.0          PC 17599  71.2833   C85   \n",
       "2         1       3     5    0  3.0  STON/O2. 3101282   7.9250   NaN   \n",
       "3         1       1     6    0  5.0            113803  53.1000  C123   \n",
       "4         0       3     1    1  5.0            373450   8.0500   NaN   \n",
       "\n",
       "   Embarked  age_point  \n",
       "0         0          4  \n",
       "1         1          3  \n",
       "2         0          4  \n",
       "3         0          7  \n",
       "4         0          7  "
      ]
     },
     "execution_count": 92,
     "metadata": {},
     "output_type": "execute_result"
    }
   ],
   "source": [
    "train.head()"
   ]
  },
  {
   "cell_type": "markdown",
   "id": "3f654c54",
   "metadata": {
    "papermill": {
     "duration": 0.03767,
     "end_time": "2022-12-09T01:42:39.506143",
     "exception": false,
     "start_time": "2022-12-09T01:42:39.468473",
     "status": "completed"
    },
    "tags": []
   },
   "source": [
    "### Fare별로 생존여부확인 및 점수 대체"
   ]
  },
  {
   "cell_type": "code",
   "execution_count": 93,
   "id": "c634c116",
   "metadata": {
    "execution": {
     "iopub.execute_input": "2022-12-09T01:42:39.584213Z",
     "iopub.status.busy": "2022-12-09T01:42:39.583723Z",
     "iopub.status.idle": "2022-12-09T01:42:39.589447Z",
     "shell.execute_reply": "2022-12-09T01:42:39.588067Z"
    },
    "papermill": {
     "duration": 0.047927,
     "end_time": "2022-12-09T01:42:39.592186",
     "exception": false,
     "start_time": "2022-12-09T01:42:39.544259",
     "status": "completed"
    },
    "tags": []
   },
   "outputs": [],
   "source": [
    "# fig = plt.figure(figsize=(15,6))\n",
    "\n",
    "# i=1\n",
    "# for x in train['Fare'].unique():\n",
    "#     fig.add_subplot(3, 6, i)\n",
    "#     plt.title('Fare : {}'.format(x))\n",
    "#     train.Survived[train['Fare'] == x].value_counts().plot(kind='pie')\n",
    "#     i += 1"
   ]
  },
  {
   "cell_type": "code",
   "execution_count": 94,
   "id": "07ba66bb",
   "metadata": {
    "execution": {
     "iopub.execute_input": "2022-12-09T01:42:39.671093Z",
     "iopub.status.busy": "2022-12-09T01:42:39.670351Z",
     "iopub.status.idle": "2022-12-09T01:42:39.683432Z",
     "shell.execute_reply": "2022-12-09T01:42:39.682260Z"
    },
    "papermill": {
     "duration": 0.055154,
     "end_time": "2022-12-09T01:42:39.686129",
     "exception": false,
     "start_time": "2022-12-09T01:42:39.630975",
     "status": "completed"
    },
    "tags": []
   },
   "outputs": [],
   "source": [
    "for dataset in train_test_data:\n",
    "    dataset.loc[(dataset['Fare'] == 0), 'Fare_point'] = 0\n",
    "    dataset.loc[(dataset['Fare'] == 1), 'Fare_point'] = 1\n",
    "    dataset.loc[(dataset['Fare'] == 2), 'Fare_point'] = 3\n",
    "    dataset.loc[(dataset['Fare'] == 3), 'Fare_point'] = 2"
   ]
  },
  {
   "cell_type": "code",
   "execution_count": 95,
   "id": "c4216fd3",
   "metadata": {
    "execution": {
     "iopub.execute_input": "2022-12-09T01:42:39.765531Z",
     "iopub.status.busy": "2022-12-09T01:42:39.765093Z",
     "iopub.status.idle": "2022-12-09T01:42:39.770356Z",
     "shell.execute_reply": "2022-12-09T01:42:39.768799Z"
    },
    "papermill": {
     "duration": 0.047997,
     "end_time": "2022-12-09T01:42:39.772871",
     "exception": false,
     "start_time": "2022-12-09T01:42:39.724874",
     "status": "completed"
    },
    "tags": []
   },
   "outputs": [],
   "source": [
    "# for dataset in train_test_data:\n",
    "#     dataset['parent'] = 1\n",
    "#     dataset.loc[(dataset['Parch'] > 0) & (dataset['Age'] >= 4), 'parent'] = 0"
   ]
  },
  {
   "cell_type": "code",
   "execution_count": 96,
   "id": "3081caf3",
   "metadata": {
    "execution": {
     "iopub.execute_input": "2022-12-09T01:42:39.852014Z",
     "iopub.status.busy": "2022-12-09T01:42:39.851578Z",
     "iopub.status.idle": "2022-12-09T01:42:39.856441Z",
     "shell.execute_reply": "2022-12-09T01:42:39.855246Z"
    },
    "papermill": {
     "duration": 0.046567,
     "end_time": "2022-12-09T01:42:39.858703",
     "exception": false,
     "start_time": "2022-12-09T01:42:39.812136",
     "status": "completed"
    },
    "tags": []
   },
   "outputs": [],
   "source": [
    "# train.Survived[train['parent'] == 1].value_counts().plot(kind='pie')"
   ]
  },
  {
   "cell_type": "code",
   "execution_count": 97,
   "id": "25ca1311",
   "metadata": {
    "execution": {
     "iopub.execute_input": "2022-12-09T01:42:39.937386Z",
     "iopub.status.busy": "2022-12-09T01:42:39.936917Z",
     "iopub.status.idle": "2022-12-09T01:42:39.941648Z",
     "shell.execute_reply": "2022-12-09T01:42:39.940509Z"
    },
    "papermill": {
     "duration": 0.047341,
     "end_time": "2022-12-09T01:42:39.944439",
     "exception": false,
     "start_time": "2022-12-09T01:42:39.897098",
     "status": "completed"
    },
    "tags": []
   },
   "outputs": [],
   "source": [
    "# train.Survived[train['parent'] == 0].value_counts().plot(kind='pie')"
   ]
  },
  {
   "cell_type": "markdown",
   "id": "2a2b660c",
   "metadata": {
    "papermill": {
     "duration": 0.03787,
     "end_time": "2022-12-09T01:42:40.021040",
     "exception": false,
     "start_time": "2022-12-09T01:42:39.983170",
     "status": "completed"
    },
    "tags": []
   },
   "source": [
    "### 모든 값을 정규화? 한다. 정규화랑 좀 다른 것일지도 모른다. 해당 내용에 대해서는 한번 더 공부가 필요하다.\n",
    "단지 이것을 하지 않았을 때 보다 했을 때 결과가 더 좋았다.. 왜일까?"
   ]
  },
  {
   "cell_type": "code",
   "execution_count": 98,
   "id": "6c59f59b",
   "metadata": {
    "execution": {
     "iopub.execute_input": "2022-12-09T01:42:40.100795Z",
     "iopub.status.busy": "2022-12-09T01:42:40.100397Z",
     "iopub.status.idle": "2022-12-09T01:42:40.120005Z",
     "shell.execute_reply": "2022-12-09T01:42:40.119017Z"
    },
    "papermill": {
     "duration": 0.062353,
     "end_time": "2022-12-09T01:42:40.122750",
     "exception": false,
     "start_time": "2022-12-09T01:42:40.060397",
     "status": "completed"
    },
    "tags": []
   },
   "outputs": [],
   "source": [
    "from sklearn.preprocessing import StandardScaler\n",
    "for dataset in train_test_data:\n",
    "    dataset['Name'] = StandardScaler().fit_transform(dataset['Name'].values.reshape(-1, 1))\n",
    "    dataset['Sex'] = StandardScaler().fit_transform(dataset['Sex'].values.reshape(-1, 1))\n",
    "    dataset['Em_point'] = StandardScaler().fit_transform(dataset['Em_point'].values.reshape(-1, 1))\n",
    "    dataset['Cabin_point'] = StandardScaler().fit_transform(dataset['Cabin_point'].values.reshape(-1, 1))\n",
    "    dataset['Pclass_point'] = StandardScaler().fit_transform(dataset['Pclass_point'].values.reshape(-1, 1))\n",
    "    dataset['age_point'] = StandardScaler().fit_transform(dataset['age_point'].values.reshape(-1, 1))\n",
    "    dataset['Fare_point'] = StandardScaler().fit_transform(dataset['Fare_point'].values.reshape(-1, 1))"
   ]
  },
  {
   "cell_type": "markdown",
   "id": "ab2cbc38",
   "metadata": {
    "papermill": {
     "duration": 0.038518,
     "end_time": "2022-12-09T01:42:40.200779",
     "exception": false,
     "start_time": "2022-12-09T01:42:40.162261",
     "status": "completed"
    },
    "tags": []
   },
   "source": [
    "### 필요없는 속성 지우기"
   ]
  },
  {
   "cell_type": "code",
   "execution_count": 99,
   "id": "0d055631",
   "metadata": {
    "execution": {
     "iopub.execute_input": "2022-12-09T01:42:40.279438Z",
     "iopub.status.busy": "2022-12-09T01:42:40.278882Z",
     "iopub.status.idle": "2022-12-09T01:42:40.287155Z",
     "shell.execute_reply": "2022-12-09T01:42:40.285776Z"
    },
    "papermill": {
     "duration": 0.050506,
     "end_time": "2022-12-09T01:42:40.289732",
     "exception": false,
     "start_time": "2022-12-09T01:42:40.239226",
     "status": "completed"
    },
    "tags": []
   },
   "outputs": [],
   "source": [
    "train.drop(['Pclass','Ticket','Fare','Embarked','Cabin','Age'], axis=1, inplace=True)\n",
    "test.drop(['Pclass','Ticket','Fare','Embarked','Cabin','Age'], axis=1, inplace=True)"
   ]
  },
  {
   "cell_type": "code",
   "execution_count": 100,
   "id": "965b9292",
   "metadata": {
    "execution": {
     "iopub.execute_input": "2022-12-09T01:42:40.368865Z",
     "iopub.status.busy": "2022-12-09T01:42:40.367579Z",
     "iopub.status.idle": "2022-12-09T01:42:40.377944Z",
     "shell.execute_reply": "2022-12-09T01:42:40.377161Z"
    },
    "papermill": {
     "duration": 0.052228,
     "end_time": "2022-12-09T01:42:40.380159",
     "exception": false,
     "start_time": "2022-12-09T01:42:40.327931",
     "status": "completed"
    },
    "tags": []
   },
   "outputs": [
    {
     "data": {
      "text/html": [
       "<div>\n",
       "<style scoped>\n",
       "    .dataframe tbody tr th:only-of-type {\n",
       "        vertical-align: middle;\n",
       "    }\n",
       "\n",
       "    .dataframe tbody tr th {\n",
       "        vertical-align: top;\n",
       "    }\n",
       "\n",
       "    .dataframe thead th {\n",
       "        text-align: right;\n",
       "    }\n",
       "</style>\n",
       "<table border=\"1\" class=\"dataframe\">\n",
       "  <thead>\n",
       "    <tr style=\"text-align: right;\">\n",
       "      <th></th>\n",
       "      <th>Survived</th>\n",
       "      <th>Name</th>\n",
       "      <th>Sex</th>\n",
       "      <th>age_point</th>\n",
       "    </tr>\n",
       "  </thead>\n",
       "  <tbody>\n",
       "    <tr>\n",
       "      <th>0</th>\n",
       "      <td>0</td>\n",
       "      <td>1</td>\n",
       "      <td>1</td>\n",
       "      <td>4</td>\n",
       "    </tr>\n",
       "    <tr>\n",
       "      <th>1</th>\n",
       "      <td>1</td>\n",
       "      <td>6</td>\n",
       "      <td>0</td>\n",
       "      <td>3</td>\n",
       "    </tr>\n",
       "    <tr>\n",
       "      <th>2</th>\n",
       "      <td>1</td>\n",
       "      <td>5</td>\n",
       "      <td>0</td>\n",
       "      <td>4</td>\n",
       "    </tr>\n",
       "    <tr>\n",
       "      <th>3</th>\n",
       "      <td>1</td>\n",
       "      <td>6</td>\n",
       "      <td>0</td>\n",
       "      <td>7</td>\n",
       "    </tr>\n",
       "    <tr>\n",
       "      <th>4</th>\n",
       "      <td>0</td>\n",
       "      <td>1</td>\n",
       "      <td>1</td>\n",
       "      <td>7</td>\n",
       "    </tr>\n",
       "  </tbody>\n",
       "</table>\n",
       "</div>"
      ],
      "text/plain": [
       "   Survived  Name  Sex  age_point\n",
       "0         0     1    1          4\n",
       "1         1     6    0          3\n",
       "2         1     5    0          4\n",
       "3         1     6    0          7\n",
       "4         0     1    1          7"
      ]
     },
     "execution_count": 100,
     "metadata": {},
     "output_type": "execute_result"
    }
   ],
   "source": [
    "train.head()"
   ]
  },
  {
   "cell_type": "code",
   "execution_count": 101,
   "id": "81fc74de",
   "metadata": {
    "execution": {
     "iopub.execute_input": "2022-12-09T01:42:40.459415Z",
     "iopub.status.busy": "2022-12-09T01:42:40.458639Z",
     "iopub.status.idle": "2022-12-09T01:42:40.464290Z",
     "shell.execute_reply": "2022-12-09T01:42:40.463409Z"
    },
    "papermill": {
     "duration": 0.047516,
     "end_time": "2022-12-09T01:42:40.466546",
     "exception": false,
     "start_time": "2022-12-09T01:42:40.419030",
     "status": "completed"
    },
    "tags": []
   },
   "outputs": [],
   "source": [
    "train_data = train.drop('Survived', axis=1)\n",
    "target = train['Survived']"
   ]
  },
  {
   "cell_type": "code",
   "execution_count": 102,
   "id": "1ed4c39c",
   "metadata": {
    "execution": {
     "iopub.execute_input": "2022-12-09T01:42:40.545693Z",
     "iopub.status.busy": "2022-12-09T01:42:40.544903Z",
     "iopub.status.idle": "2022-12-09T01:42:40.555107Z",
     "shell.execute_reply": "2022-12-09T01:42:40.553888Z"
    },
    "papermill": {
     "duration": 0.052102,
     "end_time": "2022-12-09T01:42:40.557565",
     "exception": false,
     "start_time": "2022-12-09T01:42:40.505463",
     "status": "completed"
    },
    "tags": []
   },
   "outputs": [
    {
     "data": {
      "text/html": [
       "<div>\n",
       "<style scoped>\n",
       "    .dataframe tbody tr th:only-of-type {\n",
       "        vertical-align: middle;\n",
       "    }\n",
       "\n",
       "    .dataframe tbody tr th {\n",
       "        vertical-align: top;\n",
       "    }\n",
       "\n",
       "    .dataframe thead th {\n",
       "        text-align: right;\n",
       "    }\n",
       "</style>\n",
       "<table border=\"1\" class=\"dataframe\">\n",
       "  <thead>\n",
       "    <tr style=\"text-align: right;\">\n",
       "      <th></th>\n",
       "      <th>Name</th>\n",
       "      <th>Sex</th>\n",
       "      <th>age_point</th>\n",
       "    </tr>\n",
       "  </thead>\n",
       "  <tbody>\n",
       "    <tr>\n",
       "      <th>0</th>\n",
       "      <td>1</td>\n",
       "      <td>1</td>\n",
       "      <td>4</td>\n",
       "    </tr>\n",
       "    <tr>\n",
       "      <th>1</th>\n",
       "      <td>6</td>\n",
       "      <td>0</td>\n",
       "      <td>3</td>\n",
       "    </tr>\n",
       "    <tr>\n",
       "      <th>2</th>\n",
       "      <td>5</td>\n",
       "      <td>0</td>\n",
       "      <td>4</td>\n",
       "    </tr>\n",
       "    <tr>\n",
       "      <th>3</th>\n",
       "      <td>6</td>\n",
       "      <td>0</td>\n",
       "      <td>7</td>\n",
       "    </tr>\n",
       "    <tr>\n",
       "      <th>4</th>\n",
       "      <td>1</td>\n",
       "      <td>1</td>\n",
       "      <td>7</td>\n",
       "    </tr>\n",
       "  </tbody>\n",
       "</table>\n",
       "</div>"
      ],
      "text/plain": [
       "   Name  Sex  age_point\n",
       "0     1    1          4\n",
       "1     6    0          3\n",
       "2     5    0          4\n",
       "3     6    0          7\n",
       "4     1    1          7"
      ]
     },
     "execution_count": 102,
     "metadata": {},
     "output_type": "execute_result"
    }
   ],
   "source": [
    "train_data.head()"
   ]
  },
  {
   "cell_type": "code",
   "execution_count": 103,
   "id": "ffda743e",
   "metadata": {
    "execution": {
     "iopub.execute_input": "2022-12-09T01:42:40.638876Z",
     "iopub.status.busy": "2022-12-09T01:42:40.637722Z",
     "iopub.status.idle": "2022-12-09T01:42:40.648301Z",
     "shell.execute_reply": "2022-12-09T01:42:40.646669Z"
    },
    "papermill": {
     "duration": 0.054598,
     "end_time": "2022-12-09T01:42:40.651358",
     "exception": false,
     "start_time": "2022-12-09T01:42:40.596760",
     "status": "completed"
    },
    "tags": []
   },
   "outputs": [
    {
     "data": {
      "text/plain": [
       "0    0\n",
       "1    1\n",
       "2    1\n",
       "3    1\n",
       "4    0\n",
       "Name: Survived, dtype: int64"
      ]
     },
     "execution_count": 103,
     "metadata": {},
     "output_type": "execute_result"
    }
   ],
   "source": [
    "target.head()"
   ]
  },
  {
   "cell_type": "code",
   "execution_count": 104,
   "id": "b8ac4b90",
   "metadata": {
    "execution": {
     "iopub.execute_input": "2022-12-09T01:42:40.741838Z",
     "iopub.status.busy": "2022-12-09T01:42:40.741091Z",
     "iopub.status.idle": "2022-12-09T01:42:40.748000Z",
     "shell.execute_reply": "2022-12-09T01:42:40.746686Z"
    },
    "papermill": {
     "duration": 0.054092,
     "end_time": "2022-12-09T01:42:40.750224",
     "exception": false,
     "start_time": "2022-12-09T01:42:40.696132",
     "status": "completed"
    },
    "tags": []
   },
   "outputs": [
    {
     "data": {
      "text/plain": [
       "(418, 4)"
      ]
     },
     "execution_count": 104,
     "metadata": {},
     "output_type": "execute_result"
    }
   ],
   "source": [
    "test.shape"
   ]
  },
  {
   "cell_type": "code",
   "execution_count": 105,
   "id": "c46e32f2",
   "metadata": {
    "execution": {
     "iopub.execute_input": "2022-12-09T01:42:40.832320Z",
     "iopub.status.busy": "2022-12-09T01:42:40.831152Z",
     "iopub.status.idle": "2022-12-09T01:42:40.837680Z",
     "shell.execute_reply": "2022-12-09T01:42:40.836611Z"
    },
    "papermill": {
     "duration": 0.04986,
     "end_time": "2022-12-09T01:42:40.839798",
     "exception": false,
     "start_time": "2022-12-09T01:42:40.789938",
     "status": "completed"
    },
    "tags": []
   },
   "outputs": [
    {
     "data": {
      "text/plain": [
       "(891, 4)"
      ]
     },
     "execution_count": 105,
     "metadata": {},
     "output_type": "execute_result"
    }
   ],
   "source": [
    "train.shape"
   ]
  },
  {
   "cell_type": "code",
   "execution_count": 106,
   "id": "f0e45dee",
   "metadata": {
    "execution": {
     "iopub.execute_input": "2022-12-09T01:42:40.921287Z",
     "iopub.status.busy": "2022-12-09T01:42:40.920175Z",
     "iopub.status.idle": "2022-12-09T01:42:40.927705Z",
     "shell.execute_reply": "2022-12-09T01:42:40.926522Z"
    },
    "papermill": {
     "duration": 0.050673,
     "end_time": "2022-12-09T01:42:40.930040",
     "exception": false,
     "start_time": "2022-12-09T01:42:40.879367",
     "status": "completed"
    },
    "tags": []
   },
   "outputs": [
    {
     "data": {
      "text/plain": [
       "(891, 3)"
      ]
     },
     "execution_count": 106,
     "metadata": {},
     "output_type": "execute_result"
    }
   ],
   "source": [
    "train_data.shape"
   ]
  },
  {
   "cell_type": "markdown",
   "id": "c0ff23b0",
   "metadata": {
    "papermill": {
     "duration": 0.038262,
     "end_time": "2022-12-09T01:42:41.007550",
     "exception": false,
     "start_time": "2022-12-09T01:42:40.969288",
     "status": "completed"
    },
    "tags": []
   },
   "source": [
    "### SVC를 이용하여 결과를 만들었다."
   ]
  },
  {
   "cell_type": "code",
   "execution_count": 107,
   "id": "4b171547",
   "metadata": {
    "execution": {
     "iopub.execute_input": "2022-12-09T01:42:41.087088Z",
     "iopub.status.busy": "2022-12-09T01:42:41.086637Z",
     "iopub.status.idle": "2022-12-09T01:42:41.414247Z",
     "shell.execute_reply": "2022-12-09T01:42:41.413070Z"
    },
    "papermill": {
     "duration": 0.370908,
     "end_time": "2022-12-09T01:42:41.416924",
     "exception": false,
     "start_time": "2022-12-09T01:42:41.046016",
     "status": "completed"
    },
    "tags": []
   },
   "outputs": [
    {
     "data": {
      "text/html": [
       "<div>\n",
       "<style scoped>\n",
       "    .dataframe tbody tr th:only-of-type {\n",
       "        vertical-align: middle;\n",
       "    }\n",
       "\n",
       "    .dataframe tbody tr th {\n",
       "        vertical-align: top;\n",
       "    }\n",
       "\n",
       "    .dataframe thead th {\n",
       "        text-align: right;\n",
       "    }\n",
       "</style>\n",
       "<table border=\"1\" class=\"dataframe\">\n",
       "  <thead>\n",
       "    <tr style=\"text-align: right;\">\n",
       "      <th></th>\n",
       "      <th>PassengerId</th>\n",
       "      <th>Survived</th>\n",
       "    </tr>\n",
       "  </thead>\n",
       "  <tbody>\n",
       "    <tr>\n",
       "      <th>0</th>\n",
       "      <td>892</td>\n",
       "      <td>0</td>\n",
       "    </tr>\n",
       "    <tr>\n",
       "      <th>1</th>\n",
       "      <td>893</td>\n",
       "      <td>1</td>\n",
       "    </tr>\n",
       "    <tr>\n",
       "      <th>2</th>\n",
       "      <td>894</td>\n",
       "      <td>0</td>\n",
       "    </tr>\n",
       "    <tr>\n",
       "      <th>3</th>\n",
       "      <td>895</td>\n",
       "      <td>0</td>\n",
       "    </tr>\n",
       "    <tr>\n",
       "      <th>4</th>\n",
       "      <td>896</td>\n",
       "      <td>1</td>\n",
       "    </tr>\n",
       "  </tbody>\n",
       "</table>\n",
       "</div>"
      ],
      "text/plain": [
       "   PassengerId  Survived\n",
       "0          892         0\n",
       "1          893         1\n",
       "2          894         0\n",
       "3          895         0\n",
       "4          896         1"
      ]
     },
     "execution_count": 107,
     "metadata": {},
     "output_type": "execute_result"
    }
   ],
   "source": [
    "\n",
    "# Importing Classifier Modules# Import \n",
    "from sklearn.neighbors import KNeighborsClassifier\n",
    "from sklearn.tree import DecisionTreeClassifier\n",
    "from sklearn.ensemble import RandomForestClassifier\n",
    "from sklearn.naive_bayes import GaussianNB\n",
    "from sklearn.svm import SVC\n",
    "\n",
    "import numpy as np\n",
    "from sklearn.model_selection import KFold\n",
    "from sklearn.model_selection import cross_val_score\n",
    "k_fold = KFold(n_splits=10, shuffle=True, random_state=0)\n",
    "clf = SVC()\n",
    "# clf = DecisionTreeClassifier()\n",
    "clf.fit(train_data, target)\n",
    "\n",
    "test_data = test.drop(\"PassengerId\", axis=1).copy()\n",
    "prediction = clf.predict(test_data)\n",
    "submission = pd.DataFrame({\n",
    "        \"PassengerId\": test[\"PassengerId\"],\n",
    "        \"Survived\": prediction\n",
    "    })\n",
    "\n",
    "submission.to_csv('submission.csv', index=False)\n",
    "submission = pd.read_csv('submission.csv')\n",
    "submission.head()"
   ]
  }
 ],
 "metadata": {
  "kernelspec": {
   "display_name": "Python 3",
   "language": "python",
   "name": "python3"
  },
  "language_info": {
   "codemirror_mode": {
    "name": "ipython",
    "version": 3
   },
   "file_extension": ".py",
   "mimetype": "text/x-python",
   "name": "python",
   "nbconvert_exporter": "python",
   "pygments_lexer": "ipython3",
   "version": "3.7.12"
  },
  "papermill": {
   "default_parameters": {},
   "duration": 27.137044,
   "end_time": "2022-12-09T01:42:42.280834",
   "environment_variables": {},
   "exception": null,
   "input_path": "__notebook__.ipynb",
   "output_path": "__notebook__.ipynb",
   "parameters": {},
   "start_time": "2022-12-09T01:42:15.143790",
   "version": "2.3.4"
  }
 },
 "nbformat": 4,
 "nbformat_minor": 5
}
